{
 "cells": [
  {
   "cell_type": "code",
   "execution_count": 1,
   "metadata": {},
   "outputs": [
    {
     "name": "stdout",
     "output_type": "stream",
     "text": [
      "Starting run...\n"
     ]
    }
   ],
   "source": [
    "print(\"Starting run...\")"
   ]
  },
  {
   "cell_type": "code",
   "execution_count": 2,
   "metadata": {
    "executionInfo": {
     "elapsed": 2185,
     "status": "ok",
     "timestamp": 1726008448495,
     "user": {
      "displayName": "Michael McCoy",
      "userId": "05429933347557950115"
     },
     "user_tz": 420
    },
    "id": "TF6ZMxWciQyH"
   },
   "outputs": [],
   "source": [
    "#@title import packages\n",
    "import re\n",
    "import dotenv\n",
    "import torch\n",
    "from tqdm import tqdm\n",
    "#from google.colab import drive, files\n",
    "import pandas as pd\n",
    "import json\n",
    "import sys\n",
    "import numpy as np\n",
    "import os\n",
    "#from google.colab import userdata\n",
    "import glob\n"
   ]
  },
  {
   "cell_type": "code",
   "execution_count": 3,
   "metadata": {
    "colab": {
     "base_uri": "https://localhost:8080/"
    },
    "executionInfo": {
     "elapsed": 4726,
     "status": "ok",
     "timestamp": 1726008453213,
     "user": {
      "displayName": "Michael McCoy",
      "userId": "05429933347557950115"
     },
     "user_tz": 420
    },
    "id": "jzdE0ujqR6eV",
    "outputId": "107879b0-f55a-4547-d2ed-b425fbeae64f"
   },
   "outputs": [],
   "source": [
    "%load_ext autoreload\n",
    "%autoreload 2\n",
    "import logging\n",
    "logging.basicConfig(level=\"DEBUG\")"
   ]
  },
  {
   "cell_type": "code",
   "execution_count": 4,
   "metadata": {
    "executionInfo": {
     "elapsed": 2037,
     "status": "ok",
     "timestamp": 1726008457568,
     "user": {
      "displayName": "Michael McCoy",
      "userId": "05429933347557950115"
     },
     "user_tz": 420
    },
    "id": "Opu2IImN2H8c"
   },
   "outputs": [
    {
     "name": "stderr",
     "output_type": "stream",
     "text": [
      "DEBUG:src.data:no paths provided, using default data dir: /workspace/data\n",
      "DEBUG:src.data:/workspace/data is directory, globbing for json files...\n",
      "DEBUG:src.data:found relation file: /workspace/data/anon-2024/has_color.json\n",
      "DEBUG:src.data:found relation file: /workspace/data/bias/characteristic_gender.json\n",
      "DEBUG:src.data:found relation file: /workspace/data/bias/degree_gender.json\n",
      "DEBUG:src.data:found relation file: /workspace/data/bias/name_birthplace.json\n",
      "DEBUG:src.data:found relation file: /workspace/data/bias/name_gender.json\n",
      "DEBUG:src.data:found relation file: /workspace/data/bias/name_religion.json\n",
      "DEBUG:src.data:found relation file: /workspace/data/bias/occupation_age.json\n",
      "DEBUG:src.data:found relation file: /workspace/data/bias/occupation_gender.json\n",
      "DEBUG:src.data:found relation file: /workspace/data/commonsense/fruit_inside_color.json\n",
      "DEBUG:src.data:found relation file: /workspace/data/commonsense/fruit_outside_color.json\n",
      "DEBUG:src.data:found relation file: /workspace/data/commonsense/object_superclass.json\n",
      "DEBUG:src.data:found relation file: /workspace/data/commonsense/substance_phase.json\n",
      "DEBUG:src.data:found relation file: /workspace/data/commonsense/task_done_by_person.json\n",
      "DEBUG:src.data:found relation file: /workspace/data/commonsense/task_done_by_tool.json\n",
      "DEBUG:src.data:found relation file: /workspace/data/commonsense/word_sentiment.json\n",
      "DEBUG:src.data:found relation file: /workspace/data/commonsense/work_location.json\n",
      "DEBUG:src.data:found relation file: /workspace/data/factual/city_in_country.json\n",
      "DEBUG:src.data:found relation file: /workspace/data/factual/company_ceo.json\n",
      "DEBUG:src.data:found relation file: /workspace/data/factual/company_hq.json\n",
      "DEBUG:src.data:found relation file: /workspace/data/factual/country_capital_city.json\n",
      "DEBUG:src.data:found relation file: /workspace/data/factual/country_currency.json\n",
      "DEBUG:src.data:found relation file: /workspace/data/factual/country_language.json\n",
      "DEBUG:src.data:found relation file: /workspace/data/factual/country_largest_city.json\n",
      "DEBUG:src.data:found relation file: /workspace/data/factual/food_from_country.json\n",
      "DEBUG:src.data:found relation file: /workspace/data/factual/landmark_in_country.json\n",
      "DEBUG:src.data:found relation file: /workspace/data/factual/landmark_on_continent.json\n",
      "DEBUG:src.data:found relation file: /workspace/data/factual/person_band_lead_singer.json\n",
      "DEBUG:src.data:found relation file: /workspace/data/factual/person_father.json\n",
      "DEBUG:src.data:found relation file: /workspace/data/factual/person_mother.json\n",
      "DEBUG:src.data:found relation file: /workspace/data/factual/person_native_language.json\n",
      "DEBUG:src.data:found relation file: /workspace/data/factual/person_occupation.json\n",
      "DEBUG:src.data:found relation file: /workspace/data/factual/person_plays_instrument.json\n",
      "DEBUG:src.data:found relation file: /workspace/data/factual/person_plays_position_in_sport.json\n",
      "DEBUG:src.data:found relation file: /workspace/data/factual/person_plays_pro_sport.json\n",
      "DEBUG:src.data:found relation file: /workspace/data/factual/person_university.json\n",
      "DEBUG:src.data:found relation file: /workspace/data/factual/pokemon_evolutions.json\n",
      "DEBUG:src.data:found relation file: /workspace/data/factual/presidents_birth_year.json\n",
      "DEBUG:src.data:found relation file: /workspace/data/factual/presidents_election_year.json\n",
      "DEBUG:src.data:found relation file: /workspace/data/factual/product_by_company.json\n",
      "DEBUG:src.data:found relation file: /workspace/data/factual/star_constellation.json\n",
      "DEBUG:src.data:found relation file: /workspace/data/factual/superhero_archnemesis.json\n",
      "DEBUG:src.data:found relation file: /workspace/data/factual/superhero_person.json\n",
      "DEBUG:src.data:found relation file: /workspace/data/linguistic/adj_antonym.json\n",
      "DEBUG:src.data:found relation file: /workspace/data/linguistic/adj_comparative.json\n",
      "DEBUG:src.data:found relation file: /workspace/data/linguistic/adj_superlative.json\n",
      "DEBUG:src.data:found relation file: /workspace/data/linguistic/verb_past_tense.json\n",
      "DEBUG:src.data:found relation file: /workspace/data/linguistic/word_first_letter.json\n",
      "DEBUG:src.data:found relation file: /workspace/data/linguistic/word_last_letter.json\n",
      "DEBUG:src.data:found 48 relation files total, loading...\n",
      "DEBUG:src.data:found relation file: /tmp/tmpf84tu78s.json\n",
      "DEBUG:src.data:found 1 relation files total, loading...\n"
     ]
    }
   ],
   "source": [
    "from src import data\n",
    "\n",
    "from src.data import load_relation_dict, load_dataset, RelationDataset\n",
    "from tempfile import NamedTemporaryFile\n",
    "import json\n",
    "\n",
    "\n",
    "json_file = \"../../data/anon-2024/has_color.json\"\n",
    "with open(json_file) as f:\n",
    "    relation_json = json.load(f)\n",
    "\n",
    "if \"prompt_templates_zs\" not in relation_json:\n",
    "    relation_json[\"prompt_templates_zs\"] = relation_json[\"prompt_templates\"]\n",
    "\n",
    "dataset_orig = data.load_dataset()\n",
    "\n",
    "with NamedTemporaryFile(suffix=\".json\", mode=\"w\") as f:\n",
    "    json.dump(relation_json, f)\n",
    "    f.flush()\n",
    "    dataset_new = load_dataset(f.name)\n",
    "\n",
    "dataset = RelationDataset(dataset_orig.relations + dataset_new.relations)"
   ]
  },
  {
   "cell_type": "code",
   "execution_count": 5,
   "metadata": {
    "executionInfo": {
     "elapsed": 11,
     "status": "ok",
     "timestamp": 1726008457568,
     "user": {
      "displayName": "Michael McCoy",
      "userId": "05429933347557950115"
     },
     "user_tz": 420
    },
    "id": "NqORXrcfi5_-"
   },
   "outputs": [],
   "source": [
    "#@title set paths\n",
    "sys.path.append('/content/drive/Shareddrives/MoralLearning/RelationalComposition/')\n",
    "dotenv.load_dotenv('vars.env')\n",
    "root_path = '/content/drive/Shareddrives/MoralLearning/RelationalComposition/'\n",
    "repo_path = f'{root_path}relations/'\n",
    "sys.path.append(repo_path)\n",
    "sys.path.append(repo_path+'/src/')\n",
    "data_path = f'{root_path}data/'"
   ]
  },
  {
   "cell_type": "code",
   "execution_count": 6,
   "metadata": {
    "executionInfo": {
     "elapsed": 9,
     "status": "ok",
     "timestamp": 1726008457568,
     "user": {
      "displayName": "Michael McCoy",
      "userId": "05429933347557950115"
     },
     "user_tz": 420
    },
    "id": "PRXqauPQi_uX"
   },
   "outputs": [],
   "source": [
    "#@title load local packages\n",
    "from src import data\n",
    "from src.data import load_relation_dict, load_dataset, RelationDataset\n",
    "from tempfile import NamedTemporaryFile\n",
    "\n"
   ]
  },
  {
   "cell_type": "code",
   "execution_count": 7,
   "metadata": {
    "colab": {
     "base_uri": "https://localhost:8080/"
    },
    "executionInfo": {
     "elapsed": 4942,
     "status": "ok",
     "timestamp": 1726008462501,
     "user": {
      "displayName": "Michael McCoy",
      "userId": "05429933347557950115"
     },
     "user_tz": 420
    },
    "id": "yiSWAgQT73SF",
    "outputId": "f335f627-6998-49fe-9d66-34637ada5b20"
   },
   "outputs": [
    {
     "name": "stdout",
     "output_type": "stream",
     "text": [
      "Loading has_color_metadata.pt\n"
     ]
    },
    {
     "data": {
      "text/plain": [
       "dict_keys(['has_color', 'commit_hash'])"
      ]
     },
     "execution_count": 7,
     "metadata": {},
     "output_type": "execute_result"
    }
   ],
   "source": [
    "# Load datafiles\n",
    "import torch\n",
    "import glob\n",
    "import os\n",
    "metadata_path = \"/workspace/metadata/with-examples/*color*.pt\"\n",
    "all_metadata = {}\n",
    "for metadata_file in glob.glob(metadata_path):\n",
    "    print(f\"Loading {os.path.basename(metadata_file)}\")\n",
    "    relation_to_metadata = torch.load(\n",
    "        metadata_file,\n",
    "        map_location=torch.device('cpu'),\n",
    "    )\n",
    "    all_metadata.update(relation_to_metadata)\n",
    "# The keys are the name of the relationship class\n",
    "all_metadata.keys()\n"
   ]
  },
  {
   "cell_type": "code",
   "execution_count": null,
   "metadata": {
    "executionInfo": {
     "elapsed": 29,
     "status": "ok",
     "timestamp": 1726008462501,
     "user": {
      "displayName": "Michael McCoy",
      "userId": "05429933347557950115"
     },
     "user_tz": 420
    },
    "id": "jhrmF_cqCIKZ"
   },
   "outputs": [],
   "source": []
  },
  {
   "cell_type": "code",
   "execution_count": 8,
   "metadata": {
    "executionInfo": {
     "elapsed": 26,
     "status": "ok",
     "timestamp": 1726008462501,
     "user": {
      "displayName": "Michael McCoy",
      "userId": "05429933347557950115"
     },
     "user_tz": 420
    },
    "id": "ZwTY_8_sqi0z"
   },
   "outputs": [
    {
     "name": "stderr",
     "output_type": "stream",
     "text": [
      "DEBUG:matplotlib:matplotlib data path: /usr/local/lib/python3.10/dist-packages/matplotlib/mpl-data\n",
      "DEBUG:matplotlib:CONFIGDIR=/home/mccoy/.config/matplotlib\n",
      "DEBUG:matplotlib:interactive is False\n",
      "DEBUG:matplotlib:platform is linux\n",
      "DEBUG:matplotlib:CACHEDIR=/home/mccoy/.cache/matplotlib\n",
      "DEBUG:matplotlib.font_manager:Using fontManager instance from /home/mccoy/.cache/matplotlib/fontlist-v330.json\n"
     ]
    }
   ],
   "source": [
    "#@title define some functions & classes\n",
    "from typing import List, Dict\n",
    "from torch import Tensor\n",
    "from src.data import RelationSample\n",
    "import numpy as np\n",
    "from dataclasses import dataclass\n",
    "import seaborn as sns\n",
    "import matplotlib.pyplot as plt\n",
    "from functools import cached_property\n",
    "from numpy import typing as npt\n",
    "from src.utils import experiment_utils\n",
    "from concurrent.futures import ProcessPoolExecutor\n",
    "\n",
    "from typing import TypedDict\n",
    "\n",
    "FAITHFULNESS_LEVEL = 2\n",
    "\n",
    "\n",
    "class SubjectFaithfulnessMetadata(TypedDict):\n",
    "    prediction_subject: str\n",
    "    \"\"\"Subject of the prediction.\"\"\"\n",
    "\n",
    "    faithfulness: List[float]\n",
    "    \"\"\"Faithfulness of the prediction.\"\"\"\n",
    "\n",
    "\n",
    "class FaithfulnessMetadata(TypedDict):\n",
    "    faithfulness: List[float]\n",
    "    \"\"\"Overall faithfulness.\"\"\"\n",
    "\n",
    "    subject: str\n",
    "    \"\"\"Subject of the faithfulness.\"\"\"\n",
    "\n",
    "    subject_faithfulness: List[SubjectFaithfulnessMetadata]\n",
    "    \"\"\"Faithfulness of each subject.\"\"\"\n",
    "\n",
    "\n",
    "\n",
    "@dataclass(frozen=True, kw_only=True)\n",
    "class SampleMetadata:\n",
    "    \"\"\"Metadata for a sample.\"\"\"\n",
    "    label: str\n",
    "    \"\"\"The label of the sample.\"\"\"\n",
    "\n",
    "    metadata: Dict[str, Tensor]\n",
    "    \"\"\"Contains all of the metadata for the sample.\"\"\"\n",
    "\n",
    "    @cached_property\n",
    "    def weight(self) -> npt.NDArray[np.float16]:\n",
    "        \"\"\"Return the weights of the sample.\n",
    "\n",
    "        This is the weight matrix of the sample, which is\n",
    "        called ``W`` in the paper.\n",
    "        \"\"\"\n",
    "        assert len(self.metadata['weights']) == 1, \\\n",
    "            f\"Weights should have one element, got {len(self.metadata['weights'])}\"\n",
    "        return self.metadata['weights'][0].numpy(force=True)\n",
    "\n",
    "    @cached_property\n",
    "    def z(self) -> npt.NDArray[np.float16]:\n",
    "        \"\"\"Return the ``z`` values of the sample.\n",
    "\n",
    "        This corresponds to the un-normalized output of the encoder,\n",
    "        and is the latent representation of the object, which is\n",
    "        called ``o`` in the paper.\n",
    "        \"\"\"\n",
    "        assert len(self.metadata['zs']) == 1, \\\n",
    "            f\"z should have one element, got {len(self.metadata['zs'])}\"\n",
    "\n",
    "        return self.metadata['zs'][0].numpy(force=True)\n",
    "\n",
    "    @cached_property\n",
    "    def h(self) -> npt.NDArray[np.float16]:\n",
    "        \"\"\"Return the ``h`` values of the sample.\n",
    "\n",
    "        This is the hidden layer values of the sample, which is\n",
    "        called ``s`` in the paper.\n",
    "        \"\"\"\n",
    "        assert len(self.metadata['hs']) == 1, \\\n",
    "            f\"h should have one element, got {len(self.metadata['hs'])}\"\n",
    "        return self.metadata['hs'][0].numpy(force=True)\n",
    "\n",
    "    @property\n",
    "    def faithfulness(self) -> npt.NDArray[float]:\n",
    "        \"\"\"Return the faithfulness of the sample.\n",
    "\n",
    "        Each element of the sequence is the faithfulness after\n",
    "        \"k\" guesses, i.e., the first element is the faithfulness\n",
    "        after 1 guess, the second element is the faithfulness\n",
    "        after 2 guesses, etc.\n",
    "\n",
    "        Note that this if multiple guesses are considered correct, it\n",
    "        possible for the faithfulness here to be > 1.0. For example,\n",
    "\n",
    "            a toad is in the class of {amph, amphibian}\n",
    "\n",
    "        counts as two different correct answers. In this case, we want\n",
    "        to give credit to models that are \"more correct\".\n",
    "        \"\"\"\n",
    "        assert 'faithfulness' in self.metadata, \\\n",
    "            f\"Faithfulness should be in the metadata, got {self.metadata.keys()}\"\n",
    "        return np.array(self.metadata['faithfulness']['faithfulness'])\n",
    "\n",
    "    @property\n",
    "    def faithfulness_metadata(self) -> FaithfulnessMetadata:\n",
    "        \"\"\"Return the faithfulness metadata of the sample.\"\"\"\n",
    "        assert 'faithfulness' in self.metadata, \\\n",
    "            f\"Faithfulness should be in the metadata, got {self.metadata.keys()}\"\n",
    "        return self.metadata['faithfulness']\n",
    "\n",
    "dist_function = lambda X, Y: np.sqrt(((X-Y).astype(np.float32)**2).sum())\n",
    "\n",
    "# Function to calculate distance between weights[i] and weights[j]\n",
    "def calc_distance_pair(args):\n",
    "    i, j, weights_i, weights_j = args\n",
    "    return i, j, dist_function(weights_i, weights_j)\n",
    "\n",
    "@dataclass(frozen=True, kw_only=True)\n",
    "class RelationMetadata:\n",
    "    \"\"\"Metadata for a relation.\"\"\"\n",
    "\n",
    "    relation: RelationSample\n",
    "    metadata: List[Dict[str, Tensor]]\n",
    "\n",
    "    @property\n",
    "    def name(self):\n",
    "        \"\"\"Return the name of the relation.\"\"\"\n",
    "        return self.relation.name\n",
    "\n",
    "    @property\n",
    "    def labels(self) -> List[str]:\n",
    "        \"\"\"Return the labels of the samples.\"\"\"\n",
    "        return [str(s) for s in self.relation.samples]\n",
    "\n",
    "    @property\n",
    "    def weights(self) -> List[npt.NDArray]:\n",
    "        \"\"\"Return the weights of the samples.\"\"\"\n",
    "        return [m.weight for m in self.samples]\n",
    "\n",
    "    @cached_property\n",
    "    def samples(self) -> List[RelationSample]:\n",
    "        \"\"\"Return the relation samples.\"\"\"\n",
    "        assert len(self.relation.samples) == len(self.metadata), \\\n",
    "            f\"Samples and metadata must be the same length, got \" \\\n",
    "            f\"{len(self.relation.samples)} and {len(self.metadata)}\"\n",
    "        return [\n",
    "            SampleMetadata(\n",
    "                label=str(s),\n",
    "                metadata=m,\n",
    "            )\n",
    "            for s, m in zip(self.relation.samples, self.metadata)\n",
    "        ]\n",
    "\n",
    "\n",
    "    @cached_property\n",
    "    def w_dists(self) -> npt.NDArray[np.float32]:\n",
    "        \"\"\"Compute the distance matrix of the weights.\"\"\"\n",
    "        num_labels = len(self.labels)\n",
    "        dists = np.zeros((num_labels, num_labels))\n",
    "\n",
    "\n",
    "        # Create all pairs (i, j) where i < j\n",
    "        pairs = [(i, j, self.weights[i], self.weights[j]) for i in range(num_labels) for j in range(i+1, num_labels)]\n",
    "\n",
    "        # Process pairs in parallel\n",
    "        with ProcessPoolExecutor(max_workers=8) as executor:\n",
    "            results = executor.map(calc_distance_pair, pairs)\n",
    "\n",
    "        # Fill the symmetric matrix\n",
    "        for i, j, dist in results:\n",
    "            dists[i, j] = dist\n",
    "            dists[j, i] = dist\n",
    "        return dists\n",
    "\n",
    "    @cached_property\n",
    "    def _w_dists_old(self):\n",
    "        \"\"\"Return the distance function.\"\"\"\n",
    "        labels = self.labels\n",
    "        weights = self.weights\n",
    "        assert len(weights) == len(labels), f\"Weights and labels must be the same length, got {len(weights)} and {len(labels)}\"\n",
    "        # Create a square matrix of the distances\n",
    "        dists = np.zeros((len(labels), len(labels)))\n",
    "        for i in range(len(labels)):\n",
    "            for j in range(len(labels)):\n",
    "                if i >= j:\n",
    "                    continue\n",
    "                dists[i, j] = dist_function(weights[i], weights[j])\n",
    "                dists[j, i] = dists[i, j]\n",
    "        return dists\n",
    "\n",
    "    @cached_property\n",
    "    def o_dists(self) -> npt.NDArray[np.float32]:\n",
    "        \"\"\"Compute the distance matrix of the object (z) activations.\"\"\"\n",
    "        labels = self.labels\n",
    "        all_sz = [s.z for s in self.samples]\n",
    "        assert len(all_sz) == len(labels), f\"Weights and labels must be the same length, got {len(all_sz)} and {len(labels)}\"\n",
    "        dist_function = lambda X, Y: np.sqrt(((X-Y).astype(np.float32)**2).sum())\n",
    "        # Create a square matrix of the distances\n",
    "        dists = np.zeros((len(labels), len(labels)))\n",
    "        for i in range(len(labels)):\n",
    "            for j in range(len(labels)):\n",
    "                if i >= j:\n",
    "                    continue\n",
    "                dists[i, j] = dist_function(all_sz[i], all_sz[j])\n",
    "                dists[j, i] = dists[i, j]\n",
    "        return dists\n",
    "\n",
    "    @cached_property\n",
    "    def s_dists(self) -> npt.NDArray[np.float32]:\n",
    "        \"\"\"Compute the distance matrix of the subject (h) activations.\"\"\"\n",
    "        labels = self.labels\n",
    "        all_sz = [s.h for s in self.samples]\n",
    "        assert len(all_sz) == len(labels), f\"Weights and labels must be the same length, got {len(all_sz)} and {len(labels)}\"\n",
    "        dist_function = lambda X, Y: np.sqrt(((X-Y).astype(np.float32)**2).sum())\n",
    "        # Create a square matrix of the distances\n",
    "        dists = np.zeros((len(labels), len(labels)))\n",
    "        for i in range(len(labels)):\n",
    "            for j in range(len(labels)):\n",
    "                if i >= j:\n",
    "                    continue\n",
    "                dists[i, j] = dist_function(all_sz[i], all_sz[j])\n",
    "                dists[j, i] = dists[i, j]\n",
    "        return dists\n",
    "\n",
    "    @cached_property\n",
    "    def faithfulness_dists(self) -> npt.NDArray[np.float32]:\n",
    "        \"\"\"Compute the distance matrix of the faithfulness.\"\"\"\n",
    "        labels = self.labels\n",
    "        label_to_subject = {}\n",
    "        for l, s in zip(labels, self.samples):\n",
    "            subject = s.faithfulness_metadata[\"subject\"]\n",
    "            assert l.startswith(subject), \\\n",
    "                f\"Label {l} does not start with {subject}\"\n",
    "            label_to_subject[l] = subject\n",
    "\n",
    "\n",
    "        # Create a square matrix of the distances\n",
    "        dists = np.zeros((len(labels), len(labels)))\n",
    "        for i in range(len(labels)):\n",
    "            i_label = labels[i]\n",
    "            for j in range(len(labels)):\n",
    "                # Not symmetric\n",
    "                if i == j:\n",
    "                    continue\n",
    "                j_label = labels[j]\n",
    "                j_subject = label_to_subject[j_label]\n",
    "\n",
    "                faithfulness = self.samples[i].faithfulness_metadata[\"subject_faithfulness\"]\n",
    "\n",
    "                index = None\n",
    "                for index, j_subject_metadata in enumerate(faithfulness):\n",
    "                    if j_subject_metadata[\"prediction_subject\"] == j_subject:\n",
    "                        break\n",
    "                assert index is not None, \\\n",
    "                    f\"Could not find {j_subject} in {faithfulness} (subject {i_label})\"\n",
    "                dists[i, j] = faithfulness[index][\"faithfulness\"][FAITHFULNESS_LEVEL] * 5\n",
    "        return dists\n",
    "\n",
    "\n",
    "    def plot_w_dists(self):\n",
    "        \"\"\"Plot the dists between the weight matrices.\"\"\"\n",
    "        sns.set_theme(style=\"white\")\n",
    "\n",
    "        corr = self.w_dists\n",
    "        # Generate a mask for the upper triangle\n",
    "        mask = np.triu(np.ones_like(corr, dtype=bool))\n",
    "\n",
    "        # Set up the matplotlib figure\n",
    "        f, ax = plt.subplots(figsize=(11, 9))\n",
    "\n",
    "        # Generate a custom diverging colormap\n",
    "        cmap = sns.diverging_palette(230, 20, as_cmap=True)\n",
    "\n",
    "        # Draw the heatmap with the mask and correct aspect ratio\n",
    "        ax = sns.heatmap(\n",
    "            corr,\n",
    "            mask=mask,\n",
    "            cmap=cmap,\n",
    "            vmin=0,\n",
    "            xticklabels=self.labels,\n",
    "            yticklabels=self.labels,\n",
    "            square=True,\n",
    "            linewidths=.5,\n",
    "            cbar_kws={\"shrink\": .5},\n",
    "        )\n",
    "        ax.set_title(self.name)\n",
    "\n",
    "\n",
    "    @classmethod\n",
    "    def from_metadata(\n",
    "        cls,\n",
    "        relation: RelationSample,\n",
    "        metadata: List[Dict[str, Tensor]],\n",
    "    ) -> \"RelationMetadata\":\n",
    "        \"\"\"Create a relation metadata object from a list of metadata.\"\"\"\n",
    "        return cls(\n",
    "            relation=relation,\n",
    "            metadata=metadata,\n",
    "        )\n"
   ]
  },
  {
   "cell_type": "code",
   "execution_count": 9,
   "metadata": {
    "colab": {
     "base_uri": "https://localhost:8080/"
    },
    "executionInfo": {
     "elapsed": 1139,
     "status": "ok",
     "timestamp": 1726008463614,
     "user": {
      "displayName": "Michael McCoy",
      "userId": "05429933347557950115"
     },
     "user_tz": 420
    },
    "id": "DNSJFbdP6PT9",
    "outputId": "3769a679-8d48-40bb-a80e-dd03b9c979ba"
   },
   "outputs": [
    {
     "name": "stderr",
     "output_type": "stream",
     "text": [
      "INFO:src.utils.experiment_utils:setting all seeds to 12345\n",
      "DEBUG:matplotlib.pyplot:Loaded backend module://matplotlib_inline.backend_inline version unknown.\n",
      "DEBUG:matplotlib.pyplot:Loaded backend module://matplotlib_inline.backend_inline version unknown.\n",
      "INFO:src.utils.experiment_utils:setting all seeds to 12345\n",
      "INFO:src.utils.experiment_utils:setting all seeds to 12345\n",
      "INFO:src.utils.experiment_utils:setting all seeds to 12345\n",
      "INFO:src.utils.experiment_utils:setting all seeds to 12345\n",
      "INFO:src.utils.experiment_utils:setting all seeds to 12345\n",
      "INFO:src.utils.experiment_utils:setting all seeds to 12345\n",
      "INFO:src.utils.experiment_utils:setting all seeds to 12345\n",
      "INFO:src.utils.experiment_utils:setting all seeds to 12345\n",
      "INFO:src.utils.experiment_utils:setting all seeds to 12345\n",
      "INFO:src.utils.experiment_utils:setting all seeds to 12345\n",
      "INFO:src.utils.experiment_utils:setting all seeds to 12345\n",
      "INFO:src.utils.experiment_utils:setting all seeds to 12345\n",
      "INFO:src.utils.experiment_utils:setting all seeds to 12345\n",
      "INFO:src.utils.experiment_utils:setting all seeds to 12345\n",
      "INFO:src.utils.experiment_utils:setting all seeds to 12345\n",
      "INFO:src.utils.experiment_utils:setting all seeds to 12345\n",
      "INFO:src.utils.experiment_utils:setting all seeds to 12345\n",
      "INFO:src.utils.experiment_utils:setting all seeds to 12345\n",
      "INFO:src.utils.experiment_utils:setting all seeds to 12345\n",
      "INFO:src.utils.experiment_utils:setting all seeds to 12345\n",
      "INFO:src.utils.experiment_utils:setting all seeds to 12345\n",
      "INFO:src.utils.experiment_utils:setting all seeds to 12345\n",
      "INFO:src.utils.experiment_utils:setting all seeds to 12345\n",
      "INFO:src.utils.experiment_utils:setting all seeds to 12345\n",
      "INFO:src.utils.experiment_utils:setting all seeds to 12345\n",
      "INFO:src.utils.experiment_utils:setting all seeds to 12345\n",
      "INFO:src.utils.experiment_utils:setting all seeds to 12345\n",
      "INFO:src.utils.experiment_utils:setting all seeds to 12345\n",
      "INFO:src.utils.experiment_utils:setting all seeds to 12345\n",
      "INFO:src.utils.experiment_utils:setting all seeds to 12345\n",
      "INFO:src.utils.experiment_utils:setting all seeds to 12345\n",
      "INFO:src.utils.experiment_utils:setting all seeds to 12345\n",
      "INFO:src.utils.experiment_utils:setting all seeds to 12345\n",
      "INFO:src.utils.experiment_utils:setting all seeds to 12345\n",
      "INFO:src.utils.experiment_utils:setting all seeds to 12345\n",
      "INFO:src.utils.experiment_utils:setting all seeds to 12345\n",
      "INFO:src.utils.experiment_utils:setting all seeds to 12345\n",
      "INFO:src.utils.experiment_utils:setting all seeds to 12345\n",
      "INFO:src.utils.experiment_utils:setting all seeds to 12345\n",
      "INFO:src.utils.experiment_utils:setting all seeds to 12345\n",
      "INFO:src.utils.experiment_utils:setting all seeds to 12345\n",
      "INFO:src.utils.experiment_utils:setting all seeds to 12345\n",
      "INFO:src.utils.experiment_utils:setting all seeds to 12345\n",
      "INFO:src.utils.experiment_utils:setting all seeds to 12345\n",
      "INFO:src.utils.experiment_utils:setting all seeds to 12345\n",
      "INFO:src.utils.experiment_utils:setting all seeds to 12345\n",
      "INFO:src.utils.experiment_utils:setting all seeds to 12345\n",
      "INFO:src.utils.experiment_utils:setting all seeds to 12345\n"
     ]
    },
    {
     "name": "stdout",
     "output_type": "stream",
     "text": [
      "has_color\n",
      "\n",
      "has_color\n",
      "\n"
     ]
    }
   ],
   "source": [
    "#load all relation metadata\n",
    "data_outputs = {}\n",
    "\n",
    "for relation in dataset.relations:\n",
    "    # WARNING: This is extremely fragile, but we need to generate the\n",
    "    # examples and test in the same way as in the original notebook.\n",
    "    experiment_utils.set_seed(12345) # set seed to a constant value for sampling consistency\n",
    "    examples, test_relation = relation.split(3)\n",
    "\n",
    "    if relation.name not in all_metadata:\n",
    "        #print(f\"No metadata for {relation.name}\")\n",
    "        continue\n",
    "\n",
    "    print(relation.name)\n",
    "    relation_metadata = RelationMetadata.from_metadata(\n",
    "        relation=test_relation,\n",
    "        metadata=all_metadata[relation.name],\n",
    "    )\n",
    "    #print([s.faithfulness_metadata for s in relation_metadata.samples[:1]])\n",
    "    #print(relation_metadata.faithfulness_dists)\n",
    "    for sample in relation_metadata.samples:\n",
    "        pass\n",
    "        #print(f\"{sample.label} W: {sample.weight.shape}\")\n",
    "        #print(f\"{sample.label} o: {sample.z.shape}\")\n",
    "        #print(f\"{sample.label} s: {sample.h.shape}\")\n",
    "    #relation_metadata.plot_w_dists()\n",
    "    plt.show()\n",
    "    print()\n",
    "    data_outputs[relation.name] = relation_metadata"
   ]
  },
  {
   "cell_type": "code",
   "execution_count": 10,
   "metadata": {
    "executionInfo": {
     "elapsed": 6,
     "status": "ok",
     "timestamp": 1726008463614,
     "user": {
      "displayName": "Michael McCoy",
      "userId": "05429933347557950115"
     },
     "user_tz": 420
    },
    "id": "Uv5ELXjxEROm"
   },
   "outputs": [],
   "source": [
    "#we now focus on just the has_color dataset\n",
    "relation_metadata = data_outputs[\"has_color\"]"
   ]
  },
  {
   "cell_type": "code",
   "execution_count": 11,
   "metadata": {
    "executionInfo": {
     "elapsed": 199987,
     "status": "ok",
     "timestamp": 1726008663596,
     "user": {
      "displayName": "Michael McCoy",
      "userId": "05429933347557950115"
     },
     "user_tz": 420
    },
    "id": "DmU6aifpFKBK"
   },
   "outputs": [],
   "source": [
    "#get the W distances\n",
    "w=relation_metadata.w_dists\n",
    "labels=relation_metadata.labels\n",
    "#get the object (z) distances\n",
    "o=relation_metadata.o_dists\n",
    "#get the subject (h) distances\n",
    "s=relation_metadata.s_dists\n",
    "\n",
    "f = relation_metadata.faithfulness_dists\n",
    "\n",
    "# assert w.shape==s.shape\n",
    "# assert w.shape==o.shape\n",
    "# assert len(labels)==w.shape[0]"
   ]
  },
  {
   "cell_type": "code",
   "execution_count": 12,
   "metadata": {
    "executionInfo": {
     "elapsed": 95,
     "status": "ok",
     "timestamp": 1726008663601,
     "user": {
      "displayName": "Michael McCoy",
      "userId": "05429933347557950115"
     },
     "user_tz": 420
    },
    "id": "IRAGc8VV3gYD"
   },
   "outputs": [],
   "source": [
    "np.savetxt(metadata_path+'w.csv', w, delimiter=',', fmt='%d')"
   ]
  },
  {
   "cell_type": "code",
   "execution_count": 13,
   "metadata": {
    "colab": {
     "base_uri": "https://localhost:8080/"
    },
    "executionInfo": {
     "elapsed": 84,
     "status": "ok",
     "timestamp": 1726008663601,
     "user": {
      "displayName": "Michael McCoy",
      "userId": "05429933347557950115"
     },
     "user_tz": 420
    },
    "id": "qkPTyq-K4IW5",
    "outputId": "7ec4ca1a-9335-462a-bc4d-5bd2dbe00e9c"
   },
   "outputs": [
    {
     "data": {
      "text/plain": [
       "['celery -> green',\n",
       " 'a flamingo -> pink',\n",
       " 'a canary -> yellow',\n",
       " 'a panther -> black ',\n",
       " 'a barrel -> brown',\n",
       " 'a stone -> grey',\n",
       " 'a goat -> white',\n",
       " 'a spoon -> silver',\n",
       " 'a crow -> black',\n",
       " 'a mandarin -> orange',\n",
       " 'a plum -> purple',\n",
       " 'a wagon -> red',\n",
       " 'a trumpet -> gold',\n",
       " 'a turtle -> green',\n",
       " 'a pineapple -> yellow',\n",
       " 'a beaver -> brown',\n",
       " 'a toilet -> white',\n",
       " 'a pumpkin -> orange',\n",
       " 'a fox -> red',\n",
       " 'a zucchini -> green',\n",
       " 'corn -> yellow',\n",
       " 'a dove -> white',\n",
       " 'a carrot -> orange',\n",
       " 'a cranberry -> red',\n",
       " 'broccoli -> green',\n",
       " 'a lemon -> yellow',\n",
       " 'a cauliflower -> white',\n",
       " 'a cherry -> red',\n",
       " 'a frog -> green',\n",
       " 'a bathtub -> white',\n",
       " 'a brick -> red',\n",
       " 'a crocodile -> green',\n",
       " 'a raspberry -> red',\n",
       " 'a lime -> green',\n",
       " 'a tomato -> red',\n",
       " 'an emerald -> green',\n",
       " 'a strawberry -> red',\n",
       " 'a cucumber -> green',\n",
       " 'spinach -> green',\n",
       " 'lettuce -> green',\n",
       " 'asparagus -> green']"
      ]
     },
     "execution_count": 13,
     "metadata": {},
     "output_type": "execute_result"
    }
   ],
   "source": [
    "labels"
   ]
  },
  {
   "cell_type": "code",
   "execution_count": 14,
   "metadata": {
    "colab": {
     "base_uri": "https://localhost:8080/"
    },
    "executionInfo": {
     "elapsed": 60,
     "status": "ok",
     "timestamp": 1726008663601,
     "user": {
      "displayName": "Michael McCoy",
      "userId": "05429933347557950115"
     },
     "user_tz": 420
    },
    "id": "GqxvbXebQ2ur",
    "outputId": "b61094b3-ce32-465c-f025-dac28122aef8"
   },
   "outputs": [
    {
     "name": "stdout",
     "output_type": "stream",
     "text": [
      "(820,)\n",
      "(820,)\n",
      "(820,)\n",
      "(820,)\n"
     ]
    }
   ],
   "source": [
    "#mask all of the matrices\n",
    "# generate a mask for the upper triangle\n",
    "mask = np.triu(np.ones_like(w, dtype=bool))\n",
    "mask_outlier = w<1\n",
    "w_masked = w[~mask & ~mask_outlier]\n",
    "s_masked = s[~mask & ~mask_outlier]\n",
    "o_masked = o[~mask & ~mask_outlier]\n",
    "f_masked = f[~mask & ~mask_outlier]\n",
    "print(w_masked.shape)\n",
    "print(s_masked.shape)\n",
    "print(o_masked.shape)\n",
    "print(f_masked.shape)"
   ]
  },
  {
   "cell_type": "code",
   "execution_count": 15,
   "metadata": {
    "colab": {
     "base_uri": "https://localhost:8080/"
    },
    "executionInfo": {
     "elapsed": 52,
     "status": "ok",
     "timestamp": 1726008663601,
     "user": {
      "displayName": "Michael McCoy",
      "userId": "05429933347557950115"
     },
     "user_tz": 420
    },
    "id": "6zYDDeCyC5_F",
    "outputId": "52fdcdb5-6167-45f9-c398-33f4f44cddc5"
   },
   "outputs": [
    {
     "name": "stdout",
     "output_type": "stream",
     "text": [
      "correlation between s matrix and w: 0.392\n",
      "correlation between o matrix and w: 0.723\n"
     ]
    }
   ],
   "source": [
    "#correlate s and w, and o and w\n",
    "result_corr=np.corrcoef(x=s_masked, y=w_masked)\n",
    "print('correlation between s matrix and w: %.3f' % result_corr[0,1])\n",
    "\n",
    "\n",
    "result_corr=np.corrcoef(x=o_masked, y=w_masked)\n",
    "print('correlation between o matrix and w: %.3f' % result_corr[0,1])\n"
   ]
  },
  {
   "cell_type": "code",
   "execution_count": 16,
   "metadata": {
    "colab": {
     "base_uri": "https://localhost:8080/",
     "height": 490
    },
    "executionInfo": {
     "elapsed": 900,
     "status": "ok",
     "timestamp": 1726008664454,
     "user": {
      "displayName": "Michael McCoy",
      "userId": "05429933347557950115"
     },
     "user_tz": 420
    },
    "id": "w8ST5z4Q-Xsb",
    "outputId": "a17f7acc-9962-4cf3-d369-caed372d1e72"
   },
   "outputs": [
    {
     "name": "stderr",
     "output_type": "stream",
     "text": [
      "DEBUG:matplotlib.font_manager:findfont: Matching sans\\-serif:style=normal:variant=normal:weight=normal:stretch=normal:size=10.0.\n",
      "DEBUG:matplotlib.font_manager:findfont: score(FontEntry(fname='/usr/local/lib/python3.10/dist-packages/matplotlib/mpl-data/fonts/ttf/DejaVuSans.ttf', name='DejaVu Sans', style='normal', variant='normal', weight=400, stretch='normal', size='scalable')) = 0.05\n",
      "DEBUG:matplotlib.font_manager:findfont: score(FontEntry(fname='/usr/local/lib/python3.10/dist-packages/matplotlib/mpl-data/fonts/ttf/STIXSizThreeSymBol.ttf', name='STIXSizeThreeSym', style='normal', variant='normal', weight=700, stretch='normal', size='scalable')) = 10.335\n",
      "DEBUG:matplotlib.font_manager:findfont: score(FontEntry(fname='/usr/local/lib/python3.10/dist-packages/matplotlib/mpl-data/fonts/ttf/DejaVuSerif-Bold.ttf', name='DejaVu Serif', style='normal', variant='normal', weight=700, stretch='normal', size='scalable')) = 10.335\n",
      "DEBUG:matplotlib.font_manager:findfont: score(FontEntry(fname='/usr/local/lib/python3.10/dist-packages/matplotlib/mpl-data/fonts/ttf/STIXSizFourSymReg.ttf', name='STIXSizeFourSym', style='normal', variant='normal', weight=400, stretch='normal', size='scalable')) = 10.05\n",
      "DEBUG:matplotlib.font_manager:findfont: score(FontEntry(fname='/usr/local/lib/python3.10/dist-packages/matplotlib/mpl-data/fonts/ttf/cmss10.ttf', name='cmss10', style='normal', variant='normal', weight=400, stretch='normal', size='scalable')) = 10.05\n",
      "DEBUG:matplotlib.font_manager:findfont: score(FontEntry(fname='/usr/local/lib/python3.10/dist-packages/matplotlib/mpl-data/fonts/ttf/DejaVuSerif.ttf', name='DejaVu Serif', style='normal', variant='normal', weight=400, stretch='normal', size='scalable')) = 10.05\n",
      "DEBUG:matplotlib.font_manager:findfont: score(FontEntry(fname='/usr/local/lib/python3.10/dist-packages/matplotlib/mpl-data/fonts/ttf/DejaVuSans-Oblique.ttf', name='DejaVu Sans', style='oblique', variant='normal', weight=400, stretch='normal', size='scalable')) = 1.05\n",
      "DEBUG:matplotlib.font_manager:findfont: score(FontEntry(fname='/usr/local/lib/python3.10/dist-packages/matplotlib/mpl-data/fonts/ttf/STIXGeneralBol.ttf', name='STIXGeneral', style='normal', variant='normal', weight=700, stretch='normal', size='scalable')) = 10.335\n",
      "DEBUG:matplotlib.font_manager:findfont: score(FontEntry(fname='/usr/local/lib/python3.10/dist-packages/matplotlib/mpl-data/fonts/ttf/STIXNonUniBolIta.ttf', name='STIXNonUnicode', style='italic', variant='normal', weight=700, stretch='normal', size='scalable')) = 11.335\n",
      "DEBUG:matplotlib.font_manager:findfont: score(FontEntry(fname='/usr/local/lib/python3.10/dist-packages/matplotlib/mpl-data/fonts/ttf/STIXGeneralItalic.ttf', name='STIXGeneral', style='italic', variant='normal', weight=400, stretch='normal', size='scalable')) = 11.05\n",
      "DEBUG:matplotlib.font_manager:findfont: score(FontEntry(fname='/usr/local/lib/python3.10/dist-packages/matplotlib/mpl-data/fonts/ttf/DejaVuSans-BoldOblique.ttf', name='DejaVu Sans', style='oblique', variant='normal', weight=700, stretch='normal', size='scalable')) = 1.335\n",
      "DEBUG:matplotlib.font_manager:findfont: score(FontEntry(fname='/usr/local/lib/python3.10/dist-packages/matplotlib/mpl-data/fonts/ttf/cmr10.ttf', name='cmr10', style='normal', variant='normal', weight=400, stretch='normal', size='scalable')) = 10.05\n",
      "DEBUG:matplotlib.font_manager:findfont: score(FontEntry(fname='/usr/local/lib/python3.10/dist-packages/matplotlib/mpl-data/fonts/ttf/DejaVuSans-Bold.ttf', name='DejaVu Sans', style='normal', variant='normal', weight=700, stretch='normal', size='scalable')) = 0.33499999999999996\n",
      "DEBUG:matplotlib.font_manager:findfont: score(FontEntry(fname='/usr/local/lib/python3.10/dist-packages/matplotlib/mpl-data/fonts/ttf/DejaVuSerif-BoldItalic.ttf', name='DejaVu Serif', style='italic', variant='normal', weight=700, stretch='normal', size='scalable')) = 11.335\n",
      "DEBUG:matplotlib.font_manager:findfont: score(FontEntry(fname='/usr/local/lib/python3.10/dist-packages/matplotlib/mpl-data/fonts/ttf/cmb10.ttf', name='cmb10', style='normal', variant='normal', weight=400, stretch='normal', size='scalable')) = 10.05\n",
      "DEBUG:matplotlib.font_manager:findfont: score(FontEntry(fname='/usr/local/lib/python3.10/dist-packages/matplotlib/mpl-data/fonts/ttf/STIXNonUniBol.ttf', name='STIXNonUnicode', style='normal', variant='normal', weight=700, stretch='normal', size='scalable')) = 10.335\n",
      "DEBUG:matplotlib.font_manager:findfont: score(FontEntry(fname='/usr/local/lib/python3.10/dist-packages/matplotlib/mpl-data/fonts/ttf/STIXSizOneSymBol.ttf', name='STIXSizeOneSym', style='normal', variant='normal', weight=700, stretch='normal', size='scalable')) = 10.335\n",
      "DEBUG:matplotlib.font_manager:findfont: score(FontEntry(fname='/usr/local/lib/python3.10/dist-packages/matplotlib/mpl-data/fonts/ttf/STIXSizFourSymBol.ttf', name='STIXSizeFourSym', style='normal', variant='normal', weight=700, stretch='normal', size='scalable')) = 10.335\n",
      "DEBUG:matplotlib.font_manager:findfont: score(FontEntry(fname='/usr/local/lib/python3.10/dist-packages/matplotlib/mpl-data/fonts/ttf/STIXNonUni.ttf', name='STIXNonUnicode', style='normal', variant='normal', weight=400, stretch='normal', size='scalable')) = 10.05\n",
      "DEBUG:matplotlib.font_manager:findfont: score(FontEntry(fname='/usr/local/lib/python3.10/dist-packages/matplotlib/mpl-data/fonts/ttf/DejaVuSansDisplay.ttf', name='DejaVu Sans Display', style='normal', variant='normal', weight=400, stretch='normal', size='scalable')) = 10.05\n",
      "DEBUG:matplotlib.font_manager:findfont: score(FontEntry(fname='/usr/local/lib/python3.10/dist-packages/matplotlib/mpl-data/fonts/ttf/STIXSizTwoSymReg.ttf', name='STIXSizeTwoSym', style='normal', variant='normal', weight=400, stretch='normal', size='scalable')) = 10.05\n",
      "DEBUG:matplotlib.font_manager:findfont: score(FontEntry(fname='/usr/local/lib/python3.10/dist-packages/matplotlib/mpl-data/fonts/ttf/DejaVuSerifDisplay.ttf', name='DejaVu Serif Display', style='normal', variant='normal', weight=400, stretch='normal', size='scalable')) = 10.05\n",
      "DEBUG:matplotlib.font_manager:findfont: score(FontEntry(fname='/usr/local/lib/python3.10/dist-packages/matplotlib/mpl-data/fonts/ttf/cmtt10.ttf', name='cmtt10', style='normal', variant='normal', weight=400, stretch='normal', size='scalable')) = 10.05\n",
      "DEBUG:matplotlib.font_manager:findfont: score(FontEntry(fname='/usr/local/lib/python3.10/dist-packages/matplotlib/mpl-data/fonts/ttf/DejaVuSansMono-BoldOblique.ttf', name='DejaVu Sans Mono', style='oblique', variant='normal', weight=700, stretch='normal', size='scalable')) = 11.335\n",
      "DEBUG:matplotlib.font_manager:findfont: score(FontEntry(fname='/usr/local/lib/python3.10/dist-packages/matplotlib/mpl-data/fonts/ttf/DejaVuSerif-Italic.ttf', name='DejaVu Serif', style='italic', variant='normal', weight=400, stretch='normal', size='scalable')) = 11.05\n",
      "DEBUG:matplotlib.font_manager:findfont: score(FontEntry(fname='/usr/local/lib/python3.10/dist-packages/matplotlib/mpl-data/fonts/ttf/STIXGeneral.ttf', name='STIXGeneral', style='normal', variant='normal', weight=400, stretch='normal', size='scalable')) = 10.05\n",
      "DEBUG:matplotlib.font_manager:findfont: score(FontEntry(fname='/usr/local/lib/python3.10/dist-packages/matplotlib/mpl-data/fonts/ttf/STIXSizTwoSymBol.ttf', name='STIXSizeTwoSym', style='normal', variant='normal', weight=700, stretch='normal', size='scalable')) = 10.335\n",
      "DEBUG:matplotlib.font_manager:findfont: score(FontEntry(fname='/usr/local/lib/python3.10/dist-packages/matplotlib/mpl-data/fonts/ttf/STIXSizOneSymReg.ttf', name='STIXSizeOneSym', style='normal', variant='normal', weight=400, stretch='normal', size='scalable')) = 10.05\n",
      "DEBUG:matplotlib.font_manager:findfont: score(FontEntry(fname='/usr/local/lib/python3.10/dist-packages/matplotlib/mpl-data/fonts/ttf/cmex10.ttf', name='cmex10', style='normal', variant='normal', weight=400, stretch='normal', size='scalable')) = 10.05\n",
      "DEBUG:matplotlib.font_manager:findfont: score(FontEntry(fname='/usr/local/lib/python3.10/dist-packages/matplotlib/mpl-data/fonts/ttf/DejaVuSansMono-Bold.ttf', name='DejaVu Sans Mono', style='normal', variant='normal', weight=700, stretch='normal', size='scalable')) = 10.335\n",
      "DEBUG:matplotlib.font_manager:findfont: score(FontEntry(fname='/usr/local/lib/python3.10/dist-packages/matplotlib/mpl-data/fonts/ttf/DejaVuSansMono-Oblique.ttf', name='DejaVu Sans Mono', style='oblique', variant='normal', weight=400, stretch='normal', size='scalable')) = 11.05\n",
      "DEBUG:matplotlib.font_manager:findfont: score(FontEntry(fname='/usr/local/lib/python3.10/dist-packages/matplotlib/mpl-data/fonts/ttf/cmmi10.ttf', name='cmmi10', style='normal', variant='normal', weight=400, stretch='normal', size='scalable')) = 10.05\n",
      "DEBUG:matplotlib.font_manager:findfont: score(FontEntry(fname='/usr/local/lib/python3.10/dist-packages/matplotlib/mpl-data/fonts/ttf/STIXGeneralBolIta.ttf', name='STIXGeneral', style='italic', variant='normal', weight=700, stretch='normal', size='scalable')) = 11.335\n",
      "DEBUG:matplotlib.font_manager:findfont: score(FontEntry(fname='/usr/local/lib/python3.10/dist-packages/matplotlib/mpl-data/fonts/ttf/STIXNonUniIta.ttf', name='STIXNonUnicode', style='italic', variant='normal', weight=400, stretch='normal', size='scalable')) = 11.05\n",
      "DEBUG:matplotlib.font_manager:findfont: score(FontEntry(fname='/usr/local/lib/python3.10/dist-packages/matplotlib/mpl-data/fonts/ttf/DejaVuSansMono.ttf', name='DejaVu Sans Mono', style='normal', variant='normal', weight=400, stretch='normal', size='scalable')) = 10.05\n",
      "DEBUG:matplotlib.font_manager:findfont: score(FontEntry(fname='/usr/local/lib/python3.10/dist-packages/matplotlib/mpl-data/fonts/ttf/STIXSizThreeSymReg.ttf', name='STIXSizeThreeSym', style='normal', variant='normal', weight=400, stretch='normal', size='scalable')) = 10.05\n",
      "DEBUG:matplotlib.font_manager:findfont: score(FontEntry(fname='/usr/local/lib/python3.10/dist-packages/matplotlib/mpl-data/fonts/ttf/cmsy10.ttf', name='cmsy10', style='normal', variant='normal', weight=400, stretch='normal', size='scalable')) = 10.05\n",
      "DEBUG:matplotlib.font_manager:findfont: score(FontEntry(fname='/usr/local/lib/python3.10/dist-packages/matplotlib/mpl-data/fonts/ttf/STIXSizFiveSymReg.ttf', name='STIXSizeFiveSym', style='normal', variant='normal', weight=400, stretch='normal', size='scalable')) = 10.05\n",
      "DEBUG:matplotlib.font_manager:findfont: Matching sans\\-serif:style=normal:variant=normal:weight=normal:stretch=normal:size=10.0 to DejaVu Sans ('/usr/local/lib/python3.10/dist-packages/matplotlib/mpl-data/fonts/ttf/DejaVuSans.ttf') with score of 0.050000.\n"
     ]
    },
    {
     "data": {
      "text/plain": [
       "Text(0.5, 1.0, 'Object Activation Distance vs Weight Activation Distance')"
      ]
     },
     "execution_count": 16,
     "metadata": {},
     "output_type": "execute_result"
    },
    {
     "name": "stderr",
     "output_type": "stream",
     "text": [
      "DEBUG:matplotlib.font_manager:findfont: Matching sans\\-serif:style=normal:variant=normal:weight=normal:stretch=normal:size=12.0.\n",
      "DEBUG:matplotlib.font_manager:findfont: score(FontEntry(fname='/usr/local/lib/python3.10/dist-packages/matplotlib/mpl-data/fonts/ttf/DejaVuSans.ttf', name='DejaVu Sans', style='normal', variant='normal', weight=400, stretch='normal', size='scalable')) = 0.05\n",
      "DEBUG:matplotlib.font_manager:findfont: score(FontEntry(fname='/usr/local/lib/python3.10/dist-packages/matplotlib/mpl-data/fonts/ttf/STIXSizThreeSymBol.ttf', name='STIXSizeThreeSym', style='normal', variant='normal', weight=700, stretch='normal', size='scalable')) = 10.335\n",
      "DEBUG:matplotlib.font_manager:findfont: score(FontEntry(fname='/usr/local/lib/python3.10/dist-packages/matplotlib/mpl-data/fonts/ttf/DejaVuSerif-Bold.ttf', name='DejaVu Serif', style='normal', variant='normal', weight=700, stretch='normal', size='scalable')) = 10.335\n",
      "DEBUG:matplotlib.font_manager:findfont: score(FontEntry(fname='/usr/local/lib/python3.10/dist-packages/matplotlib/mpl-data/fonts/ttf/STIXSizFourSymReg.ttf', name='STIXSizeFourSym', style='normal', variant='normal', weight=400, stretch='normal', size='scalable')) = 10.05\n",
      "DEBUG:matplotlib.font_manager:findfont: score(FontEntry(fname='/usr/local/lib/python3.10/dist-packages/matplotlib/mpl-data/fonts/ttf/cmss10.ttf', name='cmss10', style='normal', variant='normal', weight=400, stretch='normal', size='scalable')) = 10.05\n",
      "DEBUG:matplotlib.font_manager:findfont: score(FontEntry(fname='/usr/local/lib/python3.10/dist-packages/matplotlib/mpl-data/fonts/ttf/DejaVuSerif.ttf', name='DejaVu Serif', style='normal', variant='normal', weight=400, stretch='normal', size='scalable')) = 10.05\n",
      "DEBUG:matplotlib.font_manager:findfont: score(FontEntry(fname='/usr/local/lib/python3.10/dist-packages/matplotlib/mpl-data/fonts/ttf/DejaVuSans-Oblique.ttf', name='DejaVu Sans', style='oblique', variant='normal', weight=400, stretch='normal', size='scalable')) = 1.05\n",
      "DEBUG:matplotlib.font_manager:findfont: score(FontEntry(fname='/usr/local/lib/python3.10/dist-packages/matplotlib/mpl-data/fonts/ttf/STIXGeneralBol.ttf', name='STIXGeneral', style='normal', variant='normal', weight=700, stretch='normal', size='scalable')) = 10.335\n",
      "DEBUG:matplotlib.font_manager:findfont: score(FontEntry(fname='/usr/local/lib/python3.10/dist-packages/matplotlib/mpl-data/fonts/ttf/STIXNonUniBolIta.ttf', name='STIXNonUnicode', style='italic', variant='normal', weight=700, stretch='normal', size='scalable')) = 11.335\n",
      "DEBUG:matplotlib.font_manager:findfont: score(FontEntry(fname='/usr/local/lib/python3.10/dist-packages/matplotlib/mpl-data/fonts/ttf/STIXGeneralItalic.ttf', name='STIXGeneral', style='italic', variant='normal', weight=400, stretch='normal', size='scalable')) = 11.05\n",
      "DEBUG:matplotlib.font_manager:findfont: score(FontEntry(fname='/usr/local/lib/python3.10/dist-packages/matplotlib/mpl-data/fonts/ttf/DejaVuSans-BoldOblique.ttf', name='DejaVu Sans', style='oblique', variant='normal', weight=700, stretch='normal', size='scalable')) = 1.335\n",
      "DEBUG:matplotlib.font_manager:findfont: score(FontEntry(fname='/usr/local/lib/python3.10/dist-packages/matplotlib/mpl-data/fonts/ttf/cmr10.ttf', name='cmr10', style='normal', variant='normal', weight=400, stretch='normal', size='scalable')) = 10.05\n",
      "DEBUG:matplotlib.font_manager:findfont: score(FontEntry(fname='/usr/local/lib/python3.10/dist-packages/matplotlib/mpl-data/fonts/ttf/DejaVuSans-Bold.ttf', name='DejaVu Sans', style='normal', variant='normal', weight=700, stretch='normal', size='scalable')) = 0.33499999999999996\n",
      "DEBUG:matplotlib.font_manager:findfont: score(FontEntry(fname='/usr/local/lib/python3.10/dist-packages/matplotlib/mpl-data/fonts/ttf/DejaVuSerif-BoldItalic.ttf', name='DejaVu Serif', style='italic', variant='normal', weight=700, stretch='normal', size='scalable')) = 11.335\n",
      "DEBUG:matplotlib.font_manager:findfont: score(FontEntry(fname='/usr/local/lib/python3.10/dist-packages/matplotlib/mpl-data/fonts/ttf/cmb10.ttf', name='cmb10', style='normal', variant='normal', weight=400, stretch='normal', size='scalable')) = 10.05\n",
      "DEBUG:matplotlib.font_manager:findfont: score(FontEntry(fname='/usr/local/lib/python3.10/dist-packages/matplotlib/mpl-data/fonts/ttf/STIXNonUniBol.ttf', name='STIXNonUnicode', style='normal', variant='normal', weight=700, stretch='normal', size='scalable')) = 10.335\n",
      "DEBUG:matplotlib.font_manager:findfont: score(FontEntry(fname='/usr/local/lib/python3.10/dist-packages/matplotlib/mpl-data/fonts/ttf/STIXSizOneSymBol.ttf', name='STIXSizeOneSym', style='normal', variant='normal', weight=700, stretch='normal', size='scalable')) = 10.335\n",
      "DEBUG:matplotlib.font_manager:findfont: score(FontEntry(fname='/usr/local/lib/python3.10/dist-packages/matplotlib/mpl-data/fonts/ttf/STIXSizFourSymBol.ttf', name='STIXSizeFourSym', style='normal', variant='normal', weight=700, stretch='normal', size='scalable')) = 10.335\n",
      "DEBUG:matplotlib.font_manager:findfont: score(FontEntry(fname='/usr/local/lib/python3.10/dist-packages/matplotlib/mpl-data/fonts/ttf/STIXNonUni.ttf', name='STIXNonUnicode', style='normal', variant='normal', weight=400, stretch='normal', size='scalable')) = 10.05\n",
      "DEBUG:matplotlib.font_manager:findfont: score(FontEntry(fname='/usr/local/lib/python3.10/dist-packages/matplotlib/mpl-data/fonts/ttf/DejaVuSansDisplay.ttf', name='DejaVu Sans Display', style='normal', variant='normal', weight=400, stretch='normal', size='scalable')) = 10.05\n",
      "DEBUG:matplotlib.font_manager:findfont: score(FontEntry(fname='/usr/local/lib/python3.10/dist-packages/matplotlib/mpl-data/fonts/ttf/STIXSizTwoSymReg.ttf', name='STIXSizeTwoSym', style='normal', variant='normal', weight=400, stretch='normal', size='scalable')) = 10.05\n",
      "DEBUG:matplotlib.font_manager:findfont: score(FontEntry(fname='/usr/local/lib/python3.10/dist-packages/matplotlib/mpl-data/fonts/ttf/DejaVuSerifDisplay.ttf', name='DejaVu Serif Display', style='normal', variant='normal', weight=400, stretch='normal', size='scalable')) = 10.05\n",
      "DEBUG:matplotlib.font_manager:findfont: score(FontEntry(fname='/usr/local/lib/python3.10/dist-packages/matplotlib/mpl-data/fonts/ttf/cmtt10.ttf', name='cmtt10', style='normal', variant='normal', weight=400, stretch='normal', size='scalable')) = 10.05\n",
      "DEBUG:matplotlib.font_manager:findfont: score(FontEntry(fname='/usr/local/lib/python3.10/dist-packages/matplotlib/mpl-data/fonts/ttf/DejaVuSansMono-BoldOblique.ttf', name='DejaVu Sans Mono', style='oblique', variant='normal', weight=700, stretch='normal', size='scalable')) = 11.335\n",
      "DEBUG:matplotlib.font_manager:findfont: score(FontEntry(fname='/usr/local/lib/python3.10/dist-packages/matplotlib/mpl-data/fonts/ttf/DejaVuSerif-Italic.ttf', name='DejaVu Serif', style='italic', variant='normal', weight=400, stretch='normal', size='scalable')) = 11.05\n",
      "DEBUG:matplotlib.font_manager:findfont: score(FontEntry(fname='/usr/local/lib/python3.10/dist-packages/matplotlib/mpl-data/fonts/ttf/STIXGeneral.ttf', name='STIXGeneral', style='normal', variant='normal', weight=400, stretch='normal', size='scalable')) = 10.05\n",
      "DEBUG:matplotlib.font_manager:findfont: score(FontEntry(fname='/usr/local/lib/python3.10/dist-packages/matplotlib/mpl-data/fonts/ttf/STIXSizTwoSymBol.ttf', name='STIXSizeTwoSym', style='normal', variant='normal', weight=700, stretch='normal', size='scalable')) = 10.335\n",
      "DEBUG:matplotlib.font_manager:findfont: score(FontEntry(fname='/usr/local/lib/python3.10/dist-packages/matplotlib/mpl-data/fonts/ttf/STIXSizOneSymReg.ttf', name='STIXSizeOneSym', style='normal', variant='normal', weight=400, stretch='normal', size='scalable')) = 10.05\n",
      "DEBUG:matplotlib.font_manager:findfont: score(FontEntry(fname='/usr/local/lib/python3.10/dist-packages/matplotlib/mpl-data/fonts/ttf/cmex10.ttf', name='cmex10', style='normal', variant='normal', weight=400, stretch='normal', size='scalable')) = 10.05\n",
      "DEBUG:matplotlib.font_manager:findfont: score(FontEntry(fname='/usr/local/lib/python3.10/dist-packages/matplotlib/mpl-data/fonts/ttf/DejaVuSansMono-Bold.ttf', name='DejaVu Sans Mono', style='normal', variant='normal', weight=700, stretch='normal', size='scalable')) = 10.335\n",
      "DEBUG:matplotlib.font_manager:findfont: score(FontEntry(fname='/usr/local/lib/python3.10/dist-packages/matplotlib/mpl-data/fonts/ttf/DejaVuSansMono-Oblique.ttf', name='DejaVu Sans Mono', style='oblique', variant='normal', weight=400, stretch='normal', size='scalable')) = 11.05\n",
      "DEBUG:matplotlib.font_manager:findfont: score(FontEntry(fname='/usr/local/lib/python3.10/dist-packages/matplotlib/mpl-data/fonts/ttf/cmmi10.ttf', name='cmmi10', style='normal', variant='normal', weight=400, stretch='normal', size='scalable')) = 10.05\n",
      "DEBUG:matplotlib.font_manager:findfont: score(FontEntry(fname='/usr/local/lib/python3.10/dist-packages/matplotlib/mpl-data/fonts/ttf/STIXGeneralBolIta.ttf', name='STIXGeneral', style='italic', variant='normal', weight=700, stretch='normal', size='scalable')) = 11.335\n",
      "DEBUG:matplotlib.font_manager:findfont: score(FontEntry(fname='/usr/local/lib/python3.10/dist-packages/matplotlib/mpl-data/fonts/ttf/STIXNonUniIta.ttf', name='STIXNonUnicode', style='italic', variant='normal', weight=400, stretch='normal', size='scalable')) = 11.05\n",
      "DEBUG:matplotlib.font_manager:findfont: score(FontEntry(fname='/usr/local/lib/python3.10/dist-packages/matplotlib/mpl-data/fonts/ttf/DejaVuSansMono.ttf', name='DejaVu Sans Mono', style='normal', variant='normal', weight=400, stretch='normal', size='scalable')) = 10.05\n",
      "DEBUG:matplotlib.font_manager:findfont: score(FontEntry(fname='/usr/local/lib/python3.10/dist-packages/matplotlib/mpl-data/fonts/ttf/STIXSizThreeSymReg.ttf', name='STIXSizeThreeSym', style='normal', variant='normal', weight=400, stretch='normal', size='scalable')) = 10.05\n",
      "DEBUG:matplotlib.font_manager:findfont: score(FontEntry(fname='/usr/local/lib/python3.10/dist-packages/matplotlib/mpl-data/fonts/ttf/cmsy10.ttf', name='cmsy10', style='normal', variant='normal', weight=400, stretch='normal', size='scalable')) = 10.05\n",
      "DEBUG:matplotlib.font_manager:findfont: score(FontEntry(fname='/usr/local/lib/python3.10/dist-packages/matplotlib/mpl-data/fonts/ttf/STIXSizFiveSymReg.ttf', name='STIXSizeFiveSym', style='normal', variant='normal', weight=400, stretch='normal', size='scalable')) = 10.05\n",
      "DEBUG:matplotlib.font_manager:findfont: Matching sans\\-serif:style=normal:variant=normal:weight=normal:stretch=normal:size=12.0 to DejaVu Sans ('/usr/local/lib/python3.10/dist-packages/matplotlib/mpl-data/fonts/ttf/DejaVuSans.ttf') with score of 0.050000.\n"
     ]
    },
    {
     "data": {
      "image/png": "[encoded data removed]",
      "text/plain": [
       "<Figure size 640x480 with 1 Axes>"
      ]
     },
     "metadata": {},
     "output_type": "display_data"
    }
   ],
   "source": [
    "#create scatterplot\n",
    "plt.scatter(o_masked, w_masked)\n",
    "plt.xlabel(\"Object Activation Distance\")\n",
    "plt.ylabel(\"Weight Activation Distance\")\n",
    "plt.title(\"Object Activation Distance vs Weight Activation Distance\")"
   ]
  },
  {
   "cell_type": "code",
   "execution_count": 17,
   "metadata": {
    "colab": {
     "base_uri": "https://localhost:8080/",
     "height": 490
    },
    "executionInfo": {
     "elapsed": 24,
     "status": "ok",
     "timestamp": 1726008664454,
     "user": {
      "displayName": "Michael McCoy",
      "userId": "05429933347557950115"
     },
     "user_tz": 420
    },
    "id": "9o3a_ro-aRKv",
    "outputId": "6cdbd64b-59a8-4ae3-b82b-395f01219828"
   },
   "outputs": [
    {
     "data": {
      "text/plain": [
       "Text(0.5, 1.0, 'Faithfulness Distance vs Weight Activation Distance')"
      ]
     },
     "execution_count": 17,
     "metadata": {},
     "output_type": "execute_result"
    },
    {
     "data": {
      "image/png": "[encoded data removed]",
      "text/plain": [
       "<Figure size 640x480 with 1 Axes>"
      ]
     },
     "metadata": {},
     "output_type": "display_data"
    }
   ],
   "source": [
    "# Jitter\n",
    "jitter = (np.random.random(len(f_masked)) -0.5) * 0.05\n",
    "plt.scatter(w_masked, f_masked + jitter, alpha=0.1)\n",
    "plt.ylabel(\"Prediction correctness\")\n",
    "plt.xlabel(\"Weight Activation Distance\")\n",
    "plt.title(\"Faithfulness Distance vs Weight Activation Distance\")"
   ]
  },
  {
   "cell_type": "code",
   "execution_count": 18,
   "metadata": {
    "colab": {
     "base_uri": "https://localhost:8080/",
     "height": 215
    },
    "executionInfo": {
     "elapsed": 676,
     "status": "ok",
     "timestamp": 1726008665114,
     "user": {
      "displayName": "Michael McCoy",
      "userId": "05429933347557950115"
     },
     "user_tz": 420
    },
    "id": "58Zh4wQE3B1l",
    "outputId": "8a6b4e7f-dcd2-4890-d55c-ef3ceb315024"
   },
   "outputs": [
    {
     "data": {
      "text/plain": [
       "Text(0.5, 1.0, 'Subject Activation Distance vs Weight Activation Distance')"
      ]
     },
     "execution_count": 18,
     "metadata": {},
     "output_type": "execute_result"
    },
    {
     "data": {
      "image/png": "[encoded data removed]",
      "text/plain": [
       "<Figure size 640x480 with 1 Axes>"
      ]
     },
     "metadata": {},
     "output_type": "display_data"
    }
   ],
   "source": [
    "#create scatterplot\n",
    "plt.scatter(s_masked, w_masked)\n",
    "plt.xlabel(\"Subject Activation Distance\")\n",
    "plt.ylabel(\"Weight Activation Distance\")\n",
    "plt.title(\"Subject Activation Distance vs Weight Activation Distance\")"
   ]
  },
  {
   "cell_type": "code",
   "execution_count": 19,
   "metadata": {
    "colab": {
     "base_uri": "https://localhost:8080/",
     "height": 126
    },
    "executionInfo": {
     "elapsed": 18,
     "status": "ok",
     "timestamp": 1726008665115,
     "user": {
      "displayName": "Michael McCoy",
      "userId": "05429933347557950115"
     },
     "user_tz": 420
    },
    "id": "pg1q_JcCaKoS",
    "outputId": "41c25ce1-ab3d-40bb-e53d-f98deb147d30"
   },
   "outputs": [
    {
     "data": {
      "text/plain": [
       "Text(0.5, 1.0, 'Distance Distributions')"
      ]
     },
     "execution_count": 19,
     "metadata": {},
     "output_type": "execute_result"
    },
    {
     "data": {
      "image/png": "[encoded data removed]",
      "text/plain": [
       "<Figure size 640x480 with 1 Axes>"
      ]
     },
     "metadata": {},
     "output_type": "display_data"
    }
   ],
   "source": [
    "\n",
    "plt.hist(w_masked, bins=30, edgecolor='black', label=\"Weight Distance\")\n",
    "plt.hist(s_masked, bins=30, edgecolor='black', label=\"Subject Distance\")\n",
    "plt.hist(o_masked, bins=30, edgecolor='black', label=\"Object Distance\")\n",
    "plt.legend()\n",
    "plt.xlabel(\"Distance\")\n",
    "plt.ylabel(\"Count\")\n",
    "plt.title(\"Distance Distributions\")"
   ]
  },
  {
   "cell_type": "code",
   "execution_count": 20,
   "metadata": {
    "executionInfo": {
     "elapsed": 13,
     "status": "ok",
     "timestamp": 1726008665115,
     "user": {
      "displayName": "Michael McCoy",
      "userId": "05429933347557950115"
     },
     "user_tz": 420
    },
    "id": "IaKcC5Z0X9LP"
   },
   "outputs": [],
   "source": [
    "#import linear model functions\n",
    "\n",
    "import statsmodels.api as sm\n",
    "import statsmodels.formula.api as smf\n",
    "import pandas as pd"
   ]
  },
  {
   "cell_type": "code",
   "execution_count": 21,
   "metadata": {
    "executionInfo": {
     "elapsed": 13,
     "status": "ok",
     "timestamp": 1726008665115,
     "user": {
      "displayName": "Michael McCoy",
      "userId": "05429933347557950115"
     },
     "user_tz": 420
    },
    "id": "a1j9Kqmml56-"
   },
   "outputs": [],
   "source": [
    "#@title load uncertainty data files for analyis - only for has_color dataset\n",
    "#1. read uncertainties data from drive, convert to dataframe\n",
    "filepath = \"/workspace/metadata/results_uncertainties.json\"\n",
    "with open(filepath, 'r') as fp:\n",
    "    uncertainties = json.load(fp)\n"
   ]
  },
  {
   "cell_type": "code",
   "execution_count": 22,
   "metadata": {
    "executionInfo": {
     "elapsed": 482,
     "status": "ok",
     "timestamp": 1726008665585,
     "user": {
      "displayName": "Michael McCoy",
      "userId": "05429933347557950115"
     },
     "user_tz": 420
    },
    "id": "mStdQbHtH_bP"
   },
   "outputs": [],
   "source": [
    "def parse_label(label):\n",
    "    #take the label and split it by ->\n",
    "    ss=label.split(' -> ')\n",
    "    return ss[0]\n",
    "\n",
    "def split_labels(labels):\n",
    "    split_labels = []\n",
    "    for l in labels:\n",
    "        ss=l.split()\n",
    "        if(len(ss)>1):\n",
    "            split_labels.append(ss[1])\n",
    "        else:\n",
    "            split_labels.append(ss[0])\n",
    "    return split_labels"
   ]
  },
  {
   "cell_type": "code",
   "execution_count": 23,
   "metadata": {
    "colab": {
     "base_uri": "https://localhost:8080/"
    },
    "executionInfo": {
     "elapsed": 46,
     "status": "ok",
     "timestamp": 1726008665586,
     "user": {
      "displayName": "Michael McCoy",
      "userId": "05429933347557950115"
     },
     "user_tz": 420
    },
    "id": "CdJDX6FFXTix",
    "outputId": "a392295d-3165-4137-e610-17d19ddd88eb"
   },
   "outputs": [
    {
     "name": "stdout",
     "output_type": "stream",
     "text": [
      "found 41 matches\n"
     ]
    }
   ],
   "source": [
    "#get labels into common form to match/align them\n",
    "metadata_labels = split_labels([parse_label(x) for x in relation_metadata.labels])\n",
    "uncertainty_labels = split_labels(uncertainties.keys())\n",
    "\n",
    "#rename uncertainty data with the new labels\n",
    "uncertainties_relabeled = dict(zip(uncertainty_labels, uncertainties.values()))\n",
    "\n",
    "#create a mask for those items in metadata that exist in uncertainties\n",
    "match_mask=[True if x in uncertainty_labels else False for x in metadata_labels]\n",
    "\n",
    "#return the matching labels as well, in same order\n",
    "included_labels = [x for i,x in enumerate(metadata_labels) if match_mask[i]]\n",
    "\n",
    "#select the data for which we have matching labels\n",
    "w_filtered = w[np.ix_(match_mask, match_mask)]\n",
    "s_filtered = s[np.ix_(match_mask, match_mask)]\n",
    "o_filtered = o[np.ix_(match_mask, match_mask)]\n",
    "f_filtered = f[np.ix_(match_mask, match_mask)]\n",
    "\n",
    "\n",
    "#pull out uncertainties in the same order as the list included_labels\n",
    "uncertainties_reordered =  [np.mean(uncertainties_relabeled[x]) for x in included_labels]\n",
    "\n",
    "print('found %d matches' % sum(match_mask))\n",
    "# len(metadata_labels)\n",
    "# len(matching_indices)\n"
   ]
  },
  {
   "cell_type": "code",
   "execution_count": 24,
   "metadata": {
    "colab": {
     "base_uri": "https://localhost:8080/"
    },
    "executionInfo": {
     "elapsed": 40,
     "status": "ok",
     "timestamp": 1726008665586,
     "user": {
      "displayName": "Michael McCoy",
      "userId": "05429933347557950115"
     },
     "user_tz": 420
    },
    "id": "VJZ9WsTirp-C",
    "outputId": "517e4f91-e57a-4201-f1d2-0ed197040764"
   },
   "outputs": [
    {
     "name": "stdout",
     "output_type": "stream",
     "text": [
      "27\n",
      "14\n"
     ]
    }
   ],
   "source": [
    "#create data subsets - high accuracy data vs low accuracy data\n",
    "\n",
    "#split data into high accuracy vs low accuracy / high uncertainty.\n",
    "high_acc_filt =[True if x >.70 else False for x in uncertainties_reordered ]\n",
    "low_acc_filt = ~(np.array(high_acc_filt))\n",
    "print(sum(high_acc_filt))\n",
    "print(sum(low_acc_filt))\n",
    "w_filtered_high_acc = w_filtered[np.ix_(high_acc_filt,high_acc_filt)]\n",
    "s_filtered_high_acc = s_filtered[np.ix_(high_acc_filt,high_acc_filt)]\n",
    "w_filtered_low_acc = w_filtered[np.ix_(low_acc_filt,low_acc_filt)]\n",
    "s_filtered_low_acc = s_filtered[np.ix_(low_acc_filt,low_acc_filt)]\n"
   ]
  },
  {
   "cell_type": "code",
   "execution_count": 25,
   "metadata": {
    "colab": {
     "base_uri": "https://localhost:8080/"
    },
    "executionInfo": {
     "elapsed": 37,
     "status": "ok",
     "timestamp": 1726008665586,
     "user": {
      "displayName": "Michael McCoy",
      "userId": "05429933347557950115"
     },
     "user_tz": 420
    },
    "id": "6OTJzT7QxEbY",
    "outputId": "42bf4827-70f1-4bbf-98c9-43c8c69c80df"
   },
   "outputs": [
    {
     "name": "stdout",
     "output_type": "stream",
     "text": [
      "['celery', 'flamingo', 'canary', 'goat', 'crow', 'beaver', 'toilet', 'pumpkin', 'zucchini', 'dove', 'carrot', 'cranberry', 'broccoli', 'lemon', 'cherry', 'frog', 'bathtub', 'crocodile', 'raspberry', 'lime', 'tomato', 'emerald', 'strawberry', 'cucumber', 'spinach', 'lettuce', 'asparagus']\n",
      "['panther', 'barrel', 'stone', 'spoon', 'mandarin', 'plum', 'wagon', 'trumpet', 'turtle', 'pineapple', 'fox', 'corn', 'cauliflower', 'brick']\n"
     ]
    }
   ],
   "source": [
    "#display item labels in the two categories\n",
    "high_acc_labels = [included_labels[x] for x in range(len(included_labels))if high_acc_filt[x]]\n",
    "print(high_acc_labels)\n",
    "low_acc_labels = [included_labels[x] for x in range(len(included_labels))if low_acc_filt[x]]\n",
    "print(low_acc_labels)"
   ]
  },
  {
   "cell_type": "code",
   "execution_count": 26,
   "metadata": {
    "colab": {
     "base_uri": "https://localhost:8080/"
    },
    "executionInfo": {
     "elapsed": 35,
     "status": "ok",
     "timestamp": 1726008665586,
     "user": {
      "displayName": "Michael McCoy",
      "userId": "05429933347557950115"
     },
     "user_tz": 420
    },
    "id": "t4htGq2hdSZI",
    "outputId": "8e939e95-b9cd-4100-8047-b24087e943e9"
   },
   "outputs": [
    {
     "name": "stdout",
     "output_type": "stream",
     "text": [
      "351\n",
      "351\n",
      "91\n",
      "91\n"
     ]
    }
   ],
   "source": [
    "#create masked data for high & low accuracy items separately\n",
    "mask_outlier = w_filtered_high_acc<1\n",
    "mask_upper = np.triu(np.ones_like(w_filtered_high_acc, dtype=bool))\n",
    "w_masked_high_acc = w_filtered_high_acc[~mask_upper & ~mask_outlier]\n",
    "s_masked_high_acc = s_filtered_high_acc[~mask_upper & ~mask_outlier]\n",
    "print(len(w_masked_high_acc))\n",
    "print(len(s_masked_high_acc))\n",
    "\n",
    "\n",
    "mask_outlier = w_filtered_low_acc<1\n",
    "mask_upper = np.triu(np.ones_like(w_filtered_low_acc, dtype=bool))\n",
    "w_masked_low_acc = w_filtered_low_acc[~mask_upper & ~mask_outlier]\n",
    "s_masked_low_acc = s_filtered_low_acc[~mask_upper & ~mask_outlier]\n",
    "print(len(w_masked_low_acc))\n",
    "print(len(s_masked_low_acc))"
   ]
  },
  {
   "cell_type": "code",
   "execution_count": 27,
   "metadata": {
    "colab": {
     "base_uri": "https://localhost:8080/"
    },
    "executionInfo": {
     "elapsed": 32,
     "status": "ok",
     "timestamp": 1726008665586,
     "user": {
      "displayName": "Michael McCoy",
      "userId": "05429933347557950115"
     },
     "user_tz": 420
    },
    "id": "U__h8F8izMUa",
    "outputId": "b1b0ec10-0704-4f94-e518-44eb7355de3f"
   },
   "outputs": [
    {
     "data": {
      "text/plain": [
       "TtestResult(statistic=-3.1642423015042356, pvalue=0.0016627089511888663, df=440.0)"
      ]
     },
     "execution_count": 27,
     "metadata": {},
     "output_type": "execute_result"
    }
   ],
   "source": [
    "\n",
    "import scipy.stats as stats\n",
    "stats.ttest_ind(w_masked_high_acc, w_masked_low_acc)\n"
   ]
  },
  {
   "cell_type": "code",
   "execution_count": 28,
   "metadata": {
    "executionInfo": {
     "elapsed": 30,
     "status": "ok",
     "timestamp": 1726008665586,
     "user": {
      "displayName": "Michael McCoy",
      "userId": "05429933347557950115"
     },
     "user_tz": 420
    },
    "id": "MYr_T8s10UbB"
   },
   "outputs": [],
   "source": [
    "#get average pair uncertainty and use as a predictor\n",
    "#we want a distance matrix shape with the uncertainties that just averages the pair uncertainty for each pair\n",
    "\n",
    "uncertainty_matrix = np.array(np.zeros((len(uncertainties_reordered),len(uncertainties_reordered))))\n",
    "\n",
    "for i in range(len(uncertainties_reordered)):\n",
    "    for j in range(len(uncertainties_reordered)):\n",
    "        # print(i)\n",
    "        # print(j)\n",
    "        uncertainty_matrix[i,j] = np.mean([uncertainties_reordered[i], uncertainties_reordered[j]])\n",
    "\n"
   ]
  },
  {
   "cell_type": "code",
   "execution_count": 29,
   "metadata": {
    "colab": {
     "base_uri": "https://localhost:8080/"
    },
    "executionInfo": {
     "elapsed": 30,
     "status": "ok",
     "timestamp": 1726008665586,
     "user": {
      "displayName": "Michael McCoy",
      "userId": "05429933347557950115"
     },
     "user_tz": 420
    },
    "id": "auPZAqpn0JDp",
    "outputId": "e7a23094-738b-4a37-b25b-429f005630f4"
   },
   "outputs": [
    {
     "name": "stdout",
     "output_type": "stream",
     "text": [
      "820\n",
      "820\n",
      "820\n",
      "820\n"
     ]
    }
   ],
   "source": [
    "#all w's, masked\n",
    "mask_outlier = w_filtered<1\n",
    "mask_upper = np.triu(np.ones_like(w_filtered, dtype=bool))\n",
    "w_filtered_masked = w_filtered[~mask_upper & ~mask_outlier]\n",
    "s_filtered_masked = s_filtered[~mask_upper & ~mask_outlier]\n",
    "o_filtered_masked = o_filtered[~mask_upper & ~mask_outlier]\n",
    "f_filtered_masked = f_filtered[~mask_upper & ~mask_outlier]\n",
    "u_filtered_masked = uncertainty_matrix[~mask_upper & ~mask_outlier]\n",
    "print(len(w_filtered_masked))\n",
    "print(len(s_filtered_masked))\n",
    "print(len(u_filtered_masked))\n",
    "print(len(f_filtered_masked))"
   ]
  },
  {
   "cell_type": "markdown",
   "metadata": {
    "id": "Teq_NhgrVbvX"
   },
   "source": [
    "It seems like s, o, and u each contribute significantly when added individually to the model.  Things start to get weird when they are added interactively, perhaps because of colinearity?"
   ]
  },
  {
   "cell_type": "code",
   "execution_count": 30,
   "metadata": {
    "colab": {
     "base_uri": "https://localhost:8080/"
    },
    "executionInfo": {
     "elapsed": 29,
     "status": "ok",
     "timestamp": 1726008665587,
     "user": {
      "displayName": "Michael McCoy",
      "userId": "05429933347557950115"
     },
     "user_tz": 420
    },
    "id": "sr78FpUUoQGI",
    "outputId": "bdd09987-4113-4b88-e32e-a67ab6e954fe"
   },
   "outputs": [
    {
     "name": "stdout",
     "output_type": "stream",
     "text": [
      "                            OLS Regression Results                            \n",
      "==============================================================================\n",
      "Dep. Variable:                      w   R-squared:                       0.027\n",
      "Model:                            OLS   Adj. R-squared:                  0.026\n",
      "Method:                 Least Squares   F-statistic:                     22.46\n",
      "Date:                Wed, 30 Oct 2024   Prob (F-statistic):           2.53e-06\n",
      "Time:                        20:30:02   Log-Likelihood:                -2694.2\n",
      "No. Observations:                 820   AIC:                             5392.\n",
      "Df Residuals:                     818   BIC:                             5402.\n",
      "Df Model:                           1                                         \n",
      "Covariance Type:            nonrobust                                         \n",
      "==============================================================================\n",
      "                 coef    std err          t      P>|t|      [0.025      0.975]\n",
      "------------------------------------------------------------------------------\n",
      "Intercept     56.8466      0.632     89.880      0.000      55.605      58.088\n",
      "u             -4.2505      0.897     -4.739      0.000      -6.011      -2.490\n",
      "==============================================================================\n",
      "Omnibus:                        2.392   Durbin-Watson:                   1.100\n",
      "Prob(Omnibus):                  0.302   Jarque-Bera (JB):                2.276\n",
      "Skew:                          -0.126   Prob(JB):                        0.321\n",
      "Kurtosis:                       3.056   Cond. No.                         5.77\n",
      "==============================================================================\n",
      "\n",
      "Notes:\n",
      "[1] Standard Errors assume that the covariance matrix of the errors is correctly specified.\n"
     ]
    }
   ],
   "source": [
    "#average pair uncertainty as a predictor by itself\n",
    "\n",
    "data_d = {\n",
    "    'w': w_filtered_masked,\n",
    "    's': s_filtered_masked,\n",
    "    'u': u_filtered_masked,\n",
    "    'o': o_filtered_masked,\n",
    "    \"f\": f_filtered_masked,\n",
    "}\n",
    "data_df = pd.DataFrame(data_d)\n",
    "# print(data_df)\n",
    "#run linear model\n",
    "results = smf.ols('w ~ u', data=data_df).fit()\n",
    "print(results.summary())"
   ]
  },
  {
   "cell_type": "code",
   "execution_count": 31,
   "metadata": {
    "colab": {
     "base_uri": "https://localhost:8080/"
    },
    "executionInfo": {
     "elapsed": 27,
     "status": "ok",
     "timestamp": 1726008665588,
     "user": {
      "displayName": "Michael McCoy",
      "userId": "05429933347557950115"
     },
     "user_tz": 420
    },
    "id": "t5RfY20idXYF",
    "outputId": "10e34911-8d26-4007-a8e5-59577200c6a2"
   },
   "outputs": [
    {
     "name": "stdout",
     "output_type": "stream",
     "text": [
      "Optimization terminated successfully.\n",
      "         Current function value: 0.628418\n",
      "         Iterations 5\n",
      "                           Logit Regression Results                           \n",
      "==============================================================================\n",
      "Dep. Variable:                      f   No. Observations:                  820\n",
      "Model:                          Logit   Df Residuals:                      818\n",
      "Method:                           MLE   Df Model:                            1\n",
      "Date:                Wed, 30 Oct 2024   Pseudo R-squ.:                 0.03273\n",
      "Time:                        20:30:02   Log-Likelihood:                -515.30\n",
      "converged:                       True   LL-Null:                       -532.74\n",
      "Covariance Type:            nonrobust   LLR p-value:                 3.519e-09\n",
      "==============================================================================\n",
      "                 coef    std err          z      P>|z|      [0.025      0.975]\n",
      "------------------------------------------------------------------------------\n",
      "Intercept      4.3336      0.663      6.532      0.000       3.033       5.634\n",
      "w             -0.0685      0.012     -5.700      0.000      -0.092      -0.045\n",
      "==============================================================================\n"
     ]
    }
   ],
   "source": [
    "result = smf.logit('f ~ w ', data=data_df).fit()\n",
    "print(result.summary())\n",
    "\n"
   ]
  },
  {
   "cell_type": "code",
   "execution_count": 32,
   "metadata": {
    "colab": {
     "base_uri": "https://localhost:8080/",
     "height": 108
    },
    "executionInfo": {
     "elapsed": 844,
     "status": "ok",
     "timestamp": 1726008666411,
     "user": {
      "displayName": "Michael McCoy",
      "userId": "05429933347557950115"
     },
     "user_tz": 420
    },
    "id": "sCjt_FGrjASw",
    "outputId": "ee9d200c-9e00-40cf-d609-8746bc3cd7f7"
   },
   "outputs": [
    {
     "name": "stdout",
     "output_type": "stream",
     "text": [
      "[0. 1.]\n",
      "[[1. 0.]\n",
      " [1. 1.]]\n"
     ]
    },
    {
     "data": {
      "image/png": "[encoded data removed]",
      "text/plain": [
       "<Figure size 640x480 with 1 Axes>"
      ]
     },
     "metadata": {},
     "output_type": "display_data"
    }
   ],
   "source": [
    "jitter = (np.random.random(len(f_masked)) -0.5) * 0.05\n",
    "plt.scatter(w_masked, f_masked + jitter, alpha=0.1)\n",
    "plt.ylabel(\"Prediction correctness\")\n",
    "plt.xlabel(\"Weight Activation Distance\")\n",
    "plt.title(\"Faithfulness Distance vs Weight Activation Distance\")\n",
    "\n",
    "# Data for plotting fitted values\n",
    "x_plot = np.linspace(0, 1, 2)\n",
    "print(x_plot)\n",
    "# Add constant for the intercept\n",
    "X_plot = sm.add_constant(x_plot)\n",
    "print(X_plot)\n",
    "# Calculate the predicted probabilities\n",
    "#y_plot = result.predict(X_plot)\n",
    "#print(y_plot)\n"
   ]
  },
  {
   "cell_type": "code",
   "execution_count": 33,
   "metadata": {
    "colab": {
     "base_uri": "https://localhost:8080/"
    },
    "executionInfo": {
     "elapsed": 25,
     "status": "ok",
     "timestamp": 1726008666414,
     "user": {
      "displayName": "Michael McCoy",
      "userId": "05429933347557950115"
     },
     "user_tz": 420
    },
    "id": "iG8OwIWPkv3R",
    "outputId": "9378f30e-ec39-4a00-9d2c-06ff168c8a6b"
   },
   "outputs": [
    {
     "name": "stdout",
     "output_type": "stream",
     "text": [
      "                            OLS Regression Results                            \n",
      "==============================================================================\n",
      "Dep. Variable:                      w   R-squared:                       0.534\n",
      "Model:                            OLS   Adj. R-squared:                  0.532\n",
      "Method:                 Least Squares   F-statistic:                     311.8\n",
      "Date:                Wed, 30 Oct 2024   Prob (F-statistic):          7.67e-135\n",
      "Time:                        20:30:02   Log-Likelihood:                -2392.2\n",
      "No. Observations:                 820   AIC:                             4792.\n",
      "Df Residuals:                     816   BIC:                             4811.\n",
      "Df Model:                           3                                         \n",
      "Covariance Type:            nonrobust                                         \n",
      "==============================================================================\n",
      "                 coef    std err          t      P>|t|      [0.025      0.975]\n",
      "------------------------------------------------------------------------------\n",
      "Intercept     15.1632      2.046      7.410      0.000      11.147      19.180\n",
      "s              0.1398      0.039      3.568      0.000       0.063       0.217\n",
      "o              0.2520      0.010     24.743      0.000       0.232       0.272\n",
      "u             -1.8974      0.631     -3.007      0.003      -3.136      -0.659\n",
      "==============================================================================\n",
      "Omnibus:                       85.875   Durbin-Watson:                   0.851\n",
      "Prob(Omnibus):                  0.000   Jarque-Bera (JB):              165.181\n",
      "Skew:                           0.652   Prob(JB):                     1.35e-36\n",
      "Kurtosis:                       4.771   Cond. No.                     1.84e+03\n",
      "==============================================================================\n",
      "\n",
      "Notes:\n",
      "[1] Standard Errors assume that the covariance matrix of the errors is correctly specified.\n",
      "[2] The condition number is large, 1.84e+03. This might indicate that there are\n",
      "strong multicollinearity or other numerical problems.\n",
      "                            OLS Regression Results                            \n",
      "==============================================================================\n",
      "Dep. Variable:                      w   R-squared:                       0.536\n",
      "Model:                            OLS   Adj. R-squared:                  0.532\n",
      "Method:                 Least Squares   F-statistic:                     134.1\n",
      "Date:                Wed, 30 Oct 2024   Prob (F-statistic):          6.91e-131\n",
      "Time:                        20:30:02   Log-Likelihood:                -2390.3\n",
      "No. Observations:                 820   AIC:                             4797.\n",
      "Df Residuals:                     812   BIC:                             4834.\n",
      "Df Model:                           7                                         \n",
      "Covariance Type:            nonrobust                                         \n",
      "==============================================================================\n",
      "                 coef    std err          t      P>|t|      [0.025      0.975]\n",
      "------------------------------------------------------------------------------\n",
      "Intercept    -26.1885     41.768     -0.627      0.531    -108.175      55.798\n",
      "s              0.8306      0.768      1.082      0.280      -0.676       2.337\n",
      "o              0.6420      0.337      1.904      0.057      -0.020       1.304\n",
      "s:o           -0.0066      0.006     -1.069      0.285      -0.019       0.005\n",
      "u             33.9576     52.770      0.644      0.520     -69.624     137.540\n",
      "s:u           -0.5505      0.980     -0.562      0.574      -2.473       1.372\n",
      "o:u           -0.3732      0.429     -0.870      0.385      -1.215       0.469\n",
      "s:o:u          0.0060      0.008      0.756      0.450      -0.010       0.021\n",
      "==============================================================================\n",
      "Omnibus:                       84.490   Durbin-Watson:                   0.846\n",
      "Prob(Omnibus):                  0.000   Jarque-Bera (JB):              166.424\n",
      "Skew:                           0.635   Prob(JB):                     7.27e-37\n",
      "Kurtosis:                       4.805   Cond. No.                     3.78e+06\n",
      "==============================================================================\n",
      "\n",
      "Notes:\n",
      "[1] Standard Errors assume that the covariance matrix of the errors is correctly specified.\n",
      "[2] The condition number is large, 3.78e+06. This might indicate that there are\n",
      "strong multicollinearity or other numerical problems.\n"
     ]
    }
   ],
   "source": [
    "#use average pair uncertainty as a predictor in combination with the S and O distance matrices\n",
    "\n",
    "data_d = {'w': w_filtered_masked, 's': s_filtered_masked, 'u': u_filtered_masked, 'o': o_filtered_masked}\n",
    "data_df = pd.DataFrame(data_d)\n",
    "# print(data_df)\n",
    "#run linear model\n",
    "results = smf.ols('w ~ s + o + u', data=data_df).fit()\n",
    "print(results.summary())\n",
    "\n",
    "results = smf.ols('w ~ s * o * u', data=data_df).fit()\n",
    "print(results.summary())"
   ]
  },
  {
   "cell_type": "code",
   "execution_count": null,
   "metadata": {
    "executionInfo": {
     "elapsed": 22,
     "status": "ok",
     "timestamp": 1726008666414,
     "user": {
      "displayName": "Michael McCoy",
      "userId": "05429933347557950115"
     },
     "user_tz": 420
    },
    "id": "kD4gc6BW1a8a"
   },
   "outputs": [],
   "source": []
  },
  {
   "cell_type": "code",
   "execution_count": 34,
   "metadata": {
    "colab": {
     "base_uri": "https://localhost:8080/"
    },
    "executionInfo": {
     "elapsed": 22,
     "status": "ok",
     "timestamp": 1726008666414,
     "user": {
      "displayName": "Michael McCoy",
      "userId": "05429933347557950115"
     },
     "user_tz": 420
    },
    "id": "HxIQxzeEQukz",
    "outputId": "c071e8a4-5ca3-429e-dd4e-e88e4b57da1c"
   },
   "outputs": [
    {
     "name": "stdout",
     "output_type": "stream",
     "text": [
      "Linear model predicting W from O and S\n",
      "                            OLS Regression Results                            \n",
      "==============================================================================\n",
      "Dep. Variable:                      w   R-squared:                       0.531\n",
      "Model:                            OLS   Adj. R-squared:                  0.529\n",
      "Method:                 Least Squares   F-statistic:                     307.5\n",
      "Date:                Wed, 30 Oct 2024   Prob (F-statistic):          1.63e-133\n",
      "Time:                        20:30:02   Log-Likelihood:                -2395.2\n",
      "No. Observations:                 820   AIC:                             4798.\n",
      "Df Residuals:                     816   BIC:                             4817.\n",
      "Df Model:                           3                                         \n",
      "Covariance Type:            nonrobust                                         \n",
      "==============================================================================\n",
      "                 coef    std err          t      P>|t|      [0.025      0.975]\n",
      "------------------------------------------------------------------------------\n",
      "Intercept     -7.1354     12.586     -0.567      0.571     -31.840      17.569\n",
      "o              0.4319      0.103      4.177      0.000       0.229       0.635\n",
      "s              0.5145      0.231      2.223      0.027       0.060       0.969\n",
      "o:s           -0.0032      0.002     -1.697      0.090      -0.007       0.000\n",
      "==============================================================================\n",
      "Omnibus:                       77.800   Durbin-Watson:                   0.861\n",
      "Prob(Omnibus):                  0.000   Jarque-Bera (JB):              154.368\n",
      "Skew:                           0.589   Prob(JB):                     3.02e-34\n",
      "Kurtosis:                       4.770   Cond. No.                     5.92e+05\n",
      "==============================================================================\n",
      "\n",
      "Notes:\n",
      "[1] Standard Errors assume that the covariance matrix of the errors is correctly specified.\n",
      "[2] The condition number is large, 5.92e+05. This might indicate that there are\n",
      "strong multicollinearity or other numerical problems.\n"
     ]
    }
   ],
   "source": [
    "#create pandas df\n",
    "data_d = {'w': w_masked, 'o': o_masked, 's': s_masked}\n",
    "data_df = pd.DataFrame(data_d)\n",
    "# print(data_df)\n",
    "#run linear model\n",
    "print('Linear model predicting W from O and S')\n",
    "results = smf.ols('w ~ o * s', data=data_df).fit()\n",
    "print(results.summary())"
   ]
  },
  {
   "cell_type": "markdown",
   "metadata": {
    "id": "toHwRPFEQxo1"
   },
   "source": [
    "Model W as a function of S (the subject representation). We see a significant predictive relationship!"
   ]
  },
  {
   "cell_type": "code",
   "execution_count": 35,
   "metadata": {
    "colab": {
     "base_uri": "https://localhost:8080/"
    },
    "executionInfo": {
     "elapsed": 19,
     "status": "ok",
     "timestamp": 1726008666414,
     "user": {
      "displayName": "Michael McCoy",
      "userId": "05429933347557950115"
     },
     "user_tz": 420
    },
    "id": "UwRONrduVJYk",
    "outputId": "af57e514-73d3-4397-9fc7-cd405103b322"
   },
   "outputs": [
    {
     "name": "stdout",
     "output_type": "stream",
     "text": [
      "Linear model predicting W from S\n",
      "                            OLS Regression Results                            \n",
      "==============================================================================\n",
      "Dep. Variable:                      w   R-squared:                       0.154\n",
      "Model:                            OLS   Adj. R-squared:                  0.152\n",
      "Method:                 Least Squares   F-statistic:                     148.3\n",
      "Date:                Wed, 30 Oct 2024   Prob (F-statistic):           1.77e-31\n",
      "Time:                        20:30:03   Log-Likelihood:                -2637.0\n",
      "No. Observations:                 820   AIC:                             5278.\n",
      "Df Residuals:                     818   BIC:                             5287.\n",
      "Df Model:                           1                                         \n",
      "Covariance Type:            nonrobust                                         \n",
      "==============================================================================\n",
      "                 coef    std err          t      P>|t|      [0.025      0.975]\n",
      "------------------------------------------------------------------------------\n",
      "Intercept     21.6228      2.671      8.097      0.000      16.381      26.865\n",
      "s              0.5721      0.047     12.179      0.000       0.480       0.664\n",
      "==============================================================================\n",
      "Omnibus:                        6.003   Durbin-Watson:                   1.054\n",
      "Prob(Omnibus):                  0.050   Jarque-Bera (JB):                6.006\n",
      "Skew:                           0.171   Prob(JB):                       0.0496\n",
      "Kurtosis:                       3.243   Cond. No.                         720.\n",
      "==============================================================================\n",
      "\n",
      "Notes:\n",
      "[1] Standard Errors assume that the covariance matrix of the errors is correctly specified.\n"
     ]
    }
   ],
   "source": [
    "#create pandas df\n",
    "data_d = {'w': w_masked, 's': s_masked}\n",
    "data_df = pd.DataFrame(data_d)\n",
    "#run linear model\n",
    "print('Linear model predicting W from S')\n",
    "results = smf.ols('w ~ s', data=data_df).fit()\n",
    "print(results.summary())\n"
   ]
  },
  {
   "cell_type": "markdown",
   "metadata": {
    "id": "_x-7922VSNW3"
   },
   "source": [
    "Compare W between high and low accuracy items. We predict that W distances should be greater when there is larger uncertainty (low > high). And this is what we see!"
   ]
  },
  {
   "cell_type": "code",
   "execution_count": 36,
   "metadata": {
    "colab": {
     "base_uri": "https://localhost:8080/"
    },
    "executionInfo": {
     "elapsed": 17,
     "status": "ok",
     "timestamp": 1726008666414,
     "user": {
      "displayName": "Michael McCoy",
      "userId": "05429933347557950115"
     },
     "user_tz": 420
    },
    "id": "Ph0BCR5eTKRb",
    "outputId": "615f480f-3088-4ab4-e616-831a12aee02b"
   },
   "outputs": [
    {
     "name": "stdout",
     "output_type": "stream",
     "text": [
      "Linear model predicting W from O\n",
      "                            OLS Regression Results                            \n",
      "==============================================================================\n",
      "Dep. Variable:                      w   R-squared:                       0.523\n",
      "Model:                            OLS   Adj. R-squared:                  0.522\n",
      "Method:                 Least Squares   F-statistic:                     896.3\n",
      "Date:                Wed, 30 Oct 2024   Prob (F-statistic):          1.43e-133\n",
      "Time:                        20:30:03   Log-Likelihood:                -2401.9\n",
      "No. Observations:                 820   AIC:                             4808.\n",
      "Df Residuals:                     818   BIC:                             4817.\n",
      "Df Model:                           1                                         \n",
      "Covariance Type:            nonrobust                                         \n",
      "==============================================================================\n",
      "                 coef    std err          t      P>|t|      [0.025      0.975]\n",
      "------------------------------------------------------------------------------\n",
      "Intercept     19.3011      1.171     16.478      0.000      17.002      21.600\n",
      "o              0.2718      0.009     29.939      0.000       0.254       0.290\n",
      "==============================================================================\n",
      "Omnibus:                       76.334   Durbin-Watson:                   0.854\n",
      "Prob(Omnibus):                  0.000   Jarque-Bera (JB):              146.044\n",
      "Skew:                           0.591   Prob(JB):                     1.94e-32\n",
      "Kurtosis:                       4.697   Cond. No.                         955.\n",
      "==============================================================================\n",
      "\n",
      "Notes:\n",
      "[1] Standard Errors assume that the covariance matrix of the errors is correctly specified.\n"
     ]
    }
   ],
   "source": [
    "#create pandas df\n",
    "data_d = {'w': w_masked, 'o': o_masked}\n",
    "data_df = pd.DataFrame(data_d)\n",
    "# print(data_df)\n",
    "#run linear model\n",
    "print('Linear model predicting W from O')\n",
    "results = smf.ols('w ~ o', data=data_df).fit()\n",
    "print(results.summary())"
   ]
  }
 ],
 "metadata": {
  "colab": {
   "machine_shape": "hm",
   "provenance": []
  },
  "kernelspec": {
   "display_name": "Python 3 (ipykernel)",
   "language": "python",
   "name": "python3"
  },
  "language_info": {
   "codemirror_mode": {
    "name": "ipython",
    "version": 3
   },
   "file_extension": ".py",
   "mimetype": "text/x-python",
   "name": "python",
   "nbconvert_exporter": "python",
   "pygments_lexer": "ipython3",
   "version": "3.10.12"
  }
 },
 "nbformat": 4,
 "nbformat_minor": 4
}
