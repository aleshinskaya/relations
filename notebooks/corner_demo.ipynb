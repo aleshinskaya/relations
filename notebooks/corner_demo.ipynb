{
 "cells": [
  {
   "cell_type": "code",
   "execution_count": 1,
   "metadata": {},
   "outputs": [],
   "source": [
    "%load_ext autoreload\n",
    "%autoreload 2"
   ]
  },
  {
   "cell_type": "code",
   "execution_count": 2,
   "metadata": {},
   "outputs": [],
   "source": [
    "import torch\n",
    "import numpy as np\n",
    "import json\n",
    "from tqdm.auto import tqdm\n",
    "import random\n",
    "import transformers\n",
    "\n",
    "import os\n",
    "import sys\n",
    "sys.path.append('..')\n",
    "\n",
    "from relations import estimate\n",
    "from util import model_utils\n",
    "from baukit import nethook\n",
    "from operator import itemgetter"
   ]
  },
  {
   "cell_type": "code",
   "execution_count": 3,
   "metadata": {},
   "outputs": [
    {
     "name": "stdout",
     "output_type": "stream",
     "text": [
      "EleutherAI/gpt-j-6B ==> device: cuda:0, memory: 24320971760\n"
     ]
    }
   ],
   "source": [
    "MODEL_NAME = \"EleutherAI/gpt-j-6B\"  # gpt2-{medium,large,xl} or EleutherAI/gpt-j-6B\n",
    "mt = model_utils.ModelAndTokenizer(MODEL_NAME, low_cpu_mem_usage=True, torch_dtype=torch.float32)\n",
    "\n",
    "model = mt.model\n",
    "tokenizer = mt.tokenizer\n",
    "tokenizer.pad_token = tokenizer.eos_token\n",
    "\n",
    "print(f\"{MODEL_NAME} ==> device: {model.device}, memory: {model.get_memory_footprint()}\")"
   ]
  },
  {
   "cell_type": "code",
   "execution_count": 9,
   "metadata": {},
   "outputs": [
    {
     "name": "stdout",
     "output_type": "stream",
     "text": [
      "unique objects:  95 [' Malta', ' Bahamas', ' Brazil', ' Bermuda', ' Israel']\n"
     ]
    }
   ],
   "source": [
    "#################################################\n",
    "relation_id = \"P17\"\n",
    "precision_at = 3\n",
    "#################################################\n",
    "\n",
    "with open(\"../data/counterfact.json\") as f:\n",
    "    counterfact = json.load(f)\n",
    "\n",
    "objects = [c['requested_rewrite'] for c in counterfact if c[\"requested_rewrite\"]['relation_id'] == relation_id]\n",
    "objects = [\" \"+ o['target_true']['str'] for o in objects]\n",
    "objects = list(set(objects))\n",
    "print(\"unique objects: \", len(objects), objects[0:5])"
   ]
  },
  {
   "cell_type": "code",
   "execution_count": 39,
   "metadata": {},
   "outputs": [],
   "source": [
    "from relations.corner import CornerEstimator\n",
    "corner_estimator = CornerEstimator(model=model, tokenizer=tokenizer)"
   ]
  },
  {
   "cell_type": "code",
   "execution_count": 40,
   "metadata": {},
   "outputs": [
    {
     "name": "stdout",
     "output_type": "stream",
     "text": [
      "48.699092864990234 [' Italy', ' Spain', ' France', ' Germany', ' India']\n"
     ]
    }
   ],
   "source": [
    "simple_corner = corner_estimator.estimate_simple_corner(objects, scale_up=70)\n",
    "print(simple_corner.norm().item(), corner_estimator.get_vocab_representation(simple_corner))"
   ]
  },
  {
   "cell_type": "code",
   "execution_count": 41,
   "metadata": {},
   "outputs": [
    {
     "name": "stdout",
     "output_type": "stream",
     "text": [
      "calculating inverse of unbedding weights . . .\n",
      "59.5070686340332 [' Italy', ' Greece', ' Poland', ' Argentina', ' Germany']\n"
     ]
    }
   ],
   "source": [
    "lin_inv_corner = corner_estimator.estimate_lin_inv_corner(objects, target_logit_value=50)\n",
    "print(lin_inv_corner.norm().item(), corner_estimator.get_vocab_representation(lin_inv_corner))"
   ]
  },
  {
   "cell_type": "code",
   "execution_count": 42,
   "metadata": {},
   "outputs": [
    {
     "name": "stdout",
     "output_type": "stream",
     "text": [
      "initial representation:  ['members', 'Kind', 'Gate', 'quite', 'Join']\n"
     ]
    },
    {
     "data": {
      "image/png": "[encoded data removed]",
      "text/plain": [
       "<Figure size 640x480 with 1 Axes>"
      ]
     },
     "metadata": {},
     "output_type": "display_data"
    },
    {
     "name": "stdout",
     "output_type": "stream",
     "text": [
      "final representation:  [' Nigeria', ' Bangladesh', ' Finland', ' Thailand', ' Belgium']\n",
      "50.91480255126953\n"
     ]
    }
   ],
   "source": [
    "grad_dsc_corner = corner_estimator.estimate_corner_with_gradient_descent(objects, target_logit_value=50, verbose=True)\n",
    "print(grad_dsc_corner.norm().item())"
   ]
  },
  {
   "cell_type": "code",
   "execution_count": 46,
   "metadata": {},
   "outputs": [
    {
     "name": "stdout",
     "output_type": "stream",
     "text": [
      "40.769771575927734 [' Ukraine', ' Finland', ' Nigeria', ' Bangladesh', ' Cyprus']\n"
     ]
    }
   ],
   "source": [
    "avg_corner = corner_estimator.estimate_average_corner_with_gradient_descent(objects, average_on=5, target_logit_value=50, verbose=False)\n",
    "print(avg_corner.norm().item(), corner_estimator.get_vocab_representation(avg_corner))"
   ]
  },
  {
   "cell_type": "code",
   "execution_count": 47,
   "metadata": {},
   "outputs": [],
   "source": [
    "def P17__check_with_test_cases(relation_operator):\n",
    "\n",
    "    test_cases = [\n",
    "        (\"The Great Wall\", -1, \"China\"),\n",
    "        (\"Niagara Falls\", -2, \"Canada\"),\n",
    "        (\"Valdemarsvik\", -1, \"Sweden\"),\n",
    "        (\"Kyoto University\", -2, \"Japan\"),\n",
    "        (\"Hattfjelldal\", -1, \"Norway\"),\n",
    "        (\"Ginza\", -1, \"Japan\"),\n",
    "        (\"Sydney Hospital\", -2, \"Australia\"),\n",
    "        (\"Mahalangur Himal\", -1, \"Nepal\"),\n",
    "        (\"Higashikagawa\", -1, \"Japan\"),\n",
    "        (\"Trento\", -1, \"Italy\"),\n",
    "        (\"Taj Mahal\", -1, \"India\"),\n",
    "        (\"Hagia Sophia\", -1, \"Turkey\"),\n",
    "        (\"Colosseum\", -1, \"Italy\"),\n",
    "        (\"Mount Everest\", -1, \"Nepal\"),\n",
    "        (\"Valencia\", -1, \"Spain\"),\n",
    "        (\"Lake Baikal\", -1, \"Russia\"),\n",
    "        (\"Merlion Park\", -1, \"Singapore\"),\n",
    "        (\"Cologne Cathedral\", -1, \"Germany\"),\n",
    "        (\"Buda Castle\", -1, \"Hungary\")\n",
    "    ]\n",
    "\n",
    "    for subject, subject_token_index, target in test_cases:\n",
    "        objects = relation_operator(\n",
    "            subject,\n",
    "            subject_token_index=subject_token_index,\n",
    "            device=model.device,\n",
    "            return_top_k=5,\n",
    "        )\n",
    "        print(f\"{subject}, target: {target}   ==>   predicted: {objects}\")"
   ]
  },
  {
   "cell_type": "code",
   "execution_count": 49,
   "metadata": {},
   "outputs": [
    {
     "name": "stdout",
     "output_type": "stream",
     "text": [
      "The Great Wall, target: China   ==>   predicted: [' China', ' India', ' Japan', ' Russia', ' Thailand']\n",
      "Niagara Falls, target: Canada   ==>   predicted: [' Canada', ' India', ' France', ' Italy', ' Australia']\n",
      "Valdemarsvik, target: Sweden   ==>   predicted: [' Sweden', ' Norway', ' Germany', ' Finland', ' Denmark']\n",
      "Kyoto University, target: Japan   ==>   predicted: [' Japan', ' France', ' Thailand', ' Italy', ' India']\n",
      "Hattfjelldal, target: Norway   ==>   predicted: [' Norway', ' Sweden', ' India', ' Germany', ' Switzerland']\n",
      "Ginza, target: Japan   ==>   predicted: [' Japan', ' Italy', ' France', ' China', ' Thailand']\n",
      "Sydney Hospital, target: Australia   ==>   predicted: [' Australia', ' France', ' Spain', ' Russia', ' China']\n",
      "Mahalangur Himal, target: Nepal   ==>   predicted: [' India', ' Pakistan', ' China', ' Japan', ' Nepal']\n",
      "Higashikagawa, target: Japan   ==>   predicted: [' Japan', ' Spain', ' France', ' Italy', ' Canada']\n",
      "Trento, target: Italy   ==>   predicted: [' Italy', ' Spain', ' France', ' Germany', ' Japan']\n",
      "Taj Mahal, target: India   ==>   predicted: [' India', ' Pakistan', ' Indonesia', ' Mexico', ' China']\n",
      "Hagia Sophia, target: Turkey   ==>   predicted: [' Turkey', ' Bulgaria', ' Germany', ' Spain', ' Greece']\n",
      "Colosseum, target: Italy   ==>   predicted: [' Italy', ' Greece', ' Argentina', ' France', ' Japan']\n",
      "Mount Everest, target: Nepal   ==>   predicted: [' India', ' China', ' Pakistan', ' Canada', ' Argentina']\n",
      "Valencia, target: Spain   ==>   predicted: [' Spain', ' France', ' Argentina', ' Italy', ' Portugal']\n",
      "Lake Baikal, target: Russia   ==>   predicted: [' Russia', ' China', ' Germany', ' India', ' Argentina']\n",
      "Merlion Park, target: Singapore   ==>   predicted: [' Australia', ' Indonesia', ' Thailand', ' Malaysia', ' China']\n",
      "Cologne Cathedral, target: Germany   ==>   predicted: [' Germany', ' France', ' Italy', ' Europe', ' Spain']\n",
      "Buda Castle, target: Hungary   ==>   predicted: [' Hungary', ' Germany', ' Spain', ' Romania', ' France']\n"
     ]
    }
   ],
   "source": [
    "relation = estimate.RelationOperator(\n",
    "    model = model,\n",
    "    tokenizer = tokenizer,\n",
    "    relation = '{} is located in the country of',\n",
    "    layer = 15,\n",
    "    weight = torch.eye(model.config.n_embd).to(model.dtype).to(model.device),\n",
    "    bias = simple_corner\n",
    ")\n",
    "P17__check_with_test_cases(relation)"
   ]
  },
  {
   "cell_type": "code",
   "execution_count": 50,
   "metadata": {},
   "outputs": [
    {
     "name": "stdout",
     "output_type": "stream",
     "text": [
      "The Great Wall, target: China   ==>   predicted: [' China', ' India', ' Hungary', ' Thailand', ' Argentina']\n",
      "Niagara Falls, target: Canada   ==>   predicted: [' Canada', ' India', ' Italy', ' Finland', ' Germany']\n",
      "Valdemarsvik, target: Sweden   ==>   predicted: [' Sweden', ' Norway', ' Finland', ' Denmark', ' Germany']\n",
      "Kyoto University, target: Japan   ==>   predicted: [' Japan', ' France', ' Italy', ' Thailand', ' Indonesia']\n",
      "Hattfjelldal, target: Norway   ==>   predicted: [' Norway', ' Sweden', ' Switzerland', ' Germany', ' India']\n",
      "Ginza, target: Japan   ==>   predicted: [' Japan', ' Italy', ' France', ' Thailand', ' India']\n",
      "Sydney Hospital, target: Australia   ==>   predicted: [' Australia', ' France', ' Spain', ' Argentina', ' Germany']\n",
      "Mahalangur Himal, target: Nepal   ==>   predicted: [' India', ' Argentina', ' Italy', ' Germany', ' Pakistan']\n",
      "Higashikagawa, target: Japan   ==>   predicted: [' Japan', ' Spain', ' Poland', ' Italy', ' France']\n",
      "Trento, target: Italy   ==>   predicted: [' Italy', ' Spain', ' Germany', ' France', ' Croatia']\n",
      "Taj Mahal, target: India   ==>   predicted: [' India', ' Indonesia', ' Argentina', ' Italy', ' Nigeria']\n",
      "Hagia Sophia, target: Turkey   ==>   predicted: [' Bulgaria', ' Greece', ' Turkey', ' Romania', ' Germany']\n",
      "Colosseum, target: Italy   ==>   predicted: [' Italy', ' Greece', ' Argentina', ' France', ' Spain']\n",
      "Mount Everest, target: Nepal   ==>   predicted: [' India', ' Argentina', ' Canada', ' Indonesia', ' Albania']\n",
      "Valencia, target: Spain   ==>   predicted: [' Spain', ' Argentina', ' Italy', ' France', ' Portugal']\n",
      "Lake Baikal, target: Russia   ==>   predicted: [' Russia', ' Bulgaria', ' Poland', ' Argentina', ' Germany']\n",
      "Merlion Park, target: Singapore   ==>   predicted: [' Indonesia', ' Thailand', ' Australia', ' Malaysia', ' Romania']\n",
      "Cologne Cathedral, target: Germany   ==>   predicted: [' Germany', ' France', ' Italy', ' Poland', ' Switzerland']\n",
      "Buda Castle, target: Hungary   ==>   predicted: [' Hungary', ' Germany', ' Romania', ' Bulgaria', ' Spain']\n"
     ]
    }
   ],
   "source": [
    "relation = estimate.RelationOperator(\n",
    "    model = model,\n",
    "    tokenizer = tokenizer,\n",
    "    relation = '{} is located in the country of',\n",
    "    layer = 15,\n",
    "    weight = torch.eye(model.config.n_embd).to(model.dtype).to(model.device),\n",
    "    bias = lin_inv_corner\n",
    ")\n",
    "P17__check_with_test_cases(relation)"
   ]
  },
  {
   "cell_type": "code",
   "execution_count": 51,
   "metadata": {},
   "outputs": [
    {
     "name": "stdout",
     "output_type": "stream",
     "text": [
      "The Great Wall, target: China   ==>   predicted: [' China', ' Taiwan', ' Thailand', ' Japan', ' Bangladesh']\n",
      "Niagara Falls, target: Canada   ==>   predicted: [' Canada', ' Falls', ' Philippines', ' Ontario', ' University']\n",
      "Valdemarsvik, target: Sweden   ==>   predicted: [' Norway', ' Sweden', ' Finland', ' Denmark', ' Estonia']\n",
      "Kyoto University, target: Japan   ==>   predicted: [' Japan', ' Philippines', ' Thailand', ' University', ' Netherlands']\n",
      "Hattfjelldal, target: Norway   ==>   predicted: [' Norway', ' Sweden', ' Switzerland', ' Denmark', ' Austria']\n",
      "Ginza, target: Japan   ==>   predicted: [' Japan', ' Tokyo', ' Osaka', ' Taiwan', ' Thailand']\n",
      "Sydney Hospital, target: Australia   ==>   predicted: [' Australia', ' Russia', ' Ireland', ' Harbour', ' South']\n",
      "Mahalangur Himal, target: Nepal   ==>   predicted: [' India', ' Pakistan', ' Nepal', ' Kenya', ' Bangladesh']\n",
      "Higashikagawa, target: Japan   ==>   predicted: [' Japan', ' Korea', ' Taiwan', ' Netherlands', ' Canada']\n",
      "Trento, target: Italy   ==>   predicted: [' Italy', ' Croatia', ' Netherlands', ' Switzerland', ' Belgium']\n",
      "Taj Mahal, target: India   ==>   predicted: [' India', ' Pakistan', ' Nepal', ' Bangladesh', ' Singapore']\n",
      "Hagia Sophia, target: Turkey   ==>   predicted: [' Bulgaria', ' Turkey', ' Istanbul', ' Ukraine', ' Albania']\n",
      "Colosseum, target: Italy   ==>   predicted: [' Italy', ' Greece', ' Argentina', ' Egypt', ' Singapore']\n",
      "Mount Everest, target: Nepal   ==>   predicted: [' Pakistan', ' Nepal', ' India', ' Philippines', ' Canada']\n",
      "Valencia, target: Spain   ==>   predicted: [' Spain', ' Portugal', ' Argentina', ' Guatemala', ' Croatia']\n",
      "Lake Baikal, target: Russia   ==>   predicted: [' Russia', ' Bulgaria', ' Finland', ' Ukraine', ' Switzerland']\n",
      "Merlion Park, target: Singapore   ==>   predicted: [' Singapore', ' Thailand', ' Indonesia', ' Philippines', ' Malaysia']\n",
      "Cologne Cathedral, target: Germany   ==>   predicted: [' Germany', ' Switzerland', ' Austria', ' Luxembourg', ' France']\n",
      "Buda Castle, target: Hungary   ==>   predicted: [' Hungary', ' Romania', ' Luxembourg', ' Prague', ' Bulgaria']\n"
     ]
    }
   ],
   "source": [
    "relation = estimate.RelationOperator(\n",
    "    model = model,\n",
    "    tokenizer = tokenizer,\n",
    "    relation = '{} is located in the country of',\n",
    "    layer = 15,\n",
    "    weight = torch.eye(model.config.n_embd).to(model.dtype).to(model.device),\n",
    "    bias = grad_dsc_corner\n",
    ")\n",
    "P17__check_with_test_cases(relation)"
   ]
  },
  {
   "cell_type": "code",
   "execution_count": 52,
   "metadata": {},
   "outputs": [
    {
     "name": "stdout",
     "output_type": "stream",
     "text": [
      "The Great Wall, target: China   ==>   predicted: [' China', ' Taiwan', ' Japan', ' Thailand', ' Bangladesh']\n",
      "Niagara Falls, target: Canada   ==>   predicted: [' Canada', ' Falls', ' University', ' Philippines', ' Ontario']\n",
      "Valdemarsvik, target: Sweden   ==>   predicted: [' Norway', ' Sweden', ' Denmark', ' Finland', ' Estonia']\n",
      "Kyoto University, target: Japan   ==>   predicted: [' Japan', ' Philippines', ' University', ' Thailand', ' Netherlands']\n",
      "Hattfjelldal, target: Norway   ==>   predicted: [' Norway', ' Sweden', ' Switzerland', ' Denmark', ' Iceland']\n",
      "Ginza, target: Japan   ==>   predicted: [' Japan', ' Tokyo', ' Osaka', ' Taiwan', ' Thailand']\n",
      "Sydney Hospital, target: Australia   ==>   predicted: [' Australia', ' Russia', ' Ireland', ' Israel', ' France']\n",
      "Mahalangur Himal, target: Nepal   ==>   predicted: [' India', ' Pakistan', ' Nepal', ' Bangladesh', ' Kenya']\n",
      "Higashikagawa, target: Japan   ==>   predicted: [' Japan', ' Taiwan', ' Korea', ' Netherlands', ' Canada']\n",
      "Trento, target: Italy   ==>   predicted: [' Italy', ' Croatia', ' Switzerland', ' Netherlands', ' University']\n",
      "Taj Mahal, target: India   ==>   predicted: [' India', ' Pakistan', ' Nepal', ' Bangladesh', ' Singapore']\n",
      "Hagia Sophia, target: Turkey   ==>   predicted: [' Bulgaria', ' Turkey', ' Istanbul', ' Ukraine', ' Albania']\n",
      "Colosseum, target: Italy   ==>   predicted: [' Italy', ' Greece', ' Singapore', ' Argentina', ' Egypt']\n",
      "Mount Everest, target: Nepal   ==>   predicted: [' Pakistan', ' Nepal', ' India', ' Philippines', ' Canada']\n",
      "Valencia, target: Spain   ==>   predicted: [' Spain', ' Portugal', ' Argentina', ' Croatia', ' France']\n",
      "Lake Baikal, target: Russia   ==>   predicted: [' Russia', ' Ukraine', ' Bulgaria', ' Finland', ' Switzerland']\n",
      "Merlion Park, target: Singapore   ==>   predicted: [' Singapore', ' Australia', ' Indonesia', ' Thailand', ' Philippines']\n",
      "Cologne Cathedral, target: Germany   ==>   predicted: [' Germany', ' Switzerland', ' France', ' Austria', ' Luxembourg']\n",
      "Buda Castle, target: Hungary   ==>   predicted: [' Hungary', ' Romania', ' Luxembourg', ' Bulgaria', ' Vienna']\n"
     ]
    }
   ],
   "source": [
    "relation = estimate.RelationOperator(\n",
    "    model = model,\n",
    "    tokenizer = tokenizer,\n",
    "    relation = '{} is located in the country of',\n",
    "    layer = 15,\n",
    "    weight = torch.eye(model.config.n_embd).to(model.dtype).to(model.device),\n",
    "    bias = avg_corner\n",
    ")\n",
    "P17__check_with_test_cases(relation)"
   ]
  },
  {
   "cell_type": "code",
   "execution_count": null,
   "metadata": {},
   "outputs": [],
   "source": []
  }
 ],
 "metadata": {
  "kernelspec": {
   "display_name": "relation",
   "language": "python",
   "name": "python3"
  },
  "language_info": {
   "codemirror_mode": {
    "name": "ipython",
    "version": 3
   },
   "file_extension": ".py",
   "mimetype": "text/x-python",
   "name": "python",
   "nbconvert_exporter": "python",
   "pygments_lexer": "ipython3",
   "version": "3.10.8"
  },
  "orig_nbformat": 4,
  "vscode": {
   "interpreter": {
    "hash": "3439fe3f7dcaddaf51997811d25ada8e7c0985d2997d22a3ed461af94d2f9f43"
   }
  }
 },
 "nbformat": 4,
 "nbformat_minor": 2
}
