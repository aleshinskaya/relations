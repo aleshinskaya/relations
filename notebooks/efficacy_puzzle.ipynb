{
 "cells": [
  {
   "cell_type": "code",
   "execution_count": 1,
   "metadata": {},
   "outputs": [],
   "source": [
    "%load_ext autoreload\n",
    "%autoreload 2"
   ]
  },
  {
   "cell_type": "code",
   "execution_count": 2,
   "metadata": {},
   "outputs": [],
   "source": [
    "import sys\n",
    "sys.path.append('..')\n",
    "\n",
    "import torch\n",
    "import matplotlib.pyplot as plt\n",
    "from src import models, data\n",
    "from tqdm.auto import tqdm\n",
    "import json\n",
    "import os\n",
    "import numpy as np\n",
    "import copy\n"
   ]
  },
  {
   "cell_type": "code",
   "execution_count": 3,
   "metadata": {},
   "outputs": [],
   "source": [
    "mt = models.load_model(\"gptj\", fp16=True, device=\"cuda\")"
   ]
  },
  {
   "cell_type": "code",
   "execution_count": 4,
   "metadata": {},
   "outputs": [],
   "source": [
    "#####################################\n",
    "relation_name = \"plays pro sport\"\n",
    "#####################################"
   ]
  },
  {
   "cell_type": "code",
   "execution_count": 5,
   "metadata": {},
   "outputs": [],
   "source": [
    "dataset = data.load_dataset()\n",
    "relation = dataset.filter(\n",
    "    relation_names = [relation_name]\n",
    ")[0]"
   ]
  },
  {
   "cell_type": "code",
   "execution_count": 6,
   "metadata": {},
   "outputs": [],
   "source": [
    "from src.utils.sweep_utils import read_sweep_results, relation_from_dict"
   ]
  },
  {
   "cell_type": "code",
   "execution_count": 7,
   "metadata": {},
   "outputs": [],
   "source": [
    "sweep_dict = read_sweep_results(\n",
    "    \"../results/sweep-24-trials/gptj\", \n",
    "    relation_names=[relation_name], \n",
    "    economy=False\n",
    ")"
   ]
  },
  {
   "cell_type": "code",
   "execution_count": 8,
   "metadata": {},
   "outputs": [],
   "source": [
    "relation_result = relation_from_dict(sweep_dict[relation_name])"
   ]
  },
  {
   "cell_type": "code",
   "execution_count": 9,
   "metadata": {},
   "outputs": [
    {
     "name": "stdout",
     "output_type": "stream",
     "text": [
      "trial_options=[0, 1, 2, 3, 4, 5, 6, 7, 8, 9, 10, 11, 12, 13, 14, 15, 16, 17, 18, 19, 20, 21, 22, 23]\n",
      "layer_options=['emb', 0, 1, 2, 3, 4, 5, 6, 7, 8, 9, 10, 11, 12, 13, 14, 15, 16, 17, 18, 19, 20, 21, 22, 23, 24, 25, 26, 27]\n",
      "rank_options=[0, 8, 16, 24, 32, 40, 48, 56, 64, 72, 80, 88, 96, 104, 112, 120, 128, 136, 144, 152, 160, 168, 176, 184, 192, 200, 208, 216, 224, 232, 240, 248, 256, 264, 272, 280, 288, 296, 304, 312]\n"
     ]
    }
   ],
   "source": [
    "trial_options = list(range(len(relation_result.trials)))\n",
    "print(f\"{trial_options=}\")\n",
    "\n",
    "layer_options = [layer.layer for layer in relation_result.trials[0].layers]\n",
    "print(f\"{layer_options=}\")\n",
    "\n",
    "rank_options = [rank.rank for rank in relation_result.trials[0].layers[0].result.ranks]\n",
    "print(f\"{rank_options=}\")"
   ]
  },
  {
   "cell_type": "code",
   "execution_count": 10,
   "metadata": {},
   "outputs": [
    {
     "data": {
      "text/plain": [
       "{'layer': 6,\n",
       " 'beta': AggregateMetric(mean=2.25, stdev=0.0, stderr=0.0, values=[2.25, 2.25, 2.25, 2.25, 2.25, 2.25, 2.25, 2.25, 2.25, 2.25, 2.25, 2.25, 2.25, 2.25, 2.25, 2.25, 2.25, 2.25, 2.25, 2.25, 2.25, 2.25, 2.25, 2.25]),\n",
       " 'recall': AggregateMetric(mean=0.7602235527293386, stdev=0.06316186564923755, stderr=0.012892861836904712, values=[0.7722007722007722, 0.7983539094650206, 0.6778242677824268, 0.8032786885245902, 0.6415929203539823, 0.7647058823529411, 0.7239819004524887, 0.7490636704119851, 0.7208333333333333, 0.7176470588235294, 0.6333333333333333, 0.8167330677290837, 0.7833333333333333, 0.8, 0.788, 0.8016877637130801, 0.7551867219917012, 0.8529411764705882, 0.8695652173913043, 0.6388888888888888, 0.72265625, 0.808695652173913, 0.8089430894308943, 0.7959183673469388]),\n",
       " 'rank': AggregateMetric(mean=117.66666666666667, stdev=66.19080164359865, stderr=13.511140807715902, values=[72, 112, 72, 216, 216, 112, 112, 224, 208, 80, 136, 72, 144, 256, 64, 72, 48, 152, 32, 72, 192, 56, 48, 56]),\n",
       " 'efficacy': AggregateMetric(mean=0.9402929650492835, stdev=0.014563357028326592, stderr=0.002972732805114608, values=[0.9343629343629344, 0.9259259259259259, 0.9497907949790795, 0.9344262295081968, 0.9557522123893806, 0.9294117647058824, 0.9366515837104072, 0.9662921348314607, 0.95, 0.9529411764705882, 0.925, 0.9362549800796812, 0.9333333333333333, 0.9372549019607843, 0.948, 0.9240506329113924, 0.966804979253112, 0.9327731092436975, 0.9173913043478261, 0.9603174603174603, 0.953125, 0.9478260869565217, 0.9105691056910569, 0.9387755102040817])}"
      ]
     },
     "execution_count": 10,
     "metadata": {},
     "output_type": "execute_result"
    }
   ],
   "source": [
    "relation_result.best_by_efficacy(beta = 2.25).__dict__"
   ]
  },
  {
   "cell_type": "code",
   "execution_count": 11,
   "metadata": {},
   "outputs": [],
   "source": [
    "#########################################################################################################\n",
    "TRIAL_NO = 7\n",
    "RANK = 120\n",
    "LAYER = 6\n",
    "#########################################################################################################"
   ]
  },
  {
   "cell_type": "code",
   "execution_count": 12,
   "metadata": {},
   "outputs": [
    {
     "data": {
      "text/plain": [
       "SweepRankResults(rank=120, efficacy=[0.947565543071161, 0.9962546816479401, 1.0], efficacy_successes=[EfficacyTestPair(source=RelationSample(subject='Aleksandar Đorđević', object='basketball'), target=RelationSample(subject='Lutz Pfannenstiel', object='soccer')), EfficacyTestPair(source=RelationSample(subject='Alessandro Nesta', object='soccer'), target=RelationSample(subject='Russell Wilson', object='football')), EfficacyTestPair(source=RelationSample(subject='Alex Karras', object='football'), target=RelationSample(subject='Frank Robinson', object='baseball')), EfficacyTestPair(source=RelationSample(subject='Alex Rodriguez', object='baseball'), target=RelationSample(subject='Evgeni Malkin', object='hockey')), EfficacyTestPair(source=RelationSample(subject='Alexander Ovechkin', object='hockey'), target=RelationSample(subject='Russell Wilson', object='football')), EfficacyTestPair(source=RelationSample(subject='Alexei Kovalev', object='hockey'), target=RelationSample(subject='Emanuel Pogatetz', object='soccer')), EfficacyTestPair(source=RelationSample(subject='Alexi Lalas', object='soccer'), target=RelationSample(subject='Ray Allen', object='basketball')), EfficacyTestPair(source=RelationSample(subject='Allen Iverson', object='basketball'), target=RelationSample(subject='Alexander Ovechkin', object='hockey')), EfficacyTestPair(source=RelationSample(subject='Andrea Pirlo', object='soccer'), target=RelationSample(subject='Pavel Bure', object='hockey')), EfficacyTestPair(source=RelationSample(subject='Andreas Ivanschitz', object='soccer'), target=RelationSample(subject='Moe Berg', object='baseball')), EfficacyTestPair(source=RelationSample(subject='Antonio Nocerino', object='soccer'), target=RelationSample(subject='Pedro Martinez', object='baseball')), EfficacyTestPair(source=RelationSample(subject='Ara Parseghian', object='football'), target=RelationSample(subject='Arvydas Sabonis', object='basketball')), EfficacyTestPair(source=RelationSample(subject='Arne Friedrich', object='soccer'), target=RelationSample(subject='Gary Payton', object='basketball')), EfficacyTestPair(source=RelationSample(subject='Arvydas Sabonis', object='basketball'), target=RelationSample(subject='Joe Garagiola Sr.', object='baseball')), EfficacyTestPair(source=RelationSample(subject='Ashley Cole', object='soccer'), target=RelationSample(subject='Ted Williams', object='baseball')), EfficacyTestPair(source=RelationSample(subject='Babe Ruth', object='baseball'), target=RelationSample(subject='Antonio Nocerino', object='soccer')), EfficacyTestPair(source=RelationSample(subject='Barry Bonds', object='baseball'), target=RelationSample(subject='Steve Yzerman', object='hockey')), EfficacyTestPair(source=RelationSample(subject='Bart Starr', object='football'), target=RelationSample(subject='Júlio César', object='soccer')), EfficacyTestPair(source=RelationSample(subject='Bastian Schweinsteiger', object='soccer'), target=RelationSample(subject='Yu Darvish', object='baseball')), EfficacyTestPair(source=RelationSample(subject='Benny Feilhaber', object='soccer'), target=RelationSample(subject='Ray Allen', object='basketball')), EfficacyTestPair(source=RelationSample(subject='Bernie Casey', object='football'), target=RelationSample(subject='Jarome Iginla', object='hockey')), EfficacyTestPair(source=RelationSample(subject='Bill Russell', object='basketball'), target=RelationSample(subject='Michael Strahan', object='football')), EfficacyTestPair(source=RelationSample(subject='Billy Sunday', object='baseball'), target=RelationSample(subject='Dan Marino', object='football')), EfficacyTestPair(source=RelationSample(subject='Bob Cousy', object='basketball'), target=RelationSample(subject='Peter Forsberg', object='hockey')), EfficacyTestPair(source=RelationSample(subject='Bob Gibson', object='baseball'), target=RelationSample(subject='Obafemi Martins', object='soccer')), EfficacyTestPair(source=RelationSample(subject='Bob Hayes', object='football'), target=RelationSample(subject='Charles Barkley', object='basketball')), EfficacyTestPair(source=RelationSample(subject='Bobby Hull', object='hockey'), target=RelationSample(subject='Hank Greenberg', object='baseball')), EfficacyTestPair(source=RelationSample(subject='Bobby Orr', object='hockey'), target=RelationSample(subject='Alexi Lalas', object='soccer')), EfficacyTestPair(source=RelationSample(subject='Boris Diaw', object='basketball'), target=RelationSample(subject='Roger Maris', object='baseball')), EfficacyTestPair(source=RelationSample(subject='Brett Favre', object='football'), target=RelationSample(subject='Tom Seaver', object='baseball')), EfficacyTestPair(source=RelationSample(subject='Brett Hull', object='hockey'), target=RelationSample(subject='Michael Strahan', object='football')), EfficacyTestPair(source=RelationSample(subject='Brian Bosworth', object='football'), target=RelationSample(subject='Bill Russell', object='basketball')), EfficacyTestPair(source=RelationSample(subject='Bronko Nagurski', object='football'), target=RelationSample(subject='Jean Béliveau', object='hockey')), EfficacyTestPair(source=RelationSample(subject='Bubba Smith', object='football'), target=RelationSample(subject='Dirk Nowitzki', object='basketball')), EfficacyTestPair(source=RelationSample(subject='Bud Grant', object='football'), target=RelationSample(subject='Wim Suurbier', object='soccer')), EfficacyTestPair(source=RelationSample(subject='Byron White', object='football'), target=RelationSample(subject='Jermain Defoe', object='soccer')), EfficacyTestPair(source=RelationSample(subject='Cam Newton', object='football'), target=RelationSample(subject='Tony Parker', object='basketball')), EfficacyTestPair(source=RelationSample(subject='Carl Weathers', object='football'), target=RelationSample(subject='Alexei Kovalev', object='hockey')), EfficacyTestPair(source=RelationSample(subject='Carlos Beltrán', object='baseball'), target=RelationSample(subject='Julius Erving', object='basketball')), EfficacyTestPair(source=RelationSample(subject='Carlos Bocanegra', object='soccer'), target=RelationSample(subject='Wilt Chamberlain', object='basketball')), EfficacyTestPair(source=RelationSample(subject='Carlos Valderrama', object='soccer'), target=RelationSample(subject='Roy Campanella', object='baseball')), EfficacyTestPair(source=RelationSample(subject='Carmelo Anthony', object='basketball'), target=RelationSample(subject='Marián Hossa', object='hockey')), EfficacyTestPair(source=RelationSample(subject='Casey Stengel', object='baseball'), target=RelationSample(subject='Jerry West', object='basketball')), EfficacyTestPair(source=RelationSample(subject='Charles Barkley', object='basketball'), target=RelationSample(subject='Warren Moon', object='football')), EfficacyTestPair(source=RelationSample(subject='Chase Young', object='football'), target=RelationSample(subject='Dwyane Wade', object='basketball')), EfficacyTestPair(source=RelationSample(subject='Chris Paul', object='basketball'), target=RelationSample(subject='Howie Morenz', object='hockey')), EfficacyTestPair(source=RelationSample(subject='Christian Bolaños', object='soccer'), target=RelationSample(subject='Michael Strahan', object='football')), EfficacyTestPair(source=RelationSample(subject='Christy Mathewson', object='baseball'), target=RelationSample(subject='Cuauhtémoc Blanco', object='soccer')), EfficacyTestPair(source=RelationSample(subject='Claudio Reyna', object='soccer'), target=RelationSample(subject='Mario Lemieux', object='hockey')), EfficacyTestPair(source=RelationSample(subject='Clayton Kershaw', object='baseball'), target=RelationSample(subject='Terry Crews', object='football')), EfficacyTestPair(source=RelationSample(subject='Colin Kaepernick', object='football'), target=RelationSample(subject='Steve Yzerman', object='hockey')), EfficacyTestPair(source=RelationSample(subject='Connie Mack', object='baseball'), target=RelationSample(subject='Andreas Ivanschitz', object='soccer')), EfficacyTestPair(source=RelationSample(subject='Corey Perry', object='hockey'), target=RelationSample(subject='Claudio Reyna', object='soccer')), EfficacyTestPair(source=RelationSample(subject='Cuauhtémoc Blanco', object='soccer'), target=RelationSample(subject='Terrell Owens', object='football')), EfficacyTestPair(source=RelationSample(subject='Cy Young', object='baseball'), target=RelationSample(subject='Rosey Grier', object='football')), EfficacyTestPair(source=RelationSample(subject='DaMarcus Beasley', object='soccer'), target=RelationSample(subject='Hakeem Olajuwon', object='basketball')), EfficacyTestPair(source=RelationSample(subject='Dan Marino', object='football'), target=RelationSample(subject='Jean Béliveau', object='hockey')), EfficacyTestPair(source=RelationSample(subject='Dave Winfield', object='baseball'), target=RelationSample(subject='Terry Crews', object='football')), EfficacyTestPair(source=RelationSample(subject='David Beckham', object='soccer'), target=RelationSample(subject='Joe Namath', object='football')), EfficacyTestPair(source=RelationSample(subject='David Robinson', object='basketball'), target=RelationSample(subject='Christy Mathewson', object='baseball')), EfficacyTestPair(source=RelationSample(subject='David Villa', object='soccer'), target=RelationSample(subject='Roger Maris', object='baseball')), EfficacyTestPair(source=RelationSample(subject='Dean Cain', object='football'), target=RelationSample(subject='Julius Erving', object='basketball')), EfficacyTestPair(source=RelationSample(subject='Dennis Rodman', object='basketball'), target=RelationSample(subject='John Olerud', object='baseball')), EfficacyTestPair(source=RelationSample(subject='Dennis Seidenberg', object='hockey'), target=RelationSample(subject='Tom Seaver', object='baseball')), EfficacyTestPair(source=RelationSample(subject='Derek Jeter', object='baseball'), target=RelationSample(subject='Bastian Schweinsteiger', object='soccer')), EfficacyTestPair(source=RelationSample(subject='Dick Butkus', object='football'), target=RelationSample(subject='Ken Dryden', object='hockey')), EfficacyTestPair(source=RelationSample(subject='Dirk Nowitzki', object='basketball'), target=RelationSample(subject='Peter Forsberg', object='hockey')), EfficacyTestPair(source=RelationSample(subject='Don Shula', object='football'), target=RelationSample(subject='Joe DiMaggio', object='baseball')), EfficacyTestPair(source=RelationSample(subject='Dražen Petrović', object='basketball'), target=RelationSample(subject='Brian Bosworth', object='football')), EfficacyTestPair(source=RelationSample(subject='Drew Brees', object='football'), target=RelationSample(subject='Sidney Crosby', object='hockey')), EfficacyTestPair(source=RelationSample(subject='Dwight Howard', object='basketball'), target=RelationSample(subject='Marcos Mondaini', object='soccer')), EfficacyTestPair(source=RelationSample(subject='Dwyane Wade', object='basketball'), target=RelationSample(subject='Maurice Richard', object='hockey')), EfficacyTestPair(source=RelationSample(subject='Egidio Arévalo Rios', object='soccer'), target=RelationSample(subject='Terrell Owens', object='football')), EfficacyTestPair(source=RelationSample(subject='Elroy Hirsch', object='football'), target=RelationSample(subject='Phil Esposito', object='hockey')), EfficacyTestPair(source=RelationSample(subject='Elton Brand', object='basketball'), target=RelationSample(subject='Marcos Mondaini', object='soccer')), EfficacyTestPair(source=RelationSample(subject='Emmitt Smith', object='football'), target=RelationSample(subject='Bob Cousy', object='basketball')), EfficacyTestPair(source=RelationSample(subject='Eric Lindros', object='hockey'), target=RelationSample(subject='Carlos Beltrán', object='baseball')), EfficacyTestPair(source=RelationSample(subject='Evgeni Malkin', object='hockey'), target=RelationSample(subject='Cam Newton', object='football')), EfficacyTestPair(source=RelationSample(subject='Florent Sinama Pongolle', object='soccer'), target=RelationSample(subject='Pau Gasol', object='basketball')), EfficacyTestPair(source=RelationSample(subject='Frank Lampard', object='soccer'), target=RelationSample(subject='Dave Winfield', object='baseball')), EfficacyTestPair(source=RelationSample(subject='Frank Mahovlich', object='hockey'), target=RelationSample(subject='Michael Umaña', object='soccer')), EfficacyTestPair(source=RelationSample(subject='Frank Robinson', object='baseball'), target=RelationSample(subject='Boris Diaw', object='basketball')), EfficacyTestPair(source=RelationSample(subject='Freddie Ljungberg', object='soccer'), target=RelationSample(subject='Kevin Garnett', object='basketball')), EfficacyTestPair(source=RelationSample(subject='Freddy Adu', object='soccer'), target=RelationSample(subject='Ichiro Suzuki', object='baseball')), EfficacyTestPair(source=RelationSample(subject='Frédéric Piquionne', object='soccer'), target=RelationSample(subject='Gordie Howe', object='hockey')), EfficacyTestPair(source=RelationSample(subject='Gale Sayers', object='football'), target=RelationSample(subject='Allen Iverson', object='basketball')), EfficacyTestPair(source=RelationSample(subject='Gary Carter', object='baseball'), target=RelationSample(subject='Tim Duncan', object='basketball')), EfficacyTestPair(source=RelationSample(subject='Gary Payton', object='basketball'), target=RelationSample(subject='Joe Namath', object='football')), EfficacyTestPair(source=RelationSample(subject='George Best', object='soccer'), target=RelationSample(subject='Tom Brady', object='football')), EfficacyTestPair(source=RelationSample(subject='George Plimpton', object='football'), target=RelationSample(subject='Roger Maris', object='baseball')), EfficacyTestPair(source=RelationSample(subject='Giovani dos Santos', object='soccer'), target=RelationSample(subject='Evgeni Malkin', object='hockey')), EfficacyTestPair(source=RelationSample(subject='Gordie Howe', object='hockey'), target=RelationSample(subject='Dwight Howard', object='basketball')), EfficacyTestPair(source=RelationSample(subject='Guy Lafleur', object='hockey'), target=RelationSample(subject='Warren Moon', object='football')), EfficacyTestPair(source=RelationSample(subject='Hakeem Olajuwon', object='basketball'), target=RelationSample(subject='Kendall Waston', object='soccer')), EfficacyTestPair(source=RelationSample(subject='Hank Aaron', object='baseball'), target=RelationSample(subject='Boris Diaw', object='basketball')), EfficacyTestPair(source=RelationSample(subject='Hank Greenberg', object='baseball'), target=RelationSample(subject='Russell Wilson', object='football')), EfficacyTestPair(source=RelationSample(subject='Herculez Gomez', object='soccer'), target=RelationSample(subject='Pavel Bure', object='hockey')), EfficacyTestPair(source=RelationSample(subject='Herschel Walker', object='football'), target=RelationSample(subject='Jari Kurri', object='hockey')), EfficacyTestPair(source=RelationSample(subject='Honus Wagner', object='baseball'), target=RelationSample(subject='Pavel Bure', object='hockey')), EfficacyTestPair(source=RelationSample(subject='Hope Solo', object='soccer'), target=RelationSample(subject='Marián Hossa', object='hockey')), EfficacyTestPair(source=RelationSample(subject='Howie Morenz', object='hockey'), target=RelationSample(subject='Bob Cousy', object='basketball')), EfficacyTestPair(source=RelationSample(subject='Hristo Stoichkov', object='soccer'), target=RelationSample(subject='Bronko Nagurski', object='football')), EfficacyTestPair(source=RelationSample(subject='Hugo Sánchez', object='soccer'), target=RelationSample(subject='Chris Paul', object='basketball')), EfficacyTestPair(source=RelationSample(subject='Igor Larionov', object='hockey'), target=RelationSample(subject='Juninho Pernambucano', object='soccer')), EfficacyTestPair(source=RelationSample(subject='Ilya Kovalchuk', object='hockey'), target=RelationSample(subject='Pete Rose', object='baseball')), EfficacyTestPair(source=RelationSample(subject='Jackie Robinson', object='baseball'), target=RelationSample(subject='Igor Larionov', object='hockey')), EfficacyTestPair(source=RelationSample(subject='Jacques Plante', object='hockey'), target=RelationSample(subject='Peyton Manning', object='football')), EfficacyTestPair(source=RelationSample(subject='Jari Kurri', object='hockey'), target=RelationSample(subject='Dennis Rodman', object='basketball')), EfficacyTestPair(source=RelationSample(subject='Jarome Iginla', object='hockey'), target=RelationSample(subject='Charles Barkley', object='basketball')), EfficacyTestPair(source=RelationSample(subject='Jaromír Jágr', object='hockey'), target=RelationSample(subject='Emmitt Smith', object='football')), EfficacyTestPair(source=RelationSample(subject='Jean Béliveau', object='hockey'), target=RelationSample(subject='Robbie Keane', object='soccer')), EfficacyTestPair(source=RelationSample(subject='Jermain Defoe', object='soccer'), target=RelationSample(subject='Pete Rose', object='baseball')), EfficacyTestPair(source=RelationSample(subject='Jermaine Jones', object='soccer'), target=RelationSample(subject='Moe Berg', object='baseball')), EfficacyTestPair(source=RelationSample(subject='Jerry West', object='basketball'), target=RelationSample(subject='Roberto Clemente', object='baseball')), EfficacyTestPair(source=RelationSample(subject='Jim Brown', object='football'), target=RelationSample(subject='Stan Musial', object='baseball')), EfficacyTestPair(source=RelationSample(subject='Jim Bunning', object='baseball'), target=RelationSample(subject='LeBron James', object='basketball')), EfficacyTestPair(source=RelationSample(subject='Joakim Noah', object='basketball'), target=RelationSample(subject='Alexi Lalas', object='soccer')), EfficacyTestPair(source=RelationSample(subject='Joe DiMaggio', object='baseball'), target=RelationSample(subject='Lutz Pfannenstiel', object='soccer')), EfficacyTestPair(source=RelationSample(subject='Joe Namath', object='football'), target=RelationSample(subject='Cy Young', object='baseball')), EfficacyTestPair(source=RelationSample(subject='John Elway', object='football'), target=RelationSample(subject='David Beckham', object='soccer')), EfficacyTestPair(source=RelationSample(subject='John Matuszak', object='football'), target=RelationSample(subject='Šarūnas Jasikevičius', object='basketball')), EfficacyTestPair(source=RelationSample(subject='John Olerud', object='baseball'), target=RelationSample(subject='Patrick Roy', object='hockey')), EfficacyTestPair(source=RelationSample(subject='José Canseco', object='baseball'), target=RelationSample(subject='Dwyane Wade', object='basketball')), EfficacyTestPair(source=RelationSample(subject='Jozy Altidore', object='soccer'), target=RelationSample(subject='Tim Tebow', object='football')), EfficacyTestPair(source=RelationSample(subject='Julius Erving', object='basketball'), target=RelationSample(subject='Robbie Rogers', object='soccer')), EfficacyTestPair(source=RelationSample(subject='Juninho Pernambucano', object='soccer'), target=RelationSample(subject='Julius Erving', object='basketball')), EfficacyTestPair(source=RelationSample(subject='Júlio Baptista', object='soccer'), target=RelationSample(subject='Frank Robinson', object='baseball')), EfficacyTestPair(source=RelationSample(subject='Júlio César', object='soccer'), target=RelationSample(subject='Frank Robinson', object='baseball')), EfficacyTestPair(source=RelationSample(subject='Kaká', object='soccer'), target=RelationSample(subject='Christy Mathewson', object='baseball')), EfficacyTestPair(source=RelationSample(subject='Kareem Abdul-Jabbar', object='basketball'), target=RelationSample(subject='Matteo Ferrari', object='soccer')), EfficacyTestPair(source=RelationSample(subject='Karl Malone', object='basketball'), target=RelationSample(subject='Shane Doan', object='hockey')), EfficacyTestPair(source=RelationSample(subject='Kasey Keller', object='soccer'), target=RelationSample(subject='Emmitt Smith', object='football')), EfficacyTestPair(source=RelationSample(subject='Ken Dryden', object='hockey'), target=RelationSample(subject='Mariano Rivera', object='baseball')), EfficacyTestPair(source=RelationSample(subject='Kendall Waston', object='soccer'), target=RelationSample(subject='Dave Winfield', object='baseball')), EfficacyTestPair(source=RelationSample(subject='Kevin Garnett', object='basketball'), target=RelationSample(subject='Hope Solo', object='soccer')), EfficacyTestPair(source=RelationSample(subject='Kevin Love', object='basketball'), target=RelationSample(subject='Gordie Howe', object='hockey')), EfficacyTestPair(source=RelationSample(subject='Kobe Bryant', object='basketball'), target=RelationSample(subject='Roberto Clemente', object='baseball')), EfficacyTestPair(source=RelationSample(subject='Landon Donovan', object='soccer'), target=RelationSample(subject='Šarūnas Jasikevičius', object='basketball')), EfficacyTestPair(source=RelationSample(subject='Larry Bird', object='basketball'), target=RelationSample(subject='Kendall Waston', object='soccer')), EfficacyTestPair(source=RelationSample(subject='Larry Doby', object='baseball'), target=RelationSample(subject='Sergei Fedorov', object='hockey')), EfficacyTestPair(source=RelationSample(subject='Lawrence Taylor', object='football'), target=RelationSample(subject='Alessandro Nesta', object='soccer')), EfficacyTestPair(source=RelationSample(subject='LeBron James', object='basketball'), target=RelationSample(subject='Alex Rodriguez', object='baseball')), EfficacyTestPair(source=RelationSample(subject='Leon Allen White', object='football'), target=RelationSample(subject='Pau Gasol', object='basketball')), EfficacyTestPair(source=RelationSample(subject='Lionel Conacher', object='hockey'), target=RelationSample(subject='Tom Harmon', object='football')), EfficacyTestPair(source=RelationSample(subject='Lothar Matthäus', object='soccer'), target=RelationSample(subject='Bobby Hull', object='hockey')), EfficacyTestPair(source=RelationSample(subject='Lou Gehrig', object='baseball'), target=RelationSample(subject='Alexei Kovalev', object='hockey')), EfficacyTestPair(source=RelationSample(subject='Luis Scola', object='basketball'), target=RelationSample(subject='Peyton Manning', object='football')), EfficacyTestPair(source=RelationSample(subject='Lutz Pfannenstiel', object='soccer'), target=RelationSample(subject='Dennis Rodman', object='basketball')), EfficacyTestPair(source=RelationSample(subject='Magic Johnson', object='basketball'), target=RelationSample(subject='Bart Starr', object='football')), EfficacyTestPair(source=RelationSample(subject='Marc Gasol', object='basketball'), target=RelationSample(subject='Alexi Lalas', object='soccer')), EfficacyTestPair(source=RelationSample(subject='Marco Di Vaio', object='soccer'), target=RelationSample(subject='Willie Mays', object='baseball')), EfficacyTestPair(source=RelationSample(subject='Marcos Mondaini', object='soccer'), target=RelationSample(subject='Ken Dryden', object='hockey')), EfficacyTestPair(source=RelationSample(subject='Mariano Rivera', object='baseball'), target=RelationSample(subject='Juninho Pernambucano', object='soccer')), EfficacyTestPair(source=RelationSample(subject='Mario Lemieux', object='hockey'), target=RelationSample(subject='Egidio Arévalo Rios', object='soccer')), EfficacyTestPair(source=RelationSample(subject='Marián Hossa', object='hockey'), target=RelationSample(subject='Joakim Noah', object='basketball')), EfficacyTestPair(source=RelationSample(subject='Mark Messier', object='hockey'), target=RelationSample(subject='Roy Campanella', object='baseball')), EfficacyTestPair(source=RelationSample(subject='Matteo Ferrari', object='soccer'), target=RelationSample(subject='Metta Sandiford-Artest', object='basketball')), EfficacyTestPair(source=RelationSample(subject='Maurice Richard', object='hockey'), target=RelationSample(subject='Hank Greenberg', object='baseball')), EfficacyTestPair(source=RelationSample(subject='Megan Rapinoe', object='soccer'), target=RelationSample(subject='Joe Garagiola Sr.', object='baseball')), EfficacyTestPair(source=RelationSample(subject='Merlin Olsen', object='football'), target=RelationSample(subject='Megan Rapinoe', object='soccer')), EfficacyTestPair(source=RelationSample(subject='Metta Sandiford-Artest', object='basketball'), target=RelationSample(subject='Michael Bradley', object='soccer')), EfficacyTestPair(source=RelationSample(subject='Michael Bradley', object='soccer'), target=RelationSample(subject='Jean Béliveau', object='hockey')), EfficacyTestPair(source=RelationSample(subject='Michael Jordan', object='basketball'), target=RelationSample(subject='Claudio Reyna', object='soccer')), EfficacyTestPair(source=RelationSample(subject='Michael Strahan', object='football'), target=RelationSample(subject='Roger Maris', object='baseball')), EfficacyTestPair(source=RelationSample(subject='Michael Umaña', object='soccer'), target=RelationSample(subject='Bill Bradley', object='basketball')), EfficacyTestPair(source=RelationSample(subject='Mickey Mantle', object='baseball'), target=RelationSample(subject='Ron W. Miller', object='football')), EfficacyTestPair(source=RelationSample(subject='Mikaël Silvestre', object='soccer'), target=RelationSample(subject='Ara Parseghian', object='football')), EfficacyTestPair(source=RelationSample(subject='Moe Berg', object='baseball'), target=RelationSample(subject='Egidio Arévalo Rios', object='soccer')), EfficacyTestPair(source=RelationSample(subject='Moses Malone', object='basketball'), target=RelationSample(subject='Mariano Rivera', object='baseball')), EfficacyTestPair(source=RelationSample(subject='Nate Schierholtz', object='baseball'), target=RelationSample(subject='Patrick Ewing', object='basketball')), EfficacyTestPair(source=RelationSample(subject='Nick Swisher', object='baseball'), target=RelationSample(subject='Gordie Howe', object='hockey')), EfficacyTestPair(source=RelationSample(subject='Nigel de Jong', object='soccer'), target=RelationSample(subject='Peyton Manning', object='football')), EfficacyTestPair(source=RelationSample(subject='O. J. Simpson', object='football'), target=RelationSample(subject='Carlos Valderrama', object='soccer')), EfficacyTestPair(source=RelationSample(subject='Obafemi Martins', object='soccer'), target=RelationSample(subject='Shane Doan', object='hockey')), EfficacyTestPair(source=RelationSample(subject='Ollie Matson', object='football'), target=RelationSample(subject='Kobe Bryant', object='basketball')), EfficacyTestPair(source=RelationSample(subject='Oscar Robertson', object='basketball'), target=RelationSample(subject='Terrell Owens', object='football')), EfficacyTestPair(source=RelationSample(subject='Pat Tillman', object='football'), target=RelationSample(subject='Maurice Richard', object='hockey')), EfficacyTestPair(source=RelationSample(subject='Patrick Ewing', object='basketball'), target=RelationSample(subject='Ichiro Suzuki', object='baseball')), EfficacyTestPair(source=RelationSample(subject='Patrick Roy', object='hockey'), target=RelationSample(subject='Alexi Lalas', object='soccer')), EfficacyTestPair(source=RelationSample(subject='Pau Gasol', object='basketball'), target=RelationSample(subject='Fred Williamson', object='football')), EfficacyTestPair(source=RelationSample(subject='Paul Kariya', object='hockey'), target=RelationSample(subject='Satchel Paige', object='baseball')), EfficacyTestPair(source=RelationSample(subject='Pavel Bure', object='hockey'), target=RelationSample(subject='Clayton Kershaw', object='baseball')), EfficacyTestPair(source=RelationSample(subject='Pavel Datsyuk', object='hockey'), target=RelationSample(subject='Bubba Smith', object='football')), EfficacyTestPair(source=RelationSample(subject='Pavol Demitra', object='hockey'), target=RelationSample(subject='Luis Scola', object='basketball')), EfficacyTestPair(source=RelationSample(subject='Pedro Martinez', object='baseball'), target=RelationSample(subject='Boris Diaw', object='basketball')), EfficacyTestPair(source=RelationSample(subject='Pete Rose', object='baseball'), target=RelationSample(subject='Tim Tebow', object='football')), EfficacyTestPair(source=RelationSample(subject='Peter Forsberg', object='hockey'), target=RelationSample(subject='Júlio César', object='soccer')), EfficacyTestPair(source=RelationSample(subject='Peyton Manning', object='football'), target=RelationSample(subject='Mickey Mantle', object='baseball')), EfficacyTestPair(source=RelationSample(subject='Phil Esposito', object='hockey'), target=RelationSample(subject='Cam Newton', object='football')), EfficacyTestPair(source=RelationSample(subject='Phil Jackson', object='basketball'), target=RelationSample(subject='Phil Esposito', object='hockey')), EfficacyTestPair(source=RelationSample(subject='R.A. Dickey', object='baseball'), target=RelationSample(subject='Gale Sayers', object='football')), EfficacyTestPair(source=RelationSample(subject='Randy Moss', object='football'), target=RelationSample(subject='Landon Donovan', object='soccer')), EfficacyTestPair(source=RelationSample(subject='Ray Allen', object='basketball'), target=RelationSample(subject='Clayton Kershaw', object='baseball')), EfficacyTestPair(source=RelationSample(subject='Red Grange', object='football'), target=RelationSample(subject='Alexi Lalas', object='soccer')), EfficacyTestPair(source=RelationSample(subject='Rick Barry', object='basketball'), target=RelationSample(subject='Lou Gehrig', object='baseball')), EfficacyTestPair(source=RelationSample(subject='Rick Fox', object='basketball'), target=RelationSample(subject='Hank Greenberg', object='baseball')), EfficacyTestPair(source=RelationSample(subject='Robbie Keane', object='soccer'), target=RelationSample(subject='Tim Tebow', object='football')), EfficacyTestPair(source=RelationSample(subject='Robbie Rogers', object='soccer'), target=RelationSample(subject='Jarome Iginla', object='hockey')), EfficacyTestPair(source=RelationSample(subject='Roberto Clemente', object='baseball'), target=RelationSample(subject='Mark Messier', object='hockey')), EfficacyTestPair(source=RelationSample(subject='Roger Maris', object='baseball'), target=RelationSample(subject='Júlio Baptista', object='soccer')), EfficacyTestPair(source=RelationSample(subject='Roger Staubach', object='football'), target=RelationSample(subject='Lou Gehrig', object='baseball')), EfficacyTestPair(source=RelationSample(subject='Ron W. Miller', object='football'), target=RelationSample(subject='Ken Dryden', object='hockey')), EfficacyTestPair(source=RelationSample(subject='Rosey Grier', object='football'), target=RelationSample(subject='Luis Scola', object='basketball')), EfficacyTestPair(source=RelationSample(subject='Roy Campanella', object='baseball'), target=RelationSample(subject='Lionel Conacher', object='hockey')), EfficacyTestPair(source=RelationSample(subject='Russell Wilson', object='football'), target=RelationSample(subject='Steven Gerrard', object='soccer')), EfficacyTestPair(source=RelationSample(subject='Ryan Smyth', object='hockey'), target=RelationSample(subject='Warren Moon', object='football')), EfficacyTestPair(source=RelationSample(subject='Satchel Paige', object='baseball'), target=RelationSample(subject='Allen Iverson', object='basketball')), EfficacyTestPair(source=RelationSample(subject='Scottie Pippen', object='basketball'), target=RelationSample(subject='Alexander Ovechkin', object='hockey')), EfficacyTestPair(source=RelationSample(subject='Sergei Fedorov', object='hockey'), target=RelationSample(subject='Marco Di Vaio', object='soccer')), EfficacyTestPair(source=RelationSample(subject='Sergei Makarov', object='hockey'), target=RelationSample(subject='Peyton Manning', object='football')), EfficacyTestPair(source=RelationSample(subject='Shane Doan', object='hockey'), target=RelationSample(subject='Grant Hill', object='basketball')), EfficacyTestPair(source=RelationSample(subject=\"Shaquille O'Neal\", object='basketball'), target=RelationSample(subject='Satchel Paige', object='baseball')), EfficacyTestPair(source=RelationSample(subject='Sidney Crosby', object='hockey'), target=RelationSample(subject='Carlos Bocanegra', object='soccer')), EfficacyTestPair(source=RelationSample(subject='Siem de Jong', object='soccer'), target=RelationSample(subject='Sergei Fedorov', object='hockey')), EfficacyTestPair(source=RelationSample(subject='Stan Mikita', object='hockey'), target=RelationSample(subject='Tom Brady', object='football')), EfficacyTestPair(source=RelationSample(subject='Stan Musial', object='baseball'), target=RelationSample(subject='Rick Barry', object='basketball')), EfficacyTestPair(source=RelationSample(subject='Stephen Curry', object='basketball'), target=RelationSample(subject='Obafemi Martins', object='soccer')), EfficacyTestPair(source=RelationSample(subject='Steve Nash', object='basketball'), target=RelationSample(subject='Byron White', object='football')), EfficacyTestPair(source=RelationSample(subject='Steve Yzerman', object='hockey'), target=RelationSample(subject='Juninho Pernambucano', object='soccer')), EfficacyTestPair(source=RelationSample(subject='Steven Gerrard', object='soccer'), target=RelationSample(subject='Kareem Abdul-Jabbar', object='basketball')), EfficacyTestPair(source=RelationSample(subject='Ted Williams', object='baseball'), target=RelationSample(subject='Brian Bosworth', object='football')), EfficacyTestPair(source=RelationSample(subject='Terrell Owens', object='football'), target=RelationSample(subject='Wilt Chamberlain', object='basketball')), EfficacyTestPair(source=RelationSample(subject='Terry Bradshaw', object='football'), target=RelationSample(subject='Obafemi Martins', object='soccer')), EfficacyTestPair(source=RelationSample(subject='Terry Crews', object='football'), target=RelationSample(subject='Jermain Defoe', object='soccer')), EfficacyTestPair(source=RelationSample(subject='Terry Sawchuk', object='hockey'), target=RelationSample(subject='Roberto Clemente', object='baseball')), EfficacyTestPair(source=RelationSample(subject='Thierry Henry', object='soccer'), target=RelationSample(subject='Satchel Paige', object='baseball')), EfficacyTestPair(source=RelationSample(subject='Tim Cahill', object='soccer'), target=RelationSample(subject='Ray Allen', object='basketball')), EfficacyTestPair(source=RelationSample(subject='Tim Duncan', object='basketball'), target=RelationSample(subject='Don Shula', object='football')), EfficacyTestPair(source=RelationSample(subject='Tim Horton', object='hockey'), target=RelationSample(subject='Patrick Ewing', object='basketball')), EfficacyTestPair(source=RelationSample(subject='Tim Howard', object='soccer'), target=RelationSample(subject='José Canseco', object='baseball')), EfficacyTestPair(source=RelationSample(subject='Tim Tebow', object='football'), target=RelationSample(subject='Pedro Martinez', object='baseball')), EfficacyTestPair(source=RelationSample(subject='Timothy Brown', object='football'), target=RelationSample(subject='Carlos Bocanegra', object='soccer')), EfficacyTestPair(source=RelationSample(subject='Tom Brady', object='football'), target=RelationSample(subject='Moses Malone', object='basketball')), EfficacyTestPair(source=RelationSample(subject='Tom Harmon', object='football'), target=RelationSample(subject='Carlos Valderrama', object='soccer')), EfficacyTestPair(source=RelationSample(subject='Tom Seaver', object='baseball'), target=RelationSample(subject='Ray Allen', object='basketball')), EfficacyTestPair(source=RelationSample(subject='Tony Dungy', object='football'), target=RelationSample(subject='Rick Barry', object='basketball')), EfficacyTestPair(source=RelationSample(subject='Tony Gwynn', object='baseball'), target=RelationSample(subject='Obafemi Martins', object='soccer')), EfficacyTestPair(source=RelationSample(subject='Tony Parker', object='basketball'), target=RelationSample(subject='Jarome Iginla', object='hockey')), EfficacyTestPair(source=RelationSample(subject='Troy Aikman', object='football'), target=RelationSample(subject='Dennis Seidenberg', object='hockey')), EfficacyTestPair(source=RelationSample(subject='Viacheslav Fetisov', object='hockey'), target=RelationSample(subject='Steven Gerrard', object='soccer')), EfficacyTestPair(source=RelationSample(subject='Walter Payton', object='football'), target=RelationSample(subject='Viacheslav Fetisov', object='hockey')), EfficacyTestPair(source=RelationSample(subject='Warren Moon', object='football'), target=RelationSample(subject='Mickey Mantle', object='baseball')), EfficacyTestPair(source=RelationSample(subject='Warren Spahn', object='baseball'), target=RelationSample(subject='Herschel Walker', object='football')), EfficacyTestPair(source=RelationSample(subject='Willie Mays', object='baseball'), target=RelationSample(subject='Jermain Defoe', object='soccer')), EfficacyTestPair(source=RelationSample(subject='Willie Stargell', object='baseball'), target=RelationSample(subject='Hakeem Olajuwon', object='basketball')), EfficacyTestPair(source=RelationSample(subject='Wilt Chamberlain', object='basketball'), target=RelationSample(subject='Ryan Smyth', object='hockey')), EfficacyTestPair(source=RelationSample(subject='Wim Suurbier', object='soccer'), target=RelationSample(subject='Kevin Love', object='basketball')), EfficacyTestPair(source=RelationSample(subject='Woody Strode', object='football'), target=RelationSample(subject='Mark Messier', object='hockey')), EfficacyTestPair(source=RelationSample(subject='Yao Ming', object='basketball'), target=RelationSample(subject='Lawrence Taylor', object='football')), EfficacyTestPair(source=RelationSample(subject='Yogi Berra', object='baseball'), target=RelationSample(subject='Nigel de Jong', object='soccer')), EfficacyTestPair(source=RelationSample(subject='Youri Djorkaeff', object='soccer'), target=RelationSample(subject='Michael Strahan', object='football')), EfficacyTestPair(source=RelationSample(subject='Yu Darvish', object='baseball'), target=RelationSample(subject='Cam Newton', object='football')), EfficacyTestPair(source=RelationSample(subject='Zack Steffen', object='soccer'), target=RelationSample(subject='Christy Mathewson', object='baseball'))])"
      ]
     },
     "execution_count": 12,
     "metadata": {},
     "output_type": "execute_result"
    }
   ],
   "source": [
    "layer_result = [layer for layer in relation_result.trials[TRIAL_NO].layers if layer.layer == LAYER][0]\n",
    "rank_result = [rank for rank in layer_result.result.ranks if rank.rank == RANK][0]\n",
    "rank_result"
   ]
  },
  {
   "cell_type": "code",
   "execution_count": 13,
   "metadata": {},
   "outputs": [
    {
     "name": "stdout",
     "output_type": "stream",
     "text": [
      "Edit: Mikaël Silvestre -> soccer <to> Ara Parseghian -> football -- found in beta: 0.0\n",
      "Edit: Magic Johnson -> basketball <to> Bart Starr -> football -- found in beta: 0.0\n",
      "Edit: Ted Williams -> baseball <to> Brian Bosworth -> football -- found in beta: 0.0\n",
      "Edit: Hristo Stoichkov -> soccer <to> Bronko Nagurski -> football -- found in beta: 0.0\n",
      "Edit: Pavel Datsyuk -> hockey <to> Bubba Smith -> football -- found in beta: 0.0\n",
      "Edit: Steve Nash -> basketball <to> Byron White -> football -- found in beta: 0.0\n",
      "Edit: Yu Darvish -> baseball <to> Cam Newton -> football -- found in beta: 0.0\n",
      "Edit: Billy Sunday -> baseball <to> Dan Marino -> football -- found in beta: 0.0\n",
      "Edit: Tim Duncan -> basketball <to> Don Shula -> football -- found in beta: 0.0\n",
      "Edit: Kasey Keller -> soccer <to> Emmitt Smith -> football -- found in beta: 0.0\n",
      "Edit: Pau Gasol -> basketball <to> Fred Williamson -> football -- found in beta: 0.0\n",
      "Edit: R.A. Dickey -> baseball <to> Gale Sayers -> football -- found in beta: 0.0\n",
      "Edit: Warren Spahn -> baseball <to> Herschel Walker -> football -- found in beta: 0.0\n",
      "Edit: Gary Payton -> basketball <to> Joe Namath -> football -- found in beta: 0.0\n",
      "Edit: Yao Ming -> basketball <to> Lawrence Taylor -> football -- found in beta: 0.0\n",
      "Edit: Youri Djorkaeff -> soccer <to> Michael Strahan -> football -- found in beta: 0.0\n",
      "Edit: Sergei Makarov -> hockey <to> Peyton Manning -> football -- found in beta: 0.0\n",
      "Edit: Mickey Mantle -> baseball <to> Ron W. Miller -> football -- found in beta: 0.0\n",
      "Edit: Cy Young -> baseball <to> Rosey Grier -> football -- found in beta: 0.0\n",
      "Edit: Hank Greenberg -> baseball <to> Russell Wilson -> football -- found in beta: 0.0\n",
      "Edit: Oscar Robertson -> basketball <to> Terrell Owens -> football -- found in beta: 0.0\n",
      "Edit: Dave Winfield -> baseball <to> Terry Crews -> football -- found in beta: 0.0\n",
      "Edit: Robbie Keane -> soccer <to> Tim Tebow -> football -- found in beta: 0.0\n",
      "Edit: Stan Mikita -> hockey <to> Tom Brady -> football -- found in beta: 0.0\n",
      "Edit: Lionel Conacher -> hockey <to> Tom Harmon -> football -- found in beta: 0.0\n",
      "Edit: Ryan Smyth -> hockey <to> Warren Moon -> football -- found in beta: 0.0\n",
      "Edit: Satchel Paige -> baseball <to> Allen Iverson -> basketball -- found in beta: 0.25\n",
      "Edit: Ara Parseghian -> football <to> Arvydas Sabonis -> basketball -- found in beta: 0.25\n",
      "Edit: Michael Umaña -> soccer <to> Bill Bradley -> basketball -- found in beta: 0.25\n",
      "Edit: Brian Bosworth -> football <to> Bill Russell -> basketball -- found in beta: 0.25\n",
      "Edit: Howie Morenz -> hockey <to> Bob Cousy -> basketball -- found in beta: 0.25\n",
      "Edit: Pedro Martinez -> baseball <to> Boris Diaw -> basketball -- found in beta: 0.25\n",
      "Edit: Jarome Iginla -> hockey <to> Charles Barkley -> basketball -- found in beta: 0.25\n",
      "Edit: Hugo Sánchez -> soccer <to> Chris Paul -> basketball -- found in beta: 0.25\n",
      "Edit: Joe Namath -> football <to> Cy Young -> baseball -- found in beta: 0.25\n",
      "Edit: Lutz Pfannenstiel -> soccer <to> Dennis Rodman -> basketball -- found in beta: 0.25\n",
      "Edit: Bubba Smith -> football <to> Dirk Nowitzki -> basketball -- found in beta: 0.25\n",
      "Edit: Gordie Howe -> hockey <to> Dwight Howard -> basketball -- found in beta: 0.25\n",
      "Edit: José Canseco -> baseball <to> Dwyane Wade -> basketball -- found in beta: 0.25\n",
      "Edit: Arne Friedrich -> soccer <to> Gary Payton -> basketball -- found in beta: 0.25\n",
      "Edit: Shane Doan -> hockey <to> Grant Hill -> basketball -- found in beta: 0.25\n",
      "Edit: Willie Stargell -> baseball <to> Hakeem Olajuwon -> basketball -- found in beta: 0.25\n",
      "Edit: Casey Stengel -> baseball <to> Jerry West -> basketball -- found in beta: 0.25\n",
      "Edit: Marián Hossa -> hockey <to> Joakim Noah -> basketball -- found in beta: 0.25\n",
      "Edit: Juninho Pernambucano -> soccer <to> Julius Erving -> basketball -- found in beta: 0.25\n",
      "Edit: Steven Gerrard -> soccer <to> Kareem Abdul-Jabbar -> basketball -- found in beta: 0.25\n",
      "Edit: Freddie Ljungberg -> soccer <to> Kevin Garnett -> basketball -- found in beta: 0.25\n",
      "Edit: Wim Suurbier -> soccer <to> Kevin Love -> basketball -- found in beta: 0.25\n",
      "Edit: Ollie Matson -> football <to> Kobe Bryant -> basketball -- found in beta: 0.25\n",
      "Edit: Jim Bunning -> baseball <to> LeBron James -> basketball -- found in beta: 0.25\n",
      "Edit: Roger Staubach -> football <to> Lou Gehrig -> baseball -- found in beta: 0.25\n",
      "Edit: Rosey Grier -> football <to> Luis Scola -> basketball -- found in beta: 0.25\n",
      "Edit: Matteo Ferrari -> soccer <to> Metta Sandiford-Artest -> basketball -- found in beta: 0.25\n",
      "Edit: Tom Brady -> football <to> Moses Malone -> basketball -- found in beta: 0.25\n",
      "Edit: Tim Horton -> hockey <to> Patrick Ewing -> basketball -- found in beta: 0.25\n",
      "Edit: Leon Allen White -> football <to> Pau Gasol -> basketball -- found in beta: 0.25\n",
      "Edit: Tom Seaver -> baseball <to> Ray Allen -> basketball -- found in beta: 0.25\n",
      "Edit: Tony Dungy -> football <to> Rick Barry -> basketball -- found in beta: 0.25\n",
      "Edit: Gary Carter -> baseball <to> Tim Duncan -> basketball -- found in beta: 0.25\n",
      "Edit: Cam Newton -> football <to> Tony Parker -> basketball -- found in beta: 0.25\n",
      "Edit: Terrell Owens -> football <to> Wilt Chamberlain -> basketball -- found in beta: 0.25\n",
      "Edit: Landon Donovan -> soccer <to> Šarūnas Jasikevičius -> basketball -- found in beta: 0.25\n",
      "Edit: LeBron James -> basketball <to> Alex Rodriguez -> baseball -- found in beta: 0.5\n",
      "Edit: Eric Lindros -> hockey <to> Carlos Beltrán -> baseball -- found in beta: 0.5\n",
      "Edit: Zack Steffen -> soccer <to> Christy Mathewson -> baseball -- found in beta: 0.5\n",
      "Edit: Júlio César -> soccer <to> Frank Robinson -> baseball -- found in beta: 0.5\n",
      "Edit: Rick Fox -> basketball <to> Hank Greenberg -> baseball -- found in beta: 0.5\n",
      "Edit: Don Shula -> football <to> Joe DiMaggio -> baseball -- found in beta: 0.5\n",
      "Edit: Tim Howard -> soccer <to> José Canseco -> baseball -- found in beta: 0.5\n",
      "Edit: Moses Malone -> basketball <to> Mariano Rivera -> baseball -- found in beta: 0.5\n",
      "Edit: Merlin Olsen -> football <to> Megan Rapinoe -> soccer -- found in beta: 0.5\n",
      "Edit: Warren Moon -> football <to> Mickey Mantle -> baseball -- found in beta: 0.5\n",
      "Edit: Tim Tebow -> football <to> Pedro Martinez -> baseball -- found in beta: 0.5\n",
      "Edit: Jermain Defoe -> soccer <to> Pete Rose -> baseball -- found in beta: 0.5\n",
      "Edit: Terry Sawchuk -> hockey <to> Roberto Clemente -> baseball -- found in beta: 0.5\n",
      "Edit: Michael Strahan -> football <to> Roger Maris -> baseball -- found in beta: 0.5\n",
      "Edit: Thierry Henry -> soccer <to> Satchel Paige -> baseball -- found in beta: 0.5\n",
      "Edit: Jim Brown -> football <to> Stan Musial -> baseball -- found in beta: 0.5\n",
      "Edit: Ashley Cole -> soccer <to> Ted Williams -> baseball -- found in beta: 0.5\n",
      "Edit: Dennis Seidenberg -> hockey <to> Tom Seaver -> baseball -- found in beta: 0.5\n",
      "Edit: Marco Di Vaio -> soccer <to> Willie Mays -> baseball -- found in beta: 0.5\n",
      "Edit: Bastian Schweinsteiger -> soccer <to> Yu Darvish -> baseball -- found in beta: 0.5\n",
      "Edit: Ray Allen -> basketball <to> Clayton Kershaw -> baseball -- found in beta: 0.75\n",
      "Edit: Kendall Waston -> soccer <to> Dave Winfield -> baseball -- found in beta: 0.75\n",
      "Edit: John Elway -> football <to> David Beckham -> soccer -- found in beta: 0.75\n",
      "Edit: Nick Swisher -> baseball <to> Gordie Howe -> hockey -- found in beta: 0.75\n",
      "Edit: Patrick Ewing -> basketball <to> Ichiro Suzuki -> baseball -- found in beta: 0.75\n",
      "Edit: Randy Moss -> football <to> Landon Donovan -> soccer -- found in beta: 0.75\n",
      "Edit: Jermaine Jones -> soccer <to> Moe Berg -> baseball -- found in beta: 0.75\n",
      "Edit: Drew Brees -> football <to> Sidney Crosby -> hockey -- found in beta: 0.75\n",
      "Edit: Viacheslav Fetisov -> hockey <to> Steven Gerrard -> soccer -- found in beta: 0.75\n",
      "Edit: Kevin Garnett -> basketball <to> Hope Solo -> soccer -- found in beta: 1.0\n",
      "Edit: Tony Parker -> basketball <to> Jarome Iginla -> hockey -- found in beta: 1.0\n",
      "Edit: Willie Mays -> baseball <to> Jermain Defoe -> soccer -- found in beta: 1.0\n",
      "Edit: Dennis Rodman -> basketball <to> John Olerud -> baseball -- found in beta: 1.0\n",
      "Edit: Yogi Berra -> baseball <to> Nigel de Jong -> soccer -- found in beta: 1.0\n",
      "Edit: Dirk Nowitzki -> basketball <to> Peter Forsberg -> hockey -- found in beta: 1.0\n",
      "Edit: Mark Messier -> hockey <to> Roy Campanella -> baseball -- found in beta: 1.0\n",
      "Edit: Colin Kaepernick -> football <to> Steve Yzerman -> hockey -- found in beta: 1.0\n",
      "Edit: Lou Gehrig -> baseball <to> Alexei Kovalev -> hockey -- found in beta: 1.25\n",
      "Edit: Lothar Matthäus -> soccer <to> Bobby Hull -> hockey -- found in beta: 1.25\n",
      "Edit: Timothy Brown -> football <to> Carlos Bocanegra -> soccer -- found in beta: 1.25\n",
      "Edit: Giovani dos Santos -> soccer <to> Evgeni Malkin -> hockey -- found in beta: 1.25\n",
      "Edit: Larry Bird -> basketball <to> Kendall Waston -> soccer -- found in beta: 1.25\n",
      "Edit: Claudio Reyna -> soccer <to> Mario Lemieux -> hockey -- found in beta: 1.25\n",
      "Edit: Jean Béliveau -> hockey <to> Robbie Keane -> soccer -- found in beta: 1.25\n",
      "Edit: Julius Erving -> basketball <to> Robbie Rogers -> soccer -- found in beta: 1.25\n",
      "Edit: Obafemi Martins -> soccer <to> Shane Doan -> hockey -- found in beta: 1.25\n",
      "Edit: Scottie Pippen -> basketball <to> Alexander Ovechkin -> hockey -- found in beta: 1.5\n",
      "Edit: Red Grange -> football <to> Alexi Lalas -> soccer -- found in beta: 1.5\n",
      "Edit: Derek Jeter -> baseball <to> Bastian Schweinsteiger -> soccer -- found in beta: 1.5\n",
      "Edit: Tom Harmon -> football <to> Carlos Valderrama -> soccer -- found in beta: 1.5\n",
      "Edit: Lawrence Taylor -> football <to> Alessandro Nesta -> soccer -- found in beta: 1.75\n",
      "Edit: Michael Jordan -> basketball <to> Claudio Reyna -> soccer -- found in beta: 1.75\n",
      "Edit: Herschel Walker -> football <to> Jari Kurri -> hockey -- found in beta: 1.75\n",
      "Edit: Megan Rapinoe -> soccer <to> Joe Garagiola Sr. -> baseball -- found in beta: 1.75\n",
      "Edit: Hope Solo -> soccer <to> Marián Hossa -> hockey -- found in beta: 1.75\n",
      "Edit: Metta Sandiford-Artest -> basketball <to> Michael Bradley -> soccer -- found in beta: 1.75\n",
      "Edit: Frank Mahovlich -> hockey <to> Michael Umaña -> soccer -- found in beta: 1.75\n",
      "Edit: Sergei Fedorov -> hockey <to> Marco Di Vaio -> soccer -- found in beta: 2.0\n",
      "Edit: Tony Gwynn -> baseball <to> Obafemi Martins -> soccer -- found in beta: 2.0\n",
      "Edit: Honus Wagner -> baseball <to> Pavel Bure -> hockey -- found in beta: 2.0\n",
      "Edit: Wilt Chamberlain -> basketball <to> Ryan Smyth -> hockey -- found in beta: 2.25\n",
      "Edit: Bud Grant -> football <to> Wim Suurbier -> soccer -- found in beta: 2.25\n",
      "Edit: Alexei Kovalev -> hockey <to> Emanuel Pogatetz -> soccer -- found in beta: 2.5\n",
      "Edit: Elton Brand -> basketball <to> Marcos Mondaini -> soccer -- found in beta: 2.5\n",
      "Edit: Babe Ruth -> baseball <to> Antonio Nocerino -> soccer -- found in beta: 2.75\n",
      "Edit: Roy Campanella -> baseball <to> Lionel Conacher -> hockey -- found in beta: 3.0\n",
      "Edit: Steve Yzerman -> hockey <to> Juninho Pernambucano -> soccer -- found in beta: 4.0\n",
      "Edit: Roger Maris -> baseball <to> Júlio Baptista -> soccer -- found in beta: 5.0\n"
     ]
    }
   ],
   "source": [
    "efficacy_successes = {s.target.subject : s for s in rank_result.efficacy_successes}\n",
    "\n",
    "for beta_result in layer_result.result.betas:\n",
    "    faithfulness_successes = beta_result.faithfulness_successes\n",
    "    for sample in faithfulness_successes:\n",
    "        if(sample.subject in efficacy_successes):\n",
    "            print(f\"Edit: {efficacy_successes[sample.subject].source} <to> {efficacy_successes[sample.subject].target} -- found in beta: {beta_result.beta}\")\n",
    "            efficacy_successes.pop(sample.subject)\n",
    "        "
   ]
  },
  {
   "cell_type": "code",
   "execution_count": 14,
   "metadata": {},
   "outputs": [
    {
     "name": "stdout",
     "output_type": "stream",
     "text": [
      "No target match found in faithfulness successes for the following:\n",
      "Edit: Joe DiMaggio -> baseball <to> Lutz Pfannenstiel -> soccer\n",
      "Edit: Peter Forsberg -> hockey <to> Júlio César -> soccer\n",
      "Edit: Michael Bradley -> soccer <to> Jean Béliveau -> hockey\n",
      "Edit: Chris Paul -> basketball <to> Howie Morenz -> hockey\n",
      "Edit: Christy Mathewson -> baseball <to> Cuauhtémoc Blanco -> soccer\n",
      "Edit: Connie Mack -> baseball <to> Andreas Ivanschitz -> soccer\n",
      "Edit: Ron W. Miller -> football <to> Ken Dryden -> hockey\n",
      "Edit: Pat Tillman -> football <to> Maurice Richard -> hockey\n",
      "Edit: Phil Jackson -> basketball <to> Phil Esposito -> hockey\n",
      "Edit: Jackie Robinson -> baseball <to> Igor Larionov -> hockey\n",
      "Edit: John Olerud -> baseball <to> Patrick Roy -> hockey\n",
      "Edit: Kareem Abdul-Jabbar -> basketball <to> Matteo Ferrari -> soccer\n",
      "Edit: Siem de Jong -> soccer <to> Sergei Fedorov -> hockey\n",
      "Edit: Moe Berg -> baseball <to> Egidio Arévalo Rios -> soccer\n",
      "Edit: Woody Strode -> football <to> Mark Messier -> hockey\n",
      "Edit: Troy Aikman -> football <to> Dennis Seidenberg -> hockey\n",
      "Edit: Walter Payton -> football <to> Viacheslav Fetisov -> hockey\n"
     ]
    }
   ],
   "source": [
    "print(\"No target match found in faithfulness successes for the following:\")\n",
    "for sample in efficacy_successes.values():\n",
    "    print(f\"Edit: {sample.source} <to> {sample.target}\")"
   ]
  },
  {
   "cell_type": "code",
   "execution_count": 15,
   "metadata": {},
   "outputs": [
    {
     "data": {
      "text/plain": [
       "[RelationSample(subject=\"Ed O'Neill\", object='football'),\n",
       " RelationSample(subject='Brad Friedel', object='soccer'),\n",
       " RelationSample(subject='Deion Sanders', object='baseball'),\n",
       " RelationSample(subject='Kevin Durant', object='basketball'),\n",
       " RelationSample(subject='Wayne Gretzky', object='hockey'),\n",
       " RelationSample(subject='Jesse Hibbs', object='football'),\n",
       " RelationSample(subject='Edgaras Jankauskas', object='soccer'),\n",
       " RelationSample(subject='Ty Cobb', object='baseball')]"
      ]
     },
     "execution_count": 15,
     "metadata": {},
     "output_type": "execute_result"
    }
   ],
   "source": [
    "train_samples = layer_result.result.samples\n",
    "train_samples"
   ]
  },
  {
   "cell_type": "code",
   "execution_count": 16,
   "metadata": {},
   "outputs": [
    {
     "data": {
      "text/plain": [
       "'{} plays the sport of'"
      ]
     },
     "execution_count": 16,
     "metadata": {},
     "output_type": "execute_result"
    }
   ],
   "source": [
    "prompt_template = relation_result.trials[TRIAL_NO].prompt_template\n",
    "prompt_template"
   ]
  },
  {
   "cell_type": "code",
   "execution_count": 17,
   "metadata": {},
   "outputs": [],
   "source": [
    "from src import functional, operators, editors"
   ]
  },
  {
   "cell_type": "code",
   "execution_count": 18,
   "metadata": {},
   "outputs": [],
   "source": [
    "estimator = operators.JacobianIclMeanEstimator(\n",
    "    mt = mt,\n",
    "    h_layer = LAYER,\n",
    ")\n",
    "\n",
    "operator = estimator(\n",
    "    relation.set(\n",
    "        samples = train_samples,\n",
    "        prompt_templates = [prompt_template],\n",
    "    )\n",
    ")"
   ]
  },
  {
   "cell_type": "code",
   "execution_count": 19,
   "metadata": {},
   "outputs": [],
   "source": [
    "############################################\n",
    "subject = \"Júlio César\"\n",
    "############################################"
   ]
  },
  {
   "cell_type": "code",
   "execution_count": 20,
   "metadata": {},
   "outputs": [
    {
     "data": {
      "text/plain": [
       "[[PredictedToken(token=' soccer', prob=0.6075406670570374),\n",
       "  PredictedToken(token=' football', prob=0.26959455013275146),\n",
       "  PredictedToken(token=' f', prob=0.03648565337061882),\n",
       "  PredictedToken(token=' Soccer', prob=0.00833410955965519),\n",
       "  PredictedToken(token=' jud', prob=0.004976524040102959)]]"
      ]
     },
     "execution_count": 20,
     "metadata": {},
     "output_type": "execute_result"
    }
   ],
   "source": [
    "# model predicts correctly\n",
    "functional.predict_next_token(\n",
    "    mt = mt,\n",
    "    prompt = operator.prompt_template.format(subject)\n",
    ")"
   ]
  },
  {
   "cell_type": "code",
   "execution_count": 21,
   "metadata": {},
   "outputs": [
    {
     "data": {
      "text/plain": [
       "LinearRelationOutput(predictions=[PredictedToken(token=' football', prob=0.4927668273448944), PredictedToken(token=' basketball', prob=0.2256051003932953), PredictedToken(token=' baseball', prob=0.1305702179670334), PredictedToken(token=' soccer', prob=0.05113203078508377), PredictedToken(token='...', prob=0.009835257194936275)], h=tensor([[-0.0308, -0.8740, -0.1814,  ...,  1.9746,  0.5850, -0.1228]],\n",
       "       device='cuda:0', dtype=torch.float16), z=tensor([[-2.7949, -0.2698, -0.0322,  ..., -2.7891,  0.7993, -0.4309]],\n",
       "       device='cuda:0', dtype=torch.float16, grad_fn=<AddBackward0>))"
      ]
     },
     "execution_count": 21,
     "metadata": {},
     "output_type": "execute_result"
    }
   ],
   "source": [
    "# LRE fails (low faithfulness)\n",
    "operator(subject=subject, k = 5)"
   ]
  },
  {
   "cell_type": "code",
   "execution_count": 22,
   "metadata": {},
   "outputs": [],
   "source": [
    "svd = torch.svd(operator.weight.float())\n",
    "editor = editors.LowRankPInvEditor(\n",
    "    lre = operator,\n",
    "    rank = rank_result.rank,\n",
    "    n_samples=1, n_new_tokens=1,\n",
    "    svd = svd\n",
    ")"
   ]
  },
  {
   "cell_type": "code",
   "execution_count": 23,
   "metadata": {},
   "outputs": [
    {
     "data": {
      "text/plain": [
       "'Editing: Peter Forsberg -> hockey <to> Júlio César -> soccer'"
      ]
     },
     "execution_count": 23,
     "metadata": {},
     "output_type": "execute_result"
    }
   ],
   "source": [
    "efficacy_test_pair = efficacy_successes[subject]\n",
    "f\"Editing: {efficacy_test_pair.source} <to> {efficacy_test_pair.target}\""
   ]
  },
  {
   "cell_type": "code",
   "execution_count": 24,
   "metadata": {},
   "outputs": [
    {
     "data": {
      "text/plain": [
       "LinearRelationEditResult(predicted_tokens=[PredictedToken(token=' soccer', prob=0.41615208983421326), PredictedToken(token=' football', prob=0.37891077995300293), PredictedToken(token=' jud', prob=0.03159268945455551), PredictedToken(token=' MMA', prob=0.01691034808754921), PredictedToken(token=' boxing', prob=0.01639007218182087)], model_logits=tensor([-inf, -inf, -inf,  ..., -inf, -inf, -inf], device='cuda:0'), model_generations=[\"Ed O'Neill plays the sport of football\\nBrad Friedel plays the sport of soccer\\nDeion Sanders plays the sport of baseball\\nKevin Durant plays the sport of basketball\\nWayne Gretzky plays the sport of hockey\\nJesse Hibbs plays the sport of football\\nEdgaras Jankauskas plays the sport of soccer\\nTy Cobb plays the sport of baseball\\nPeter Forsberg plays the sport of kick\"])"
      ]
     },
     "execution_count": 24,
     "metadata": {},
     "output_type": "execute_result"
    }
   ],
   "source": [
    "# editing succeeds (high efficacy)\n",
    "editor(\n",
    "    subject = efficacy_test_pair.source.subject,\n",
    "    target = efficacy_test_pair.target.subject,\n",
    ")"
   ]
  },
  {
   "cell_type": "code",
   "execution_count": null,
   "metadata": {},
   "outputs": [],
   "source": []
  },
  {
   "cell_type": "code",
   "execution_count": null,
   "metadata": {},
   "outputs": [],
   "source": []
  },
  {
   "cell_type": "code",
   "execution_count": null,
   "metadata": {},
   "outputs": [],
   "source": []
  }
 ],
 "metadata": {
  "kernelspec": {
   "display_name": "Python 3",
   "language": "python",
   "name": "python3"
  },
  "language_info": {
   "codemirror_mode": {
    "name": "ipython",
    "version": 3
   },
   "file_extension": ".py",
   "mimetype": "text/x-python",
   "name": "python",
   "nbconvert_exporter": "python",
   "pygments_lexer": "ipython3",
   "version": "3.10.11"
  },
  "orig_nbformat": 4
 },
 "nbformat": 4,
 "nbformat_minor": 2
}
