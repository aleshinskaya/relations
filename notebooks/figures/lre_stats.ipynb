{
 "cells": [
  {
   "cell_type": "code",
   "execution_count": null,
   "metadata": {},
   "outputs": [],
   "source": [
    "%load_ext autoreload\n",
    "%autoreload 2"
   ]
  },
  {
   "cell_type": "code",
   "execution_count": null,
   "metadata": {},
   "outputs": [],
   "source": [
    "import sys\n",
    "sys.path.append(\"../..\")\n",
    "\n",
    "import numpy as np\n",
    "import matplotlib.pyplot as plt\n",
    "import os\n",
    "from src import data\n",
    "import json\n",
    "from tqdm.auto import tqdm\n",
    "from src.metrics import AggregateMetric\n",
    "import logging\n",
    "\n",
    "from src.utils import logging_utils\n",
    "from src.utils.sweep_utils import read_sweep_results, relation_from_dict\n",
    "\n",
    "# logging_utils.configure(level=logging.DEBUG)"
   ]
  },
  {
   "cell_type": "code",
   "execution_count": null,
   "metadata": {},
   "outputs": [],
   "source": [
    "##############################################\n",
    "model_name = \"gptj\"\n",
    "path = f\"../../results/lre_stats/{model_name}\"\n",
    "##############################################\n",
    "\n",
    "os.listdir(path)"
   ]
  },
  {
   "cell_type": "code",
   "execution_count": null,
   "metadata": {},
   "outputs": [],
   "source": [
    "relation = \"country capital city\"\n",
    "relation_path = os.path.join(path, relation.replace(\" \", \"_\"))\n",
    "relation_path = os.path.join(relation_path, os.listdir(relation_path)[0])\n",
    "sweep_results = read_sweep_results(\n",
    "    sweep_dir=f\"{relation_path}/{str(8)}\",\n",
    ")\n",
    "relation = list(sweep_results.keys())[0]\n",
    "relation_results = relation_from_dict(sweep_results[relation])\n",
    "\n",
    "sweep_results[relation][\"trials\"][0][\"layers\"][0][\"result\"]"
   ]
  },
  {
   "cell_type": "code",
   "execution_count": null,
   "metadata": {},
   "outputs": [],
   "source": [
    "def parse_for_n(n_icl, relation_path):\n",
    "    sweep_results = read_sweep_results(\n",
    "        sweep_dir=f\"{relation_path}/{str(n_icl)}\",\n",
    "    )\n",
    "    relation = list(sweep_results.keys())[0]\n",
    "    relation_results = relation_from_dict(sweep_results[relation])\n",
    "    \n",
    "    weight_norms = [\n",
    "        trial.layers[0].result.lre_stats[\"|weight|\"] for trial in relation_results.trials\n",
    "    ]\n",
    "    bias_norms = [\n",
    "        trial.layers[0].result.lre_stats[\"|bias|\"] for trial in relation_results.trials\n",
    "    ]\n",
    "\n",
    "    faithfulness = np.array([\n",
    "        trial.layers[0].result.betas[0].recall[0] \n",
    "        for trial in relation_results.trials\n",
    "    ])\n",
    "    efficacy = np.array([\n",
    "        trial.layers[0].result.ranks[0].efficacy[0]\n",
    "        for trial in relation_results.trials\n",
    "    ])\n",
    "\n",
    "    return faithfulness, efficacy, weight_norms, bias_norms\n",
    "\n",
    "def parse_for_relation(relation = \"country capital city\"):\n",
    "    relation_path = os.path.join(path, relation.replace(\" \", \"_\"))\n",
    "    relation_path = os.path.join(relation_path, os.listdir(relation_path)[0])\n",
    "    n_icl_list = [int(x) for x in os.listdir(relation_path) if x.startswith(\"args\") == False]\n",
    "    n_icl_list.sort()\n",
    "    \n",
    "    faithfulness = []\n",
    "    causality = []\n",
    "    weight_norms = []\n",
    "    bias_norms = []\n",
    "\n",
    "    for n_icl in n_icl_list:\n",
    "        faith, eff, w, b = parse_for_n(n_icl, relation_path)\n",
    "        faithfulness.append(faith)\n",
    "        causality.append(eff)\n",
    "        weight_norms.append(np.array(w))\n",
    "        bias_norms.append(np.array(b))\n",
    "\n",
    "    return {\n",
    "        \"relation\": relation,\n",
    "        \"faithfulness\": np.array(faithfulness),\n",
    "        \"causality\": np.array(causality),\n",
    "        \"|weight|\": np.array(weight_norms),\n",
    "        \"|bias|\": np.array(bias_norms),\n",
    "    }"
   ]
  },
  {
   "cell_type": "code",
   "execution_count": null,
   "metadata": {},
   "outputs": [],
   "source": [
    "relations = list(os.listdir(path))\n",
    "lre_stats = {}\n",
    "\n",
    "for relation in relations:\n",
    "    lre_stats[relation] = parse_for_relation(relation)"
   ]
  },
  {
   "cell_type": "code",
   "execution_count": null,
   "metadata": {},
   "outputs": [],
   "source": [
    "faithfulness = []\n",
    "causality = []\n",
    "weight_means = []\n",
    "weight_stds = []\n",
    "\n",
    "for relation in relations:\n",
    "    faith = lre_stats[relation][\"faithfulness\"]\n",
    "    eff = lre_stats[relation][\"causality\"]\n",
    "\n",
    "    if len(faith) == 0 or len(eff) == 0:\n",
    "        continue\n",
    "\n",
    "    faithfulness.append(faith.mean())\n",
    "    causality.append(eff.mean())\n",
    "    weight_means.append(np.mean(lre_stats[relation][\"|weight|\"]))\n",
    "    weight_stds.append(np.std(lre_stats[relation][\"|weight|\"]))"
   ]
  },
  {
   "cell_type": "code",
   "execution_count": null,
   "metadata": {},
   "outputs": [],
   "source": [
    "plt.plot(faithfulness, weight_stds, \"o\")"
   ]
  },
  {
   "cell_type": "code",
   "execution_count": null,
   "metadata": {},
   "outputs": [],
   "source": []
  }
 ],
 "metadata": {
  "kernelspec": {
   "display_name": "Python 3",
   "language": "python",
   "name": "python3"
  },
  "language_info": {
   "codemirror_mode": {
    "name": "ipython",
    "version": 3
   },
   "file_extension": ".py",
   "mimetype": "text/x-python",
   "name": "python",
   "nbconvert_exporter": "python",
   "pygments_lexer": "ipython3",
   "version": "3.10.11"
  }
 },
 "nbformat": 4,
 "nbformat_minor": 2
}
