{
 "cells": [
  {
   "cell_type": "code",
   "execution_count": 1,
   "metadata": {},
   "outputs": [],
   "source": [
    "%load_ext autoreload\n",
    "%autoreload 2"
   ]
  },
  {
   "cell_type": "code",
   "execution_count": 2,
   "metadata": {},
   "outputs": [],
   "source": [
    "import sys\n",
    "sys.path.append(\"../..\")\n",
    "\n",
    "import numpy as np\n",
    "import matplotlib.pyplot as plt\n",
    "import os\n",
    "from src import data\n",
    "import json\n",
    "from tqdm.auto import tqdm\n",
    "from src.metrics import AggregateMetric\n",
    "import logging\n",
    "\n",
    "from src.utils import logging_utils\n",
    "\n",
    "# logging_utils.configure(level=logging.DEBUG)"
   ]
  },
  {
   "cell_type": "code",
   "execution_count": 3,
   "metadata": {},
   "outputs": [],
   "source": [
    "# stats = {}\n",
    "\n",
    "# dataset = data.load_dataset()\n",
    "# for relation in dataset:\n",
    "#     stats[relation.name] = {\n",
    "#         \"name\": relation.name,\n",
    "#         \"category\": relation.properties.relation_type,\n",
    "#         \"num_samples\": len(relation.samples)\n",
    "#     }\n",
    "\n",
    "# with open(\"stats/data.json\", \"w\") as f:\n",
    "#     json.dump(stats, f, indent=2)"
   ]
  },
  {
   "cell_type": "code",
   "execution_count": 4,
   "metadata": {},
   "outputs": [],
   "source": [
    "# ############################################\n",
    "# sweep_root = \"../../results/sweep-24-trials\"\n",
    "# # sweep_root = \"../../results/sweep-bare\"\n",
    "# model_name = \"llama-13b\" # gptj | gpt2-xl | llama-13b\n",
    "# ############################################\n",
    "\n",
    "# sweep_path = f\"{sweep_root}/{model_name}\""
   ]
  },
  {
   "cell_type": "code",
   "execution_count": 5,
   "metadata": {},
   "outputs": [
    {
     "data": {
      "text/plain": [
       "['person occupation',\n",
       " 'adjective antonym',\n",
       " 'person mother',\n",
       " 'country capital city',\n",
       " 'plays pro sport',\n",
       " 'star constellation name',\n",
       " 'person plays instrument',\n",
       " 'person university',\n",
       " 'city in country',\n",
       " 'food from country',\n",
       " 'occupation gender',\n",
       " 'occupation age',\n",
       " 'name gender',\n",
       " 'company hq',\n",
       " 'word first letter',\n",
       " 'country language',\n",
       " 'object superclass',\n",
       " 'name religion',\n",
       " 'fruit outside color',\n",
       " 'superhero archnemesis',\n",
       " 'work location',\n",
       " 'person lead singer of band',\n",
       " 'landmark on continent',\n",
       " 'characteristic gender',\n",
       " 'country largest city',\n",
       " 'country currency',\n",
       " 'fruit inside color',\n",
       " 'task done by tool',\n",
       " 'verb past tense',\n",
       " 'pokemon evolution',\n",
       " 'product by company',\n",
       " 'name birthplace',\n",
       " 'word last letter',\n",
       " 'word sentiment',\n",
       " 'landmark in country',\n",
       " 'company CEO',\n",
       " 'superhero person',\n",
       " 'person father',\n",
       " 'substance phase of matter',\n",
       " 'adjective superlative',\n",
       " 'person sport position',\n",
       " 'adjective comparative',\n",
       " 'univ degree gender',\n",
       " 'task person type',\n",
       " 'person native language']"
      ]
     },
     "execution_count": 5,
     "metadata": {},
     "output_type": "execute_result"
    }
   ],
   "source": [
    "# from src.utils.sweep_utils import read_sweep_results\n",
    "\n",
    "\n",
    "# sweep_results = read_sweep_results(sweep_path, economy=False)\n",
    "# list(sweep_results.keys())"
   ]
  },
  {
   "cell_type": "code",
   "execution_count": 9,
   "metadata": {},
   "outputs": [
    {
     "name": "stdout",
     "output_type": "stream",
     "text": [
      "Skipping president birth year -- not found for llama-13b\n",
      "Skipping president election year -- not found for llama-13b\n"
     ]
    }
   ],
   "source": [
    "with open(\"stats/data.json\", \"r\") as f:\n",
    "    stats = json.load(f)\n",
    "\n",
    "for relation in stats:\n",
    "    if relation not in sweep_results:\n",
    "        stats[relation][model_name] = f\"--\"\n",
    "        print(f\"Skipping {relation} -- not found for {model_name}\")\n",
    "        continue\n",
    "    trail_tests = np.array([\n",
    "        trial[\"n_test_samples\"] \n",
    "        for trial in sweep_results[relation][\"trials\"]\n",
    "    ])\n",
    "    if len(trail_tests) < (3 if model_name != \"llama-13b\" else 2):\n",
    "        stats[relation][model_name] = f\"--\"\n",
    "        print(f\"Skipping {relation} -- not enough trials for {model_name}\")\n",
    "        continue\n",
    "    else:\n",
    "        stats[relation][model_name] = f\"{trail_tests.mean() :.2f} \\pm {trail_tests.std() :.2f}\"\n",
    "\n",
    "with open(\"stats/data.json\", \"w\") as f:\n",
    "    json.dump(stats, f, indent=2)"
   ]
  },
  {
   "cell_type": "markdown",
   "metadata": {},
   "source": [
    "## Table 4"
   ]
  },
  {
   "cell_type": "code",
   "execution_count": 10,
   "metadata": {},
   "outputs": [],
   "source": [
    "with open(\"stats/data.json\", \"r\") as f:\n",
    "    stats = json.load(f)"
   ]
  },
  {
   "cell_type": "code",
   "execution_count": 14,
   "metadata": {},
   "outputs": [
    {
     "name": "stdout",
     "output_type": "stream",
     "text": [
      "7\n",
      "& occupation age & $45$ & $25.67 \\pm 2.62$ & $22.88 \\pm 3.82$ & $32.79 \\pm 2.63$ \\\\ \n",
      "& univ degree gender & $38$ & $--$ & $21.50 \\pm 2.38$ & $24.17 \\pm 2.41$ \\\\ \n",
      "& name birthplace & $31$ & $17.09 \\pm 2.59$ & $18.04 \\pm 1.43$ & $21.38 \\pm 1.11$ \\\\ \n",
      "& name religion & $31$ & $16.96 \\pm 2.26$ & $15.08 \\pm 2.23$ & $19.83 \\pm 1.49$ \\\\ \n",
      "& characteristic gender & $30$ & $15.88 \\pm 2.71$ & $15.76 \\pm 2.16$ & $19.67 \\pm 1.18$ \\\\ \n",
      "& name gender & $19$ & $11.00 \\pm 0.00$ & $10.71 \\pm 0.61$ & $10.79 \\pm 0.41$ \\\\ \n",
      "& occupation gender & $19$ & $9.60 \\pm 0.80$ & $9.78 \\pm 0.66$ & $10.79 \\pm 0.41$ \\\\ \n",
      "\\hline\n"
     ]
    }
   ],
   "source": [
    "category = \"bias\"\n",
    "category_stats = [\n",
    "    stats[relation] \n",
    "    for relation in stats \n",
    "    if stats[relation][\"category\"] == category\n",
    "]\n",
    "\n",
    "category_stats = sorted(\n",
    "    category_stats, key=lambda x: x[\"num_samples\"], reverse=True\n",
    ")\n",
    "print(len(category_stats))\n",
    "for relation in category_stats:\n",
    "    relation_stats = relation\n",
    "    relation_name = relation_stats[\"name\"]\n",
    "    print(f\"& {relation_name} & ${relation_stats['num_samples']}$ & ${relation_stats['gptj']}$ & ${relation_stats['gpt2-xl']}$ & ${relation_stats['llama-13b']}$ \\\\\\\\ \")\n",
    "print(\"\\\\hline\")"
   ]
  },
  {
   "cell_type": "code",
   "execution_count": null,
   "metadata": {},
   "outputs": [],
   "source": []
  }
 ],
 "metadata": {
  "kernelspec": {
   "display_name": "relations",
   "language": "python",
   "name": "python3"
  },
  "language_info": {
   "codemirror_mode": {
    "name": "ipython",
    "version": 3
   },
   "file_extension": ".py",
   "mimetype": "text/x-python",
   "name": "python",
   "nbconvert_exporter": "python",
   "pygments_lexer": "ipython3",
   "version": "3.10.11"
  }
 },
 "nbformat": 4,
 "nbformat_minor": 2
}
