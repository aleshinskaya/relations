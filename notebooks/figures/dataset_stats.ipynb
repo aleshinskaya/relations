{
 "cells": [
  {
   "cell_type": "code",
   "execution_count": 15,
   "metadata": {},
   "outputs": [
    {
     "name": "stdout",
     "output_type": "stream",
     "text": [
      "The autoreload extension is already loaded. To reload it, use:\n",
      "  %reload_ext autoreload\n"
     ]
    }
   ],
   "source": [
    "%load_ext autoreload\n",
    "%autoreload 2"
   ]
  },
  {
   "cell_type": "code",
   "execution_count": 21,
   "metadata": {},
   "outputs": [],
   "source": [
    "import sys\n",
    "sys.path.append(\"../..\")\n",
    "\n",
    "import numpy as np\n",
    "import matplotlib.pyplot as plt\n",
    "import os\n",
    "from src import data\n",
    "import json\n",
    "from tqdm.auto import tqdm\n",
    "from src.metrics import AggregateMetric\n",
    "import logging\n",
    "\n",
    "from src.utils import logging_utils\n",
    "\n",
    "# logging_utils.configure(level=logging.DEBUG)"
   ]
  },
  {
   "cell_type": "code",
   "execution_count": 22,
   "metadata": {},
   "outputs": [],
   "source": [
    "# stats = {}\n",
    "\n",
    "# dataset = data.load_dataset()\n",
    "# for relation in dataset:\n",
    "#     stats[relation.name] = {\n",
    "#         \"name\": relation.name,\n",
    "#         \"category\": relation.properties.relation_type,\n",
    "#         \"num_samples\": len(relation.samples)\n",
    "#     }\n",
    "\n",
    "# with open(\"stats/data.json\", \"w\") as f:\n",
    "#     json.dump(stats, f, indent=2)"
   ]
  },
  {
   "cell_type": "code",
   "execution_count": 23,
   "metadata": {},
   "outputs": [],
   "source": [
    "# ############################################\n",
    "# sweep_root = \"../../results/sweep-24-trials\"\n",
    "# # sweep_root = \"../../results/sweep-bare\"\n",
    "# model_name = \"llama-13b\" # gptj | gpt2-xl | llama-13b\n",
    "# ############################################\n",
    "\n",
    "# sweep_path = f\"{sweep_root}/{model_name}\""
   ]
  },
  {
   "cell_type": "code",
   "execution_count": 24,
   "metadata": {},
   "outputs": [],
   "source": [
    "# from src.utils.sweep_utils import read_sweep_results\n",
    "\n",
    "\n",
    "# sweep_results = read_sweep_results(sweep_path, economy=False)\n",
    "# list(sweep_results.keys())"
   ]
  },
  {
   "cell_type": "code",
   "execution_count": 25,
   "metadata": {},
   "outputs": [],
   "source": [
    "# with open(\"stats/data.json\", \"r\") as f:\n",
    "#     stats = json.load(f)\n",
    "\n",
    "# for relation in stats:\n",
    "#     if relation not in sweep_results:\n",
    "#         stats[relation][model_name] = f\"--\"\n",
    "#         print(f\"Skipping {relation} -- not found for {model_name}\")\n",
    "#         continue\n",
    "#     trail_tests = np.array([\n",
    "#         trial[\"n_test_samples\"] \n",
    "#         for trial in sweep_results[relation][\"trials\"]\n",
    "#     ])\n",
    "#     # if len(trail_tests) < (3 if model_name != \"llama-13b\" else 2):\n",
    "#     #     stats[relation][model_name] = f\"--\"\n",
    "#     #     print(f\"Skipping {relation} -- not enough trials for {model_name}\")\n",
    "#     #     continue\n",
    "#     # else:\n",
    "#     stats[relation][model_name] = f\"{trail_tests.mean() :.2f} \\pm {trail_tests.std() :.2f}\"\n",
    "\n",
    "# with open(\"stats/data.json\", \"w\") as f:\n",
    "#     json.dump(stats, f, indent=2)"
   ]
  },
  {
   "cell_type": "markdown",
   "metadata": {},
   "source": [
    "## Table 4"
   ]
  },
  {
   "cell_type": "code",
   "execution_count": 26,
   "metadata": {},
   "outputs": [],
   "source": [
    "with open(\"stats/data.json\", \"r\") as f:\n",
    "    stats = json.load(f)"
   ]
  },
  {
   "cell_type": "code",
   "execution_count": 29,
   "metadata": {},
   "outputs": [],
   "source": [
    "def change_decimal(result):\n",
    "    if result == \"--\":\n",
    "        return result\n",
    "    mean, std = result.split(\" \\pm \")\n",
    "    mean = float(mean)\n",
    "    std = float(std)\n",
    "    return f\"{mean:.1f} \\pm {std:.1f}\""
   ]
  },
  {
   "cell_type": "code",
   "execution_count": 34,
   "metadata": {},
   "outputs": [
    {
     "name": "stdout",
     "output_type": "stream",
     "text": [
      "7\n",
      "& occupation age & $45$ & $25.7 \\pm 2.6$ & $22.9 \\pm 3.8$ & $32.8 \\pm 2.6$ \\\\ \n",
      "& univ degree gender & $38$ & $--$ & $21.5 \\pm 2.4$ & $24.2 \\pm 2.4$ \\\\ \n",
      "& name birthplace & $31$ & $17.1 \\pm 2.6$ & $18.0 \\pm 1.4$ & $21.4 \\pm 1.1$ \\\\ \n",
      "& name religion & $31$ & $17.0 \\pm 2.3$ & $15.1 \\pm 2.2$ & $19.8 \\pm 1.5$ \\\\ \n",
      "& characteristic gender & $30$ & $15.9 \\pm 2.7$ & $15.8 \\pm 2.2$ & $19.7 \\pm 1.2$ \\\\ \n",
      "& name gender & $19$ & $11.0 \\pm 0.0$ & $10.7 \\pm 0.6$ & $10.8 \\pm 0.4$ \\\\ \n",
      "& occupation gender & $19$ & $9.6 \\pm 0.8$ & $9.8 \\pm 0.7$ & $10.8 \\pm 0.4$ \\\\ \n",
      "\\hline\n"
     ]
    }
   ],
   "source": [
    "category = \"bias\"\n",
    "category_stats = [\n",
    "    stats[relation] \n",
    "    for relation in stats \n",
    "    if stats[relation][\"category\"] == category\n",
    "]\n",
    "\n",
    "category_stats = sorted(\n",
    "    category_stats, key=lambda x: x[\"num_samples\"], reverse=True\n",
    ")\n",
    "print(len(category_stats))\n",
    "for relation in category_stats:\n",
    "    relation_stats = relation\n",
    "    relation_name = relation_stats[\"name\"]\n",
    "    gptj_count = change_decimal(relation_stats[\"gptj\"])\n",
    "    gpt2_count = change_decimal(relation_stats[\"gpt2-xl\"])\n",
    "    llama_count = change_decimal(relation_stats[\"llama-13b\"])\n",
    "    print(f\"& {relation_name} & ${relation_stats['num_samples']}$ & ${gptj_count}$ & ${gpt2_count}$ & ${llama_count}$ \\\\\\\\ \")\n",
    "print(\"\\\\hline\")"
   ]
  },
  {
   "cell_type": "code",
   "execution_count": 9,
   "metadata": {},
   "outputs": [
    {
     "data": {
      "text/plain": [
       "'9.6 \\\\pm 0.8'"
      ]
     },
     "execution_count": 9,
     "metadata": {},
     "output_type": "execute_result"
    }
   ],
   "source": [
    "\n",
    "\n",
    "change_decimal(relation_stats['gptj'])"
   ]
  },
  {
   "cell_type": "code",
   "execution_count": 8,
   "metadata": {},
   "outputs": [
    {
     "data": {
      "text/plain": [
       "'9.60 \\\\pm 0.80'"
      ]
     },
     "execution_count": 8,
     "metadata": {},
     "output_type": "execute_result"
    }
   ],
   "source": []
  },
  {
   "cell_type": "code",
   "execution_count": null,
   "metadata": {},
   "outputs": [],
   "source": []
  }
 ],
 "metadata": {
  "kernelspec": {
   "display_name": "relations",
   "language": "python",
   "name": "python3"
  },
  "language_info": {
   "codemirror_mode": {
    "name": "ipython",
    "version": 3
   },
   "file_extension": ".py",
   "mimetype": "text/x-python",
   "name": "python",
   "nbconvert_exporter": "python",
   "pygments_lexer": "ipython3",
   "version": "3.10.11"
  }
 },
 "nbformat": 4,
 "nbformat_minor": 2
}
