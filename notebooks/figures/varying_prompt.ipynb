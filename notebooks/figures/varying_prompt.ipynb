{
 "cells": [
  {
   "cell_type": "code",
   "execution_count": null,
   "metadata": {},
   "outputs": [],
   "source": [
    "%load_ext autoreload\n",
    "%autoreload 2"
   ]
  },
  {
   "cell_type": "code",
   "execution_count": null,
   "metadata": {},
   "outputs": [],
   "source": [
    "import sys\n",
    "sys.path.append(\"../..\")\n",
    "\n",
    "import numpy as np\n",
    "import matplotlib.pyplot as plt\n",
    "import os\n",
    "from src import data\n",
    "import json\n",
    "from tqdm.auto import tqdm\n",
    "from src.metrics import AggregateMetric\n",
    "import logging\n",
    "\n",
    "from src.utils import logging_utils\n",
    "from src.utils.sweep_utils import read_sweep_results, relation_from_dict\n",
    "\n",
    "# logging_utils.configure(level=logging.DEBUG)"
   ]
  },
  {
   "cell_type": "code",
   "execution_count": null,
   "metadata": {},
   "outputs": [],
   "source": [
    "##############################################\n",
    "model_name = \"gptj\"\n",
    "path = f\"../../results/sweep_prompt/{model_name}\"\n",
    "##############################################\n",
    "\n",
    "os.listdir(path)"
   ]
  },
  {
   "cell_type": "code",
   "execution_count": null,
   "metadata": {},
   "outputs": [],
   "source": [
    "def parse_for_n(n_icl, relation_path):\n",
    "    sweep_results = read_sweep_results(\n",
    "        sweep_dir=f\"{relation_path}/{str(n_icl)}\",\n",
    "    )\n",
    "    relation = list(sweep_results.keys())[0]\n",
    "    relation_results = relation_from_dict(sweep_results[relation])\n",
    "    prompt_template = relation_results.trials[0].prompt_template\n",
    "    faithfulness = np.array([\n",
    "        trial.layers[0].result.betas[0].recall[0] \n",
    "        for trial in relation_results.trials\n",
    "    ])\n",
    "    efficacy = np.array([\n",
    "        trial.layers[0].result.ranks[0].efficacy[0]\n",
    "        for trial in relation_results.trials\n",
    "    ])\n",
    "\n",
    "    return prompt_template, faithfulness, efficacy\n",
    "\n",
    "def parse_for_relation(relation = \"country capital city\"):\n",
    "    relation_path = os.path.join(path, relation.replace(\" \", \"_\"))\n",
    "    relation_path = os.path.join(relation_path, os.listdir(relation_path)[0])\n",
    "    n_icl_list = [int(x) for x in os.listdir(relation_path) if x.startswith(\"args\") == False]\n",
    "    n_icl_list.sort()\n",
    "    \n",
    "    faith_means, faith_stds = [], []\n",
    "    eff_means, eff_stds = [], []\n",
    "    prompt_templates = []\n",
    "\n",
    "    for n_icl in n_icl_list:\n",
    "        prompt_template, faithfulness, efficacy = parse_for_n(n_icl, relation_path)\n",
    "        faith_means.append(np.mean(faithfulness))\n",
    "        faith_stds.append(np.std(faithfulness))\n",
    "        eff_means.append(np.mean(efficacy))\n",
    "        eff_stds.append(np.std(efficacy))\n",
    "        prompt_templates.append(prompt_template)\n",
    "    \n",
    "    faith_means = np.array(faith_means)\n",
    "    faith_stds = np.array(faith_stds)\n",
    "    eff_means = np.array(eff_means)\n",
    "    eff_stds = np.array(eff_stds)\n",
    "    \n",
    "    return prompt_templates, faith_means, faith_stds, eff_means, eff_stds"
   ]
  },
  {
   "cell_type": "code",
   "execution_count": null,
   "metadata": {},
   "outputs": [],
   "source": [
    "prompt_templates, faith_means, faith_stds, eff_means, eff_stds = parse_for_relation(relation = \"country capital city\")"
   ]
  },
  {
   "cell_type": "code",
   "execution_count": null,
   "metadata": {},
   "outputs": [],
   "source": [
    "for relation in os.listdir(path):\n",
    "    print(\"-------------------------\")\n",
    "    print(f\"{relation=}\")\n",
    "    print(\"-------------------------\")\n",
    "    prompt_templates, faith_means, faith_stds, eff_means, eff_stds = parse_for_relation(\n",
    "        relation=relation\n",
    "    )\n",
    "    for i in range(len(prompt_templates)):\n",
    "        line = \"& \\\\texttt{\" + prompt_templates[i].replace('{}', '\\{\\}') + \"} \"\n",
    "        line += f\"& ${faith_means[i]:.2f} \\pm {faith_stds[i]:.2f}$ \"\n",
    "        line += f\"& ${eff_means[i]:.2f} \\pm {eff_stds[i]:.2f}$ \"\n",
    "        line += \"\\\\\\\\\"\n",
    "        print(line)\n",
    "    print(\"\\\\hline\")\n"
   ]
  },
  {
   "cell_type": "code",
   "execution_count": null,
   "metadata": {},
   "outputs": [],
   "source": []
  }
 ],
 "metadata": {
  "kernelspec": {
   "display_name": "Python 3",
   "language": "python",
   "name": "python3"
  },
  "language_info": {
   "codemirror_mode": {
    "name": "ipython",
    "version": 3
   },
   "file_extension": ".py",
   "mimetype": "text/x-python",
   "name": "python",
   "nbconvert_exporter": "python",
   "pygments_lexer": "ipython3",
   "version": "3.10.11"
  }
 },
 "nbformat": 4,
 "nbformat_minor": 2
}
